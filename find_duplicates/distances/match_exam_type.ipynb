{
 "cells": [
  {
   "cell_type": "code",
   "execution_count": 1,
   "id": "26b7cc56",
   "metadata": {},
   "outputs": [],
   "source": [
    "# Attention: im dataset sind englische texte vorhanden"
   ]
  },
  {
   "cell_type": "code",
   "execution_count": 1,
   "id": "9c29c533-1b89-487f-a104-892d5c3134c2",
   "metadata": {},
   "outputs": [],
   "source": [
    "from time import time\n",
    "import math\n",
    "import pandas as pd\n",
    "import numpy as np\n",
    "\n",
    "from sklearn.feature_extraction.text import TfidfVectorizer as skTfidf\n",
    "import cupy as cp           #use cupy array instead of numpy to speed up calculation by using GPU\n",
    "import cudf as cf\n",
    "from cuml.metrics.pairwise_distances import sparse_pairwise_distances\n",
    "from cuml.feature_extraction.text import TfidfVectorizer as cuTfidf\n",
    "from cuml.metrics.pairwise_distances import pairwise_distances\n",
    "\n",
    "\n",
    "import matplotlib.pyplot as plt\n",
    "import sys"
   ]
  },
  {
   "cell_type": "markdown",
   "id": "e63c3d6c",
   "metadata": {},
   "source": [
    "# read corpus.csv and basic analysis show:\n",
    "- there are 985 exam types\n",
    "- majority of the exam types have less than 2000 documents\n",
    "- top 3 percentile of exam types hold the most amount of documents ->\n",
    "- after filtering we still have\n",
    "    - 175724 out of 2590588 entries: df_filtered / original corpus: 0.6783174321814198\n",
    "    - number of exam types after filtering: 30\n",
    "\n",
    "    "
   ]
  },
  {
   "cell_type": "code",
   "execution_count": 3,
   "id": "8453b677-00c1-443e-b0f8-e23086775a3d",
   "metadata": {},
   "outputs": [
    {
     "data": {
      "text/plain": [
       "985"
      ]
     },
     "execution_count": 3,
     "metadata": {},
     "output_type": "execute_result"
    }
   ],
   "source": [
    "df = pd.read_csv('/home/test/data/corpus.csv', encoding='utf-16', index_col='id')\n",
    "df.drop([df.columns[0]], inplace=True, axis=1)\n",
    "df.columns\n",
    "# number of exam types\n",
    "len(set(df['exam_type']))"
   ]
  },
  {
   "cell_type": "code",
   "execution_count": 4,
   "id": "9a05363b-f830-456b-a184-0d1b7bcef62e",
   "metadata": {},
   "outputs": [
    {
     "data": {
      "text/plain": [
       "exam_type\n",
       "ARRT          475040\n",
       "ARRTRBS       449462\n",
       "ARSB          125930\n",
       "ARCK          101225\n",
       "ARRWXEBLWS     63649\n",
       "               ...  \n",
       "ARKEKMXUGB         1\n",
       "ARKEKMXUFB         1\n",
       "ARKBKMXSIG         1\n",
       "ARKBKMXNIB         1\n",
       "ARNPMYOFDG         1\n",
       "Name: exam_type, Length: 984, dtype: int64"
      ]
     },
     "execution_count": 4,
     "metadata": {},
     "output_type": "execute_result"
    }
   ],
   "source": [
    "exam_type_distribution = df.groupby(['exam_type'])['exam_type'].count()\n",
    "exam_type_distribution.sort_values(ascending=False)"
   ]
  },
  {
   "cell_type": "code",
   "execution_count": 5,
   "id": "c40fdcd4-c774-4422-97ba-fedd522ea0bb",
   "metadata": {},
   "outputs": [
    {
     "data": {
      "text/plain": [
       "count       984.000000\n",
       "mean       2276.918699\n",
       "std       21858.631776\n",
       "min           1.000000\n",
       "25%           3.000000\n",
       "50%          13.000000\n",
       "75%         143.250000\n",
       "max      475040.000000\n",
       "Name: exam_type, dtype: float64"
      ]
     },
     "execution_count": 5,
     "metadata": {},
     "output_type": "execute_result"
    }
   ],
   "source": [
    "exam_type_distribution.describe()"
   ]
  },
  {
   "cell_type": "code",
   "execution_count": 6,
   "id": "08dc4f84",
   "metadata": {},
   "outputs": [
    {
     "data": {
      "text/plain": [
       "(array([122.,   2.,   2.,   0.,   0.,   0.,   0.,   0.,   0.,   2.]),\n",
       " array([  1023. ,  48424.7,  95826.4, 143228.1, 190629.8, 238031.5,\n",
       "        285433.2, 332834.9, 380236.6, 427638.3, 475040. ]),\n",
       " <BarContainer object of 10 artists>)"
      ]
     },
     "execution_count": 6,
     "metadata": {},
     "output_type": "execute_result"
    },
    {
     "data": {
      "image/png": "[encoded data removed]",
      "text/plain": [
       "<Figure size 640x480 with 1 Axes>"
      ]
     },
     "metadata": {},
     "output_type": "display_data"
    }
   ],
   "source": [
    "plt.hist(exam_type_distribution[exam_type_distribution > 1000].values)"
   ]
  },
  {
   "cell_type": "code",
   "execution_count": 7,
   "id": "33fb3405",
   "metadata": {},
   "outputs": [
    {
     "data": {
      "text/plain": [
       "0.9593908629441624"
      ]
     },
     "execution_count": 7,
     "metadata": {},
     "output_type": "execute_result"
    }
   ],
   "source": [
    "len(exam_type_distribution[exam_type_distribution < 10000]) / len(set(df['exam_type']))"
   ]
  },
  {
   "cell_type": "code",
   "execution_count": 8,
   "id": "7cea5de4",
   "metadata": {},
   "outputs": [
    {
     "name": "stdout",
     "output_type": "stream",
     "text": [
      "Exam types with less than 10 documents:  447\n",
      "Exam types with less than 100 documents:  707\n",
      "Exam types with less than 1000 documents:  856\n",
      "Exam types with less than 10000 documents:  945\n",
      "out of total types of exams  945 / 984 0.9593908629441624\n"
     ]
    }
   ],
   "source": [
    "print('Exam types with less than 10 documents: ', len(exam_type_distribution[exam_type_distribution < 10]))\n",
    "print('Exam types with less than 100 documents: ', len(exam_type_distribution[exam_type_distribution < 100]))\n",
    "print('Exam types with less than 1000 documents: ', len(exam_type_distribution[exam_type_distribution < 1000]))\n",
    "print('Exam types with less than 10000 documents: ', len(exam_type_distribution[exam_type_distribution < 10000]))\n",
    "print('out of total types of exams  945 / 984', len(exam_type_distribution[exam_type_distribution < 10000]) / len(set(df['exam_type'])))"
   ]
  },
  {
   "cell_type": "code",
   "execution_count": 9,
   "id": "6913f709",
   "metadata": {},
   "outputs": [
    {
     "data": {
      "text/plain": [
       "[<matplotlib.lines.Line2D at 0x7f4bbe7cba60>]"
      ]
     },
     "execution_count": 9,
     "metadata": {},
     "output_type": "execute_result"
    },
    {
     "data": {
      "image/png": "[encoded data removed]",
      "text/plain": [
       "<Figure size 640x480 with 1 Axes>"
      ]
     },
     "metadata": {},
     "output_type": "display_data"
    }
   ],
   "source": [
    "plt.plot(exam_type_distribution[exam_type_distribution > np.percentile(exam_type_distribution, 90)].sort_values(ascending=False))"
   ]
  },
  {
   "cell_type": "code",
   "execution_count": 10,
   "id": "7ae2ce37",
   "metadata": {},
   "outputs": [
    {
     "data": {
      "text/plain": [
       "[<matplotlib.lines.Line2D at 0x7f4bbe664d60>]"
      ]
     },
     "execution_count": 10,
     "metadata": {},
     "output_type": "execute_result"
    },
    {
     "data": {
      "image/png": "[encoded data removed]",
      "text/plain": [
       "<Figure size 640x480 with 1 Axes>"
      ]
     },
     "metadata": {},
     "output_type": "display_data"
    }
   ],
   "source": [
    "plt.plot(exam_type_distribution[exam_type_distribution > np.percentile(exam_type_distribution, 99)].sort_values(ascending=False))"
   ]
  },
  {
   "cell_type": "code",
   "execution_count": 11,
   "id": "2162a4be",
   "metadata": {},
   "outputs": [
    {
     "data": {
      "text/plain": [
       "[<matplotlib.lines.Line2D at 0x7f4bb8262f70>]"
      ]
     },
     "execution_count": 11,
     "metadata": {},
     "output_type": "execute_result"
    },
    {
     "data": {
      "image/png": "[encoded data removed]",
      "text/plain": [
       "<Figure size 640x480 with 1 Axes>"
      ]
     },
     "metadata": {},
     "output_type": "display_data"
    }
   ],
   "source": [
    "# 97th percentile\n",
    "plt.plot(exam_type_distribution[exam_type_distribution > np.percentile(exam_type_distribution, 97)].sort_values(ascending=False))"
   ]
  },
  {
   "cell_type": "code",
   "execution_count": 12,
   "id": "ddb3291f",
   "metadata": {},
   "outputs": [],
   "source": [
    "# Set your desired filter threshold here: (97% used in this notebook)\n",
    "filter_value = np.percentile(exam_type_distribution, 97)"
   ]
  },
  {
   "cell_type": "code",
   "execution_count": 13,
   "id": "74dfd33e",
   "metadata": {},
   "outputs": [
    {
     "data": {
      "text/plain": [
       "2098.0000000000005"
      ]
     },
     "execution_count": 13,
     "metadata": {},
     "output_type": "execute_result"
    }
   ],
   "source": [
    "np.percentile(exam_type_distribution, 90)"
   ]
  },
  {
   "cell_type": "code",
   "execution_count": 14,
   "id": "947ca66f",
   "metadata": {},
   "outputs": [],
   "source": [
    "list_filtered = exam_type_distribution[exam_type_distribution > filter_value]\n",
    "df_filtered = df[df['exam_type'].isin(list_filtered.index)]"
   ]
  },
  {
   "cell_type": "code",
   "execution_count": 15,
   "id": "ba789c85",
   "metadata": {},
   "outputs": [
    {
     "name": "stdout",
     "output_type": "stream",
     "text": [
      "original dataframe shape: (2590588, 4)\n",
      "df_filtered shape: (1757241, 4)\n",
      "df_filtered / original: 0.6783174321814198\n",
      "number of exam types after filtering: 30\n"
     ]
    },
    {
     "data": {
      "text/html": [
       "<div>\n",
       "<style scoped>\n",
       "    .dataframe tbody tr th:only-of-type {\n",
       "        vertical-align: middle;\n",
       "    }\n",
       "\n",
       "    .dataframe tbody tr th {\n",
       "        vertical-align: top;\n",
       "    }\n",
       "\n",
       "    .dataframe thead th {\n",
       "        text-align: right;\n",
       "    }\n",
       "</style>\n",
       "<table border=\"1\" class=\"dataframe\">\n",
       "  <thead>\n",
       "    <tr style=\"text-align: right;\">\n",
       "      <th></th>\n",
       "      <th>exam_type</th>\n",
       "    </tr>\n",
       "    <tr>\n",
       "      <th>exam_type</th>\n",
       "      <th></th>\n",
       "    </tr>\n",
       "  </thead>\n",
       "  <tbody>\n",
       "    <tr>\n",
       "      <th>ARRT</th>\n",
       "      <td>475040</td>\n",
       "    </tr>\n",
       "    <tr>\n",
       "      <th>ARRTRBS</th>\n",
       "      <td>449462</td>\n",
       "    </tr>\n",
       "    <tr>\n",
       "      <th>ARSB</th>\n",
       "      <td>125930</td>\n",
       "    </tr>\n",
       "    <tr>\n",
       "      <th>ARCK</th>\n",
       "      <td>101225</td>\n",
       "    </tr>\n",
       "    <tr>\n",
       "      <th>ARRWXEBLWS</th>\n",
       "      <td>63649</td>\n",
       "    </tr>\n",
       "    <tr>\n",
       "      <th>ARRB1EBBEK</th>\n",
       "      <td>60102</td>\n",
       "    </tr>\n",
       "    <tr>\n",
       "      <th>ARRKOPG</th>\n",
       "      <td>37380</td>\n",
       "    </tr>\n",
       "    <tr>\n",
       "      <th>ARRBXEB</th>\n",
       "      <td>29170</td>\n",
       "    </tr>\n",
       "    <tr>\n",
       "      <th>ARRWXEBHWS</th>\n",
       "      <td>27806</td>\n",
       "    </tr>\n",
       "    <tr>\n",
       "      <th>ARKK</th>\n",
       "      <td>27745</td>\n",
       "    </tr>\n",
       "    <tr>\n",
       "      <th>ARXXTLE</th>\n",
       "      <td>26950</td>\n",
       "    </tr>\n",
       "    <tr>\n",
       "      <th>ARSBSNONIX</th>\n",
       "      <td>23774</td>\n",
       "    </tr>\n",
       "    <tr>\n",
       "      <th>ARREXEBUKR</th>\n",
       "      <td>21999</td>\n",
       "    </tr>\n",
       "    <tr>\n",
       "      <th>ARREXEBUKL</th>\n",
       "      <td>21848</td>\n",
       "    </tr>\n",
       "    <tr>\n",
       "      <th>ARSEFKVUVX</th>\n",
       "      <td>21143</td>\n",
       "    </tr>\n",
       "    <tr>\n",
       "      <th>ARREXEBOSR</th>\n",
       "      <td>20128</td>\n",
       "    </tr>\n",
       "    <tr>\n",
       "      <th>ARREXEBUGR</th>\n",
       "      <td>19229</td>\n",
       "    </tr>\n",
       "    <tr>\n",
       "      <th>ARREXEBOHL</th>\n",
       "      <td>17940</td>\n",
       "    </tr>\n",
       "    <tr>\n",
       "      <th>ARREXEBOGL</th>\n",
       "      <td>17807</td>\n",
       "    </tr>\n",
       "    <tr>\n",
       "      <th>ARREXEBOSL</th>\n",
       "      <td>17503</td>\n",
       "    </tr>\n",
       "    <tr>\n",
       "      <th>ARREXEBUGL</th>\n",
       "      <td>17201</td>\n",
       "    </tr>\n",
       "    <tr>\n",
       "      <th>ARCW</th>\n",
       "      <td>16481</td>\n",
       "    </tr>\n",
       "    <tr>\n",
       "      <th>ARREXEBUFR</th>\n",
       "      <td>15478</td>\n",
       "    </tr>\n",
       "    <tr>\n",
       "      <th>ARREXEBOGR</th>\n",
       "      <td>15252</td>\n",
       "    </tr>\n",
       "    <tr>\n",
       "      <th>ARKW</th>\n",
       "      <td>15084</td>\n",
       "    </tr>\n",
       "    <tr>\n",
       "      <th>ARSBSNOTXN</th>\n",
       "      <td>14661</td>\n",
       "    </tr>\n",
       "    <tr>\n",
       "      <th>ARSESNOUXX</th>\n",
       "      <td>14513</td>\n",
       "    </tr>\n",
       "    <tr>\n",
       "      <th>ARREXEBO9R</th>\n",
       "      <td>14477</td>\n",
       "    </tr>\n",
       "    <tr>\n",
       "      <th>ARREXEBUFL</th>\n",
       "      <td>14450</td>\n",
       "    </tr>\n",
       "    <tr>\n",
       "      <th>ARREXEBO9L</th>\n",
       "      <td>13814</td>\n",
       "    </tr>\n",
       "  </tbody>\n",
       "</table>\n",
       "</div>"
      ],
      "text/plain": [
       "            exam_type\n",
       "exam_type            \n",
       "ARRT           475040\n",
       "ARRTRBS        449462\n",
       "ARSB           125930\n",
       "ARCK           101225\n",
       "ARRWXEBLWS      63649\n",
       "ARRB1EBBEK      60102\n",
       "ARRKOPG         37380\n",
       "ARRBXEB         29170\n",
       "ARRWXEBHWS      27806\n",
       "ARKK            27745\n",
       "ARXXTLE         26950\n",
       "ARSBSNONIX      23774\n",
       "ARREXEBUKR      21999\n",
       "ARREXEBUKL      21848\n",
       "ARSEFKVUVX      21143\n",
       "ARREXEBOSR      20128\n",
       "ARREXEBUGR      19229\n",
       "ARREXEBOHL      17940\n",
       "ARREXEBOGL      17807\n",
       "ARREXEBOSL      17503\n",
       "ARREXEBUGL      17201\n",
       "ARCW            16481\n",
       "ARREXEBUFR      15478\n",
       "ARREXEBOGR      15252\n",
       "ARKW            15084\n",
       "ARSBSNOTXN      14661\n",
       "ARSESNOUXX      14513\n",
       "ARREXEBO9R      14477\n",
       "ARREXEBUFL      14450\n",
       "ARREXEBO9L      13814"
      ]
     },
     "execution_count": 15,
     "metadata": {},
     "output_type": "execute_result"
    }
   ],
   "source": [
    "print(f'original dataframe shape: {df.shape}')\n",
    "print(f'df_filtered shape: {df_filtered.shape}')\n",
    "print(f'df_filtered / original: {df_filtered.shape[0] / df.shape[0]}')\n",
    "print(f'number of exam types after filtering: {len(set(df_filtered[\"exam_type\"]))}')\n",
    "list_filtered.sort_values(ascending=False).to_frame()"
   ]
  },
  {
   "cell_type": "code",
   "execution_count": 16,
   "id": "6a4f0f7d",
   "metadata": {},
   "outputs": [
    {
     "data": {
      "text/html": [
       "<div>\n",
       "<style scoped>\n",
       "    .dataframe tbody tr th:only-of-type {\n",
       "        vertical-align: middle;\n",
       "    }\n",
       "\n",
       "    .dataframe tbody tr th {\n",
       "        vertical-align: top;\n",
       "    }\n",
       "\n",
       "    .dataframe thead th {\n",
       "        text-align: right;\n",
       "    }\n",
       "</style>\n",
       "<table border=\"1\" class=\"dataframe\">\n",
       "  <thead>\n",
       "    <tr style=\"text-align: right;\">\n",
       "      <th></th>\n",
       "      <th>text</th>\n",
       "      <th>words</th>\n",
       "      <th>accession_number</th>\n",
       "      <th>exam_type</th>\n",
       "    </tr>\n",
       "    <tr>\n",
       "      <th>id</th>\n",
       "      <th></th>\n",
       "      <th></th>\n",
       "      <th></th>\n",
       "      <th></th>\n",
       "    </tr>\n",
       "  </thead>\n",
       "  <tbody>\n",
       "    <tr>\n",
       "      <th>4</th>\n",
       "      <td>Orthopantomographie vom    Klinik Fragestellun...</td>\n",
       "      <td>52</td>\n",
       "      <td>9143773.0</td>\n",
       "      <td>ARRKOPG</td>\n",
       "    </tr>\n",
       "    <tr>\n",
       "      <th>5</th>\n",
       "      <td>Thorax bed side auf Station vom   Uhr   Klinik...</td>\n",
       "      <td>76</td>\n",
       "      <td>9143455.0</td>\n",
       "      <td>ARRTRBS</td>\n",
       "    </tr>\n",
       "    <tr>\n",
       "      <th>6</th>\n",
       "      <td>CT BWS vom  CT ergänzende Serie vom    Klinik ...</td>\n",
       "      <td>88</td>\n",
       "      <td>9143657.0</td>\n",
       "      <td>ARCW</td>\n",
       "    </tr>\n",
       "    <tr>\n",
       "      <th>8</th>\n",
       "      <td>Thorax bed side auf Station vom   Uhr   Klinik...</td>\n",
       "      <td>57</td>\n",
       "      <td>9143413.0</td>\n",
       "      <td>ARRTRBS</td>\n",
       "    </tr>\n",
       "    <tr>\n",
       "      <th>11</th>\n",
       "      <td>Teleradiologische Befundung vom   Klinik Frage...</td>\n",
       "      <td>101</td>\n",
       "      <td>9143787.0</td>\n",
       "      <td>ARXXTLE</td>\n",
       "    </tr>\n",
       "    <tr>\n",
       "      <th>...</th>\n",
       "      <td>...</td>\n",
       "      <td>...</td>\n",
       "      <td>...</td>\n",
       "      <td>...</td>\n",
       "    </tr>\n",
       "    <tr>\n",
       "      <th>4504138</th>\n",
       "      <td>Sonographie Nieren vom   Anamnese Abklärung M...</td>\n",
       "      <td>75</td>\n",
       "      <td>7187414.0</td>\n",
       "      <td>ARSBSNONIX</td>\n",
       "    </tr>\n",
       "    <tr>\n",
       "      <th>4504140</th>\n",
       "      <td>Sonographie gesamtes Abdomen vom   Befund Insg...</td>\n",
       "      <td>63</td>\n",
       "      <td>7173534.0</td>\n",
       "      <td>ARSB</td>\n",
       "    </tr>\n",
       "    <tr>\n",
       "      <th>4504142</th>\n",
       "      <td>Thorax bed side auf Station vom   Uhr  Anamnes...</td>\n",
       "      <td>60</td>\n",
       "      <td>7187879.0</td>\n",
       "      <td>ARRTRBS</td>\n",
       "    </tr>\n",
       "    <tr>\n",
       "      <th>4504143</th>\n",
       "      <td>Klinik FG + SSW am  klinische Verschlechterung...</td>\n",
       "      <td>68</td>\n",
       "      <td>7187321.0</td>\n",
       "      <td>ARRTRBS</td>\n",
       "    </tr>\n",
       "    <tr>\n",
       "      <th>4504144</th>\n",
       "      <td>Sonographie gesamtes Abdomen vom   Klinik Ober...</td>\n",
       "      <td>85</td>\n",
       "      <td>7187855.0</td>\n",
       "      <td>ARSB</td>\n",
       "    </tr>\n",
       "  </tbody>\n",
       "</table>\n",
       "<p>1757241 rows × 4 columns</p>\n",
       "</div>"
      ],
      "text/plain": [
       "                                                      text  words  \\\n",
       "id                                                                  \n",
       "4        Orthopantomographie vom    Klinik Fragestellun...     52   \n",
       "5        Thorax bed side auf Station vom   Uhr   Klinik...     76   \n",
       "6        CT BWS vom  CT ergänzende Serie vom    Klinik ...     88   \n",
       "8        Thorax bed side auf Station vom   Uhr   Klinik...     57   \n",
       "11       Teleradiologische Befundung vom   Klinik Frage...    101   \n",
       "...                                                    ...    ...   \n",
       "4504138   Sonographie Nieren vom   Anamnese Abklärung M...     75   \n",
       "4504140  Sonographie gesamtes Abdomen vom   Befund Insg...     63   \n",
       "4504142  Thorax bed side auf Station vom   Uhr  Anamnes...     60   \n",
       "4504143  Klinik FG + SSW am  klinische Verschlechterung...     68   \n",
       "4504144  Sonographie gesamtes Abdomen vom   Klinik Ober...     85   \n",
       "\n",
       "         accession_number   exam_type  \n",
       "id                                     \n",
       "4               9143773.0     ARRKOPG  \n",
       "5               9143455.0     ARRTRBS  \n",
       "6               9143657.0        ARCW  \n",
       "8               9143413.0     ARRTRBS  \n",
       "11              9143787.0     ARXXTLE  \n",
       "...                   ...         ...  \n",
       "4504138         7187414.0  ARSBSNONIX  \n",
       "4504140         7173534.0        ARSB  \n",
       "4504142         7187879.0     ARRTRBS  \n",
       "4504143         7187321.0     ARRTRBS  \n",
       "4504144         7187855.0        ARSB  \n",
       "\n",
       "[1757241 rows x 4 columns]"
      ]
     },
     "execution_count": 16,
     "metadata": {},
     "output_type": "execute_result"
    }
   ],
   "source": [
    "df_filtered"
   ]
  },
  {
   "cell_type": "markdown",
   "id": "3c21d978",
   "metadata": {},
   "source": [
    "# create a new dataframe with the filtered exam types and their closest matches\n"
   ]
  },
  {
   "cell_type": "code",
   "execution_count": 17,
   "id": "59e7b1bb",
   "metadata": {},
   "outputs": [],
   "source": [
    "# create a function to wrap the for choice in choices loop\n",
    "# input: - dataframe (df), \n",
    "#        - filter_value for minimum number of documents per exam type, \n",
    "#        - # ngrams for tfIdf vectorizer, default(1,1) for bigram use (2,2) \n",
    "#        - batch_size to manage distance calculation, default 12500\n",
    "#        - upper and lowerbound to save the results, default 0.2 and 0.001\n",
    "# output: - dictionary with the results"
   ]
  },
  {
   "cell_type": "code",
   "execution_count": 6,
   "id": "02b5a44e",
   "metadata": {},
   "outputs": [],
   "source": [
    "def load_frame(path_to_df='/home/test/data/corpus.csv', encoding='utf-16', filter_value = 100000):\n",
    "    \n",
    "    df= pd.read_csv(path_to_df, encoding=encoding, index_col='id')\n",
    "    df.drop([df.columns[0]], inplace=True, axis=1)\n",
    "    \n",
    "    exam_type_distribution = df.groupby(['exam_type'])['exam_type'].count()\n",
    "    exam_type_distribution.sort_values(ascending=False)\n",
    "    \n",
    "    list_filtered = exam_type_distribution[exam_type_distribution > filter_value].index\n",
    "    df_filtered = df[df['exam_type'].isin(list_filtered)]\n",
    "    \n",
    "    print(f'original dataframe shape: {df.shape}')\n",
    "    print(f'df_filtered shape: {df_filtered.shape}')\n",
    "    \n",
    "    print(f'numbers of exam types before: {len(set(df[\"exam_type\"]))}')\n",
    "    print(f'types after filtering: {list_filtered}')\n",
    "    print(f'number of exam types after filtering: {len(set(df_filtered[\"exam_type\"]))}')\n",
    "\n",
    "    return df_filtered, list_filtered"
   ]
  },
  {
   "cell_type": "code",
   "execution_count": 3,
   "id": "cb16db65",
   "metadata": {},
   "outputs": [],
   "source": [
    "# define a load function to load each exam type\n",
    "def load_exam_type(df, exam_types):\n",
    "    for i in exam_types:\n",
    "        print(f'exam type: {i}')\n",
    "        dataframe = df[df['exam_type'] == i]    \n",
    "        print(f'number of documents: {dataframe.shape}')\n",
    "        yield dataframe"
   ]
  },
  {
   "cell_type": "code",
   "execution_count": 7,
   "id": "e0e623f2",
   "metadata": {},
   "outputs": [],
   "source": [
    "# create a function to list all entries with the its similarity inside a threshhold\n",
    "def get_close_matches(upperbound=0.2, lowerbound=0.001, batch_size=12000, filter=100000):\n",
    "    # create a dictionary to store the results\n",
    "    results_dict = {}\n",
    "    print(f'upperbound: {upperbound}')\n",
    "    print(f'lowerbound: {lowerbound}')\n",
    "\n",
    "    # start with loading the dataframe\n",
    "    df_filtered = load_frame(filter_value = filter)\n",
    "    df_by_type = load_exam_type(df_filtered[0], df_filtered[1])\n",
    "\n",
    "    # loop over all exam types\n",
    "    for i in range(0,len(df_filtered[1])):\n",
    "        dataframe = next(df_by_type)\n",
    "        #print(f'exam type: {dataframe[\"exam_type\"].iloc[0]}')\n",
    "        for idx, batch in enumerate(range(0, len(dataframe), batch_size)):\n",
    "            batch_info = f'batch number {idx}, rows {batch}:{batch + batch_size}'\n",
    "            print(batch_info)\n",
    "            # transform the batchch+batch_size].index[i],\n",
    "            # create a tfIdf vectorizer and fit and transform the documents\n",
    "            batch_dataframe = dataframe.iloc[batch:batch + batch_size]\n",
    "            tfidf_batch = cuTfidf().fit_transform(dataframe['text'][batch:batch + batch_size])\n",
    "            print(f'tfidf shape:{tfidf_batch.shape}')\n",
    "\n",
    "            # calculate the euclidean distance\n",
    "            distances_batch = sparse_pairwise_distances(tfidf_batch, metric='euclidean')\n",
    "\n",
    "            euclidean_distance(distances_batch, batch_dataframe, results_dict, \n",
    "                         upperbound=upperbound, lowerbound=lowerbound, )\n",
    "            \n",
    "        #     break\n",
    "        # break\n",
    "    return results_dict\n"
   ]
  },
  {
   "cell_type": "code",
   "execution_count": 43,
   "id": "f0882bff",
   "metadata": {},
   "outputs": [],
   "source": [
    "# define a function to calculate the euclidean distance of a batch of documents \n",
    "# and return the neighbours based on the threshold\n",
    "def euclidean_distance(distance_batch, batch_dataframe, results_dict, \n",
    "                        upperbound=0.15, lowerbound=0.05, ):\n",
    "    for i, row in enumerate(distance_batch):\n",
    "\n",
    "        arg_sorted_row = cp.argsort(row)\n",
    "        \n",
    "        value_row = row[arg_sorted_row]\n",
    "        \n",
    "        \n",
    "        # save the most extrem sample\n",
    "        if value_row[1] < upperbound and value_row[1] > lowerbound:\n",
    "            # print(f'row {i}')\n",
    "            # print(f'raw: {row}')\n",
    "            # print(f'arg_sorted: {arg_sorted_row}')\n",
    "            # print(f'distances: {value_row}, {value_row[1]}')\n",
    "\n",
    "            # find all values with inside the threshold\n",
    "            closest_indexes = [int(arg_sorted_row[i]) for i, x in enumerate(value_row) if x < upperbound and x > lowerbound]\n",
    "            # print(f'threshhold candidates: {closest_indexes}')\n",
    "    \n",
    "            original_index = batch_dataframe.index[i]\n",
    "            # print(original_index)\n",
    "            # print(batch_dataframe.loc[original_index]['text'])\n",
    "        \n",
    "            closest_index_original = [batch_dataframe.index[i] for i in closest_indexes]\n",
    "            # print(closest_index_original)\n",
    "            # print(batch_dataframe.loc[closest_index_original[0]]['text'])\n",
    "            closest_distances = [value_row[i] for i in closest_indexes]\n",
    "\n",
    "            results_dict[original_index] = (closest_index_original, closest_distances)\n",
    "\n",
    "\n",
    "\n",
    "    return results_dict"
   ]
  },
  {
   "cell_type": "code",
   "execution_count": 3,
   "id": "0c735df9",
   "metadata": {},
   "outputs": [
    {
     "ename": "NameError",
     "evalue": "name 'cp' is not defined",
     "output_type": "error",
     "traceback": [
      "\u001b[0;31m---------------------------------------------------------------------------\u001b[0m",
      "\u001b[0;31mNameError\u001b[0m                                 Traceback (most recent call last)",
      "Cell \u001b[0;32mIn [3], line 3\u001b[0m\n\u001b[1;32m      1\u001b[0m \u001b[38;5;66;03m# create a random array of 100 numbers between 0 and 1.5\u001b[39;00m\n\u001b[0;32m----> 3\u001b[0m random_array \u001b[38;5;241m=\u001b[39m \u001b[43mcp\u001b[49m\u001b[38;5;241m.\u001b[39mrandom\u001b[38;5;241m.\u001b[39muniform(\u001b[38;5;241m0\u001b[39m, \u001b[38;5;241m1.5\u001b[39m, \u001b[38;5;241m100\u001b[39m)\n\u001b[1;32m      5\u001b[0m \u001b[38;5;66;03m# argsort the array\u001b[39;00m\n\u001b[1;32m      6\u001b[0m sorted_array \u001b[38;5;241m=\u001b[39m cp\u001b[38;5;241m.\u001b[39margsort(random_array)\n",
      "\u001b[0;31mNameError\u001b[0m: name 'cp' is not defined"
     ]
    }
   ],
   "source": []
  },
  {
   "cell_type": "code",
   "execution_count": 44,
   "id": "4367f2dc",
   "metadata": {},
   "outputs": [
    {
     "name": "stdout",
     "output_type": "stream",
     "text": [
      "upperbound: 0.08\n",
      "lowerbound: 0.001\n",
      "original dataframe shape: (2590588, 4)\n",
      "df_filtered shape: (1151657, 4)\n",
      "numbers of exam types before: 985\n",
      "types after filtering: Index(['ARCK', 'ARRT', 'ARRTRBS', 'ARSB'], dtype='object', name='exam_type')\n",
      "number of exam types after filtering: 4\n",
      "exam type: ARCK\n",
      "number of documents: (101225, 4)\n",
      "batch number 0, rows 0:12000\n",
      "tfidf shape:(12000, 21087)\n",
      "batch number 1, rows 12000:24000\n",
      "tfidf shape:(12000, 21052)\n",
      "batch number 2, rows 24000:36000\n",
      "tfidf shape:(12000, 20977)\n",
      "batch number 3, rows 36000:48000\n",
      "tfidf shape:(12000, 21013)\n",
      "batch number 4, rows 48000:60000\n",
      "tfidf shape:(12000, 20942)\n",
      "batch number 5, rows 60000:72000\n",
      "tfidf shape:(12000, 21120)\n",
      "batch number 6, rows 72000:84000\n",
      "tfidf shape:(12000, 20785)\n",
      "batch number 7, rows 84000:96000\n",
      "tfidf shape:(12000, 20915)\n",
      "batch number 8, rows 96000:108000\n",
      "tfidf shape:(5225, 13360)\n",
      "exam type: ARRT\n",
      "number of documents: (475040, 4)\n",
      "batch number 0, rows 0:12000\n",
      "tfidf shape:(12000, 17840)\n",
      "batch number 1, rows 12000:24000\n",
      "tfidf shape:(12000, 17478)\n",
      "batch number 2, rows 24000:36000\n",
      "tfidf shape:(12000, 17654)\n",
      "batch number 3, rows 36000:48000\n",
      "tfidf shape:(12000, 17875)\n",
      "batch number 4, rows 48000:60000\n",
      "tfidf shape:(12000, 17735)\n",
      "batch number 5, rows 60000:72000\n",
      "tfidf shape:(12000, 17451)\n",
      "batch number 6, rows 72000:84000\n",
      "tfidf shape:(12000, 17591)\n",
      "batch number 7, rows 84000:96000\n",
      "tfidf shape:(12000, 17700)\n",
      "batch number 8, rows 96000:108000\n",
      "tfidf shape:(12000, 17734)\n",
      "batch number 9, rows 108000:120000\n",
      "tfidf shape:(12000, 17744)\n",
      "batch number 10, rows 120000:132000\n",
      "tfidf shape:(12000, 17881)\n",
      "batch number 11, rows 132000:144000\n",
      "tfidf shape:(12000, 17747)\n",
      "batch number 12, rows 144000:156000\n",
      "tfidf shape:(12000, 17682)\n",
      "batch number 13, rows 156000:168000\n",
      "tfidf shape:(12000, 18090)\n",
      "batch number 14, rows 168000:180000\n",
      "tfidf shape:(12000, 17994)\n",
      "batch number 15, rows 180000:192000\n",
      "tfidf shape:(12000, 17793)\n",
      "batch number 16, rows 192000:204000\n",
      "tfidf shape:(12000, 17997)\n",
      "batch number 17, rows 204000:216000\n",
      "tfidf shape:(12000, 18053)\n",
      "batch number 18, rows 216000:228000\n",
      "tfidf shape:(12000, 17856)\n",
      "batch number 19, rows 228000:240000\n",
      "tfidf shape:(12000, 17842)\n",
      "batch number 20, rows 240000:252000\n",
      "tfidf shape:(12000, 17728)\n",
      "batch number 21, rows 252000:264000\n",
      "tfidf shape:(12000, 17954)\n",
      "batch number 22, rows 264000:276000\n",
      "tfidf shape:(12000, 17962)\n",
      "batch number 23, rows 276000:288000\n",
      "tfidf shape:(12000, 17545)\n",
      "batch number 24, rows 288000:300000\n",
      "tfidf shape:(12000, 17974)\n",
      "batch number 25, rows 300000:312000\n",
      "tfidf shape:(12000, 17488)\n",
      "batch number 26, rows 312000:324000\n",
      "tfidf shape:(12000, 17907)\n",
      "batch number 27, rows 324000:336000\n",
      "tfidf shape:(12000, 17835)\n",
      "batch number 28, rows 336000:348000\n",
      "tfidf shape:(12000, 17901)\n",
      "batch number 29, rows 348000:360000\n",
      "tfidf shape:(12000, 18003)\n",
      "batch number 30, rows 360000:372000\n",
      "tfidf shape:(12000, 17785)\n",
      "batch number 31, rows 372000:384000\n",
      "tfidf shape:(12000, 17631)\n",
      "batch number 32, rows 384000:396000\n",
      "tfidf shape:(12000, 17656)\n",
      "batch number 33, rows 396000:408000\n",
      "tfidf shape:(12000, 17843)\n",
      "batch number 34, rows 408000:420000\n",
      "tfidf shape:(12000, 17779)\n",
      "batch number 35, rows 420000:432000\n",
      "tfidf shape:(12000, 17776)\n",
      "batch number 36, rows 432000:444000\n",
      "tfidf shape:(12000, 17949)\n",
      "batch number 37, rows 444000:456000\n",
      "tfidf shape:(12000, 17736)\n",
      "batch number 38, rows 456000:468000\n",
      "tfidf shape:(12000, 18156)\n",
      "batch number 39, rows 468000:480000\n",
      "tfidf shape:(7040, 13397)\n",
      "exam type: ARRTRBS\n",
      "number of documents: (449462, 4)\n",
      "batch number 0, rows 0:12000\n",
      "tfidf shape:(12000, 13423)\n",
      "batch number 1, rows 12000:24000\n",
      "tfidf shape:(12000, 13382)\n",
      "batch number 2, rows 24000:36000\n",
      "tfidf shape:(12000, 13345)\n",
      "batch number 3, rows 36000:48000\n",
      "tfidf shape:(12000, 13446)\n",
      "batch number 4, rows 48000:60000\n",
      "tfidf shape:(12000, 12948)\n",
      "batch number 5, rows 60000:72000\n",
      "tfidf shape:(12000, 13271)\n",
      "batch number 6, rows 72000:84000\n",
      "tfidf shape:(12000, 13622)\n",
      "batch number 7, rows 84000:96000\n",
      "tfidf shape:(12000, 13252)\n",
      "batch number 8, rows 96000:108000\n",
      "tfidf shape:(12000, 13262)\n",
      "batch number 9, rows 108000:120000\n",
      "tfidf shape:(12000, 13269)\n",
      "batch number 10, rows 120000:132000\n",
      "tfidf shape:(12000, 13163)\n",
      "batch number 11, rows 132000:144000\n",
      "tfidf shape:(12000, 13333)\n",
      "batch number 12, rows 144000:156000\n",
      "tfidf shape:(12000, 13242)\n",
      "batch number 13, rows 156000:168000\n",
      "tfidf shape:(12000, 13394)\n",
      "batch number 14, rows 168000:180000\n",
      "tfidf shape:(12000, 13166)\n",
      "batch number 15, rows 180000:192000\n",
      "tfidf shape:(12000, 13613)\n",
      "batch number 16, rows 192000:204000\n",
      "tfidf shape:(12000, 13251)\n",
      "batch number 17, rows 204000:216000\n",
      "tfidf shape:(12000, 13707)\n",
      "batch number 18, rows 216000:228000\n",
      "tfidf shape:(12000, 13408)\n",
      "batch number 19, rows 228000:240000\n",
      "tfidf shape:(12000, 13128)\n",
      "batch number 20, rows 240000:252000\n",
      "tfidf shape:(12000, 13041)\n",
      "batch number 21, rows 252000:264000\n",
      "tfidf shape:(12000, 13386)\n",
      "batch number 22, rows 264000:276000\n",
      "tfidf shape:(12000, 13337)\n",
      "batch number 23, rows 276000:288000\n",
      "tfidf shape:(12000, 13317)\n",
      "batch number 24, rows 288000:300000\n",
      "tfidf shape:(12000, 13315)\n",
      "batch number 25, rows 300000:312000\n",
      "tfidf shape:(12000, 13463)\n",
      "batch number 26, rows 312000:324000\n",
      "tfidf shape:(12000, 13337)\n",
      "batch number 27, rows 324000:336000\n",
      "tfidf shape:(12000, 13221)\n",
      "batch number 28, rows 336000:348000\n",
      "tfidf shape:(12000, 13342)\n",
      "batch number 29, rows 348000:360000\n",
      "tfidf shape:(12000, 13370)\n",
      "batch number 30, rows 360000:372000\n",
      "tfidf shape:(12000, 13326)\n",
      "batch number 31, rows 372000:384000\n",
      "tfidf shape:(12000, 13242)\n",
      "batch number 32, rows 384000:396000\n",
      "tfidf shape:(12000, 13426)\n",
      "batch number 33, rows 396000:408000\n",
      "tfidf shape:(12000, 13256)\n",
      "batch number 34, rows 408000:420000\n",
      "tfidf shape:(12000, 13253)\n",
      "batch number 35, rows 420000:432000\n",
      "tfidf shape:(12000, 13236)\n",
      "batch number 36, rows 432000:444000\n",
      "tfidf shape:(12000, 13542)\n",
      "batch number 37, rows 444000:456000\n",
      "tfidf shape:(5462, 8996)\n",
      "exam type: ARSB\n",
      "number of documents: (125930, 4)\n",
      "batch number 0, rows 0:12000\n",
      "tfidf shape:(12000, 22926)\n",
      "batch number 1, rows 12000:24000\n",
      "tfidf shape:(12000, 22886)\n",
      "batch number 2, rows 24000:36000\n",
      "tfidf shape:(12000, 22881)\n",
      "batch number 3, rows 36000:48000\n",
      "tfidf shape:(12000, 22707)\n",
      "batch number 4, rows 48000:60000\n",
      "tfidf shape:(12000, 22685)\n",
      "batch number 5, rows 60000:72000\n",
      "tfidf shape:(12000, 22849)\n",
      "batch number 6, rows 72000:84000\n",
      "tfidf shape:(12000, 22794)\n",
      "batch number 7, rows 84000:96000\n",
      "tfidf shape:(12000, 23031)\n",
      "batch number 8, rows 96000:108000\n",
      "tfidf shape:(12000, 22887)\n",
      "batch number 9, rows 108000:120000\n",
      "tfidf shape:(12000, 23052)\n",
      "batch number 10, rows 120000:132000\n",
      "tfidf shape:(5930, 15549)\n"
     ]
    }
   ],
   "source": [
    "a = get_close_matches(upperbound=.08)"
   ]
  },
  {
   "cell_type": "code",
   "execution_count": 1,
   "id": "f2c00bd2",
   "metadata": {},
   "outputs": [
    {
     "ename": "NameError",
     "evalue": "name 'a' is not defined",
     "output_type": "error",
     "traceback": [
      "\u001b[0;31m---------------------------------------------------------------------------\u001b[0m",
      "\u001b[0;31mNameError\u001b[0m                                 Traceback (most recent call last)",
      "Cell \u001b[0;32mIn [1], line 1\u001b[0m\n\u001b[0;32m----> 1\u001b[0m \u001b[38;5;28mlen\u001b[39m(\u001b[43ma\u001b[49m)\n\u001b[1;32m      2\u001b[0m a\n",
      "\u001b[0;31mNameError\u001b[0m: name 'a' is not defined"
     ]
    }
   ],
   "source": [
    "len(a)\n",
    "a\n"
   ]
  },
  {
   "cell_type": "code",
   "execution_count": 46,
   "id": "a6626e36",
   "metadata": {},
   "outputs": [
    {
     "name": "stdout",
     "output_type": "stream",
     "text": [
      "original dataframe shape: (2590588, 4)\n",
      "df_filtered shape: (1151657, 4)\n",
      "numbers of exam types before: 985\n",
      "types after filtering: Index(['ARCK', 'ARRT', 'ARRTRBS', 'ARSB'], dtype='object', name='exam_type')\n",
      "number of exam types after filtering: 4\n"
     ]
    }
   ],
   "source": [
    "df = load_frame(filter_value = 100000)[0]"
   ]
  },
  {
   "cell_type": "code",
   "execution_count": 48,
   "id": "a3b441cf",
   "metadata": {},
   "outputs": [],
   "source": [
    "final_list = [(i, j, k) for i, j, k in zip(df.loc[i[0]]['text'], df.loc[i[1][0][0]]['text'], i[1][1])]\n",
    "\n",
    "# create a dataframe to store the results from final_list\n",
    "df_results = pd.DataFrame(final_list, columns=['original', 'closest', 'distance'])\n"
   ]
  },
  {
   "cell_type": "code",
   "execution_count": 20,
   "id": "a615b811",
   "metadata": {},
   "outputs": [
    {
     "data": {
      "text/html": [
       "<div>\n",
       "<style scoped>\n",
       "    .dataframe tbody tr th:only-of-type {\n",
       "        vertical-align: middle;\n",
       "    }\n",
       "\n",
       "    .dataframe tbody tr th {\n",
       "        vertical-align: top;\n",
       "    }\n",
       "\n",
       "    .dataframe thead th {\n",
       "        text-align: right;\n",
       "    }\n",
       "</style>\n",
       "<table border=\"1\" class=\"dataframe\">\n",
       "  <thead>\n",
       "    <tr style=\"text-align: right;\">\n",
       "      <th></th>\n",
       "      <th>exam_type</th>\n",
       "      <th>original_text</th>\n",
       "      <th>closest_text</th>\n",
       "      <th>closest_distance</th>\n",
       "    </tr>\n",
       "  </thead>\n",
       "  <tbody>\n",
       "    <tr>\n",
       "      <th>batch number 0, rows 0:20000</th>\n",
       "      <td>ARSBSNOTXN</td>\n",
       "      <td>Dopplersonographie des Nierentransplantates vo...</td>\n",
       "      <td>Dopplersonographie des Nierentransplantates vo...</td>\n",
       "      <td>0.000000</td>\n",
       "    </tr>\n",
       "    <tr>\n",
       "      <th>batch number 0, rows 0:20000</th>\n",
       "      <td>ARSBSNOTXN</td>\n",
       "      <td>Dopplersonographie des Nierentransplantates vo...</td>\n",
       "      <td>Dopplersonographie des Nierentransplantates vo...</td>\n",
       "      <td>0.000000</td>\n",
       "    </tr>\n",
       "    <tr>\n",
       "      <th>batch number 0, rows 0:20000</th>\n",
       "      <td>ARREXEBOGR</td>\n",
       "      <td>Handgelenk rechts in zwei Ebenen vom    Klinik...</td>\n",
       "      <td>Handgelenk rechts in zwei Ebenen vom    Klinik...</td>\n",
       "      <td>0.000000</td>\n",
       "    </tr>\n",
       "    <tr>\n",
       "      <th>batch number 22, rows 440000:460000</th>\n",
       "      <td>ARRT</td>\n",
       "      <td>Thorax in zwei Ebenen vom   Klinik und Fragest...</td>\n",
       "      <td>Thorax in zwei Ebenen vom   Klinik und Fragest...</td>\n",
       "      <td>0.000000</td>\n",
       "    </tr>\n",
       "    <tr>\n",
       "      <th>batch number 7, rows 140000:160000</th>\n",
       "      <td>ARRT</td>\n",
       "      <td>Thorax  Ebenen vom   Klinik Bandscheibenvorfal...</td>\n",
       "      <td>Thorax  Ebenen vom   Klinik Bandscheibenvorfal...</td>\n",
       "      <td>0.000000</td>\n",
       "    </tr>\n",
       "    <tr>\n",
       "      <th>...</th>\n",
       "      <td>...</td>\n",
       "      <td>...</td>\n",
       "      <td>...</td>\n",
       "      <td>...</td>\n",
       "    </tr>\n",
       "    <tr>\n",
       "      <th>batch number 13, rows 260000:280000</th>\n",
       "      <td>ARRT</td>\n",
       "      <td>Klinik Fragestellung Rechtfertigende Indikatio...</td>\n",
       "      <td>AnamneseIndikation Anamnese neu OBedarf Diagno...</td>\n",
       "      <td>1.279806</td>\n",
       "    </tr>\n",
       "    <tr>\n",
       "      <th>batch number 1, rows 20000:40000</th>\n",
       "      <td>ARREXEBOSR</td>\n",
       "      <td>YAufnahmen des Schultergelenkes rechts vom   S...</td>\n",
       "      <td>Schultergelenk rechts in zwei Ebenen vom    Kl...</td>\n",
       "      <td>1.282041</td>\n",
       "    </tr>\n",
       "    <tr>\n",
       "      <th>batch number 10, rows 200000:220000</th>\n",
       "      <td>ARRT</td>\n",
       "      <td>Thorax  Ebenen vom    Klinik Infiltratsuche Ni...</td>\n",
       "      <td>Thorax  Ebenen vom   Klinik und Fragestellung ...</td>\n",
       "      <td>1.283121</td>\n",
       "    </tr>\n",
       "    <tr>\n",
       "      <th>batch number 17, rows 340000:360000</th>\n",
       "      <td>ARRT</td>\n",
       "      <td>Thorax in zwei Ebenen vom   Anamnese  AdenoCa ...</td>\n",
       "      <td>Thorax in zwei Ebenen vom    Klinik Fragestell...</td>\n",
       "      <td>1.284496</td>\n",
       "    </tr>\n",
       "    <tr>\n",
       "      <th>batch number 0, rows 0:20000</th>\n",
       "      <td>ARSBSNOTXN</td>\n",
       "      <td>FKDS der Transplantatniere rechter Fossa iliac...</td>\n",
       "      <td>Dopplersonographie des Nierentransplantates un...</td>\n",
       "      <td>1.284583</td>\n",
       "    </tr>\n",
       "  </tbody>\n",
       "</table>\n",
       "<p>2900 rows × 4 columns</p>\n",
       "</div>"
      ],
      "text/plain": [
       "                                      exam_type  \\\n",
       "batch number 0, rows 0:20000         ARSBSNOTXN   \n",
       "batch number 0, rows 0:20000         ARSBSNOTXN   \n",
       "batch number 0, rows 0:20000         ARREXEBOGR   \n",
       "batch number 22, rows 440000:460000        ARRT   \n",
       "batch number 7, rows 140000:160000         ARRT   \n",
       "...                                         ...   \n",
       "batch number 13, rows 260000:280000        ARRT   \n",
       "batch number 1, rows 20000:40000     ARREXEBOSR   \n",
       "batch number 10, rows 200000:220000        ARRT   \n",
       "batch number 17, rows 340000:360000        ARRT   \n",
       "batch number 0, rows 0:20000         ARSBSNOTXN   \n",
       "\n",
       "                                                                         original_text  \\\n",
       "batch number 0, rows 0:20000         Dopplersonographie des Nierentransplantates vo...   \n",
       "batch number 0, rows 0:20000         Dopplersonographie des Nierentransplantates vo...   \n",
       "batch number 0, rows 0:20000         Handgelenk rechts in zwei Ebenen vom    Klinik...   \n",
       "batch number 22, rows 440000:460000  Thorax in zwei Ebenen vom   Klinik und Fragest...   \n",
       "batch number 7, rows 140000:160000   Thorax  Ebenen vom   Klinik Bandscheibenvorfal...   \n",
       "...                                                                                ...   \n",
       "batch number 13, rows 260000:280000  Klinik Fragestellung Rechtfertigende Indikatio...   \n",
       "batch number 1, rows 20000:40000     YAufnahmen des Schultergelenkes rechts vom   S...   \n",
       "batch number 10, rows 200000:220000  Thorax  Ebenen vom    Klinik Infiltratsuche Ni...   \n",
       "batch number 17, rows 340000:360000  Thorax in zwei Ebenen vom   Anamnese  AdenoCa ...   \n",
       "batch number 0, rows 0:20000         FKDS der Transplantatniere rechter Fossa iliac...   \n",
       "\n",
       "                                                                          closest_text  \\\n",
       "batch number 0, rows 0:20000         Dopplersonographie des Nierentransplantates vo...   \n",
       "batch number 0, rows 0:20000         Dopplersonographie des Nierentransplantates vo...   \n",
       "batch number 0, rows 0:20000         Handgelenk rechts in zwei Ebenen vom    Klinik...   \n",
       "batch number 22, rows 440000:460000  Thorax in zwei Ebenen vom   Klinik und Fragest...   \n",
       "batch number 7, rows 140000:160000   Thorax  Ebenen vom   Klinik Bandscheibenvorfal...   \n",
       "...                                                                                ...   \n",
       "batch number 13, rows 260000:280000  AnamneseIndikation Anamnese neu OBedarf Diagno...   \n",
       "batch number 1, rows 20000:40000     Schultergelenk rechts in zwei Ebenen vom    Kl...   \n",
       "batch number 10, rows 200000:220000  Thorax  Ebenen vom   Klinik und Fragestellung ...   \n",
       "batch number 17, rows 340000:360000  Thorax in zwei Ebenen vom    Klinik Fragestell...   \n",
       "batch number 0, rows 0:20000         Dopplersonographie des Nierentransplantates un...   \n",
       "\n",
       "                                     closest_distance  \n",
       "batch number 0, rows 0:20000                 0.000000  \n",
       "batch number 0, rows 0:20000                 0.000000  \n",
       "batch number 0, rows 0:20000                 0.000000  \n",
       "batch number 22, rows 440000:460000          0.000000  \n",
       "batch number 7, rows 140000:160000           0.000000  \n",
       "...                                               ...  \n",
       "batch number 13, rows 260000:280000          1.279806  \n",
       "batch number 1, rows 20000:40000             1.282041  \n",
       "batch number 10, rows 200000:220000          1.283121  \n",
       "batch number 17, rows 340000:360000          1.284496  \n",
       "batch number 0, rows 0:20000                 1.284583  \n",
       "\n",
       "[2900 rows x 4 columns]"
      ]
     },
     "execution_count": 20,
     "metadata": {},
     "output_type": "execute_result"
    }
   ],
   "source": [
    "# sort the results by exam type and closest_distance\n",
    "df_results.sort_values(by=['closest_distance'], inplace=True)\n",
    "df_results"
   ]
  },
  {
   "cell_type": "code",
   "execution_count": 21,
   "id": "0dcd44d3",
   "metadata": {},
   "outputs": [
    {
     "data": {
      "text/plain": [
       "(array([ 15.,   0.,   0.,   0.,   0.,   0.,   0.,   3.,   2.,   2.,   1.,\n",
       "          0.,   1.,   3.,   0.,   0.,   2.,   1.,   1.,   2.,   1.,   2.,\n",
       "          1.,   1.,   1.,   0.,   0.,   4.,   2.,   3.,   4.,   3.,   7.,\n",
       "          3.,   6.,   9.,   3.,   3.,   4.,   7.,   0.,   5.,   9.,   6.,\n",
       "          6.,   8.,   6.,   7.,   7.,   7.,  11.,  12.,  11.,   6.,  18.,\n",
       "         23.,  15.,  16.,  20.,  21.,  24.,  13.,  27.,  24.,  18.,  24.,\n",
       "         28.,  25.,  27.,  28.,  36.,  28.,  47.,  56.,  36.,  57.,  52.,\n",
       "         65.,  58.,  88.,  84.,  80., 109., 121., 114., 140., 119., 119.,\n",
       "        110., 122., 129., 126., 123., 101.,  87.,  52.,  43.,  25.,  14.,\n",
       "         10.]),\n",
       " array([0.        , 0.01284583, 0.02569166, 0.03853749, 0.05138332,\n",
       "        0.06422915, 0.07707499, 0.08992082, 0.10276665, 0.11561248,\n",
       "        0.12845831, 0.14130414, 0.15414997, 0.1669958 , 0.17984163,\n",
       "        0.19268746, 0.20553329, 0.21837913, 0.23122496, 0.24407079,\n",
       "        0.25691662, 0.26976245, 0.28260828, 0.29545411, 0.30829994,\n",
       "        0.32114577, 0.3339916 , 0.34683743, 0.35968327, 0.3725291 ,\n",
       "        0.38537493, 0.39822076, 0.41106659, 0.42391242, 0.43675825,\n",
       "        0.44960408, 0.46244991, 0.47529574, 0.48814157, 0.50098741,\n",
       "        0.51383324, 0.52667907, 0.5395249 , 0.55237073, 0.56521656,\n",
       "        0.57806239, 0.59090822, 0.60375405, 0.61659988, 0.62944571,\n",
       "        0.64229155, 0.65513738, 0.66798321, 0.68082904, 0.69367487,\n",
       "        0.7065207 , 0.71936653, 0.73221236, 0.74505819, 0.75790402,\n",
       "        0.77074986, 0.78359569, 0.79644152, 0.80928735, 0.82213318,\n",
       "        0.83497901, 0.84782484, 0.86067067, 0.8735165 , 0.88636233,\n",
       "        0.89920816, 0.912054  , 0.92489983, 0.93774566, 0.95059149,\n",
       "        0.96343732, 0.97628315, 0.98912898, 1.00197481, 1.01482064,\n",
       "        1.02766647, 1.0405123 , 1.05335814, 1.06620397, 1.0790498 ,\n",
       "        1.09189563, 1.10474146, 1.11758729, 1.13043312, 1.14327895,\n",
       "        1.15612478, 1.16897061, 1.18181644, 1.19466228, 1.20750811,\n",
       "        1.22035394, 1.23319977, 1.2460456 , 1.25889143, 1.27173726,\n",
       "        1.28458309]),\n",
       " <BarContainer object of 100 artists>)"
      ]
     },
     "execution_count": 21,
     "metadata": {},
     "output_type": "execute_result"
    },
    {
     "data": {
      "image/png": "[encoded data removed]",
      "text/plain": [
       "<Figure size 640x480 with 1 Axes>"
      ]
     },
     "metadata": {},
     "output_type": "display_data"
    }
   ],
   "source": [
    "# how to plot a histogram of the distances\n",
    "plt.hist(df_results['closest_distance'], bins=100)"
   ]
  },
  {
   "cell_type": "code",
   "execution_count": 22,
   "id": "4f5f08a4",
   "metadata": {},
   "outputs": [
    {
     "data": {
      "image/png": "[encoded data removed]",
      "text/plain": [
       "<Figure size 640x480 with 1 Axes>"
      ]
     },
     "metadata": {},
     "output_type": "display_data"
    }
   ],
   "source": [
    "# save the histogram to a png file\n",
    "plt.hist(df_results['closest_distance'], bins=100)\n",
    "plt.savefig('histogram.png')\n",
    "\n"
   ]
  },
  {
   "cell_type": "code",
   "execution_count": 23,
   "id": "a95470af",
   "metadata": {},
   "outputs": [
    {
     "data": {
      "text/plain": [
       "<AxesSubplot:>"
      ]
     },
     "execution_count": 23,
     "metadata": {},
     "output_type": "execute_result"
    },
    {
     "data": {
      "image/png": "[encoded data removed]",
      "text/plain": [
       "<Figure size 640x480 with 1 Axes>"
      ]
     },
     "metadata": {},
     "output_type": "display_data"
    }
   ],
   "source": [
    "df_results['closest_distance'].hist(bins=100)"
   ]
  },
  {
   "cell_type": "code",
   "execution_count": 24,
   "id": "6b8276f4",
   "metadata": {},
   "outputs": [
    {
     "data": {
      "text/plain": [
       "<AxesSubplot:title={'center':'closest_distance'}, xlabel='[exam_type]'>"
      ]
     },
     "execution_count": 24,
     "metadata": {},
     "output_type": "execute_result"
    },
    {
     "data": {
      "image/png": "[encoded data removed]",
      "text/plain": [
       "<Figure size 1200x800 with 1 Axes>"
      ]
     },
     "metadata": {},
     "output_type": "display_data"
    }
   ],
   "source": [
    "df_results['closest_distance'] \n",
    "#boxplot\n",
    "\n",
    "df_results.boxplot(column=['closest_distance'], by=['exam_type'], figsize=(12, 8))\n"
   ]
  },
  {
   "cell_type": "code",
   "execution_count": 27,
   "id": "c4812998",
   "metadata": {},
   "outputs": [],
   "source": [
    "sample_size = 100\n",
    "skipped_rows = math.floor(len(df_results)/sample_size)\n",
    "with open('results_euclidian.txt', 'w') as f:\n",
    "    for i in range(0, df_results.shape[0], skipped_rows):\n",
    "        f.write(f'{df_results.iloc[i][\"original_text\"].encode(\"utf-8\")}\\n')\n",
    "        f.write(f'Entfernung: {df_results.iloc[i][\"closest_distance\"]}\\n')\n",
    "        f.write(f'{df_results.iloc[i][\"closest_text\"].encode(\"utf-8\")}\\n\\n')\n"
   ]
  },
  {
   "cell_type": "code",
   "execution_count": 75,
   "id": "41d33cd7",
   "metadata": {},
   "outputs": [
    {
     "name": "stdout",
     "output_type": "stream",
     "text": [
      "(10000, 141650)\n",
      "(10000, 10000)\n",
      "[   0  103 5490 ... 4861 1634 4828]\n"
     ]
    }
   ],
   "source": [
    "def batch_loop(array, batch_size):\n",
    "    for i in range(0, array.shape[0], batch_size):\n",
    "        yield array[i:i+batch_size]\n"
   ]
  },
  {
   "cell_type": "code",
   "execution_count": 35,
   "id": "ec8ac098",
   "metadata": {},
   "outputs": [
    {
     "data": {
      "text/plain": [
       "<generator object square_numbers at 0x7f6b02e1e890>"
      ]
     },
     "execution_count": 35,
     "metadata": {},
     "output_type": "execute_result"
    }
   ],
   "source": [
    "# generators\n",
    "\n",
    "def square_numbers(nums):\n",
    "    for i in nums:\n",
    "        yield (i*i)\n",
    "\n",
    "square_numbers([1,2,3,4,5])"
   ]
  },
  {
   "cell_type": "code",
   "execution_count": 40,
   "id": "fe28eb48",
   "metadata": {},
   "outputs": [
    {
     "name": "stdout",
     "output_type": "stream",
     "text": [
      "9\n",
      "16\n"
     ]
    }
   ],
   "source": [
    "testgen = square_numbers([1,2,3,4])\n",
    "next(testgen)\n",
    "next(testgen)\n",
    "for i in testgen:\n",
    "    print(i)"
   ]
  },
  {
   "cell_type": "code",
   "execution_count": 33,
   "id": "2792e871",
   "metadata": {},
   "outputs": [
    {
     "name": "stdout",
     "output_type": "stream",
     "text": [
      "<generator object square_numbers at 0x7f6b02e1e970>\n"
     ]
    },
    {
     "ename": "StopIteration",
     "evalue": "",
     "output_type": "error",
     "traceback": [
      "\u001b[0;31m---------------------------------------------------------------------------\u001b[0m",
      "\u001b[0;31mStopIteration\u001b[0m                             Traceback (most recent call last)",
      "Cell \u001b[0;32mIn [33], line 2\u001b[0m\n\u001b[1;32m      1\u001b[0m \u001b[38;5;28mprint\u001b[39m((my_nums))\n\u001b[0;32m----> 2\u001b[0m \u001b[38;5;28mprint\u001b[39m(\u001b[38;5;28;43mnext\u001b[39;49m\u001b[43m(\u001b[49m\u001b[43mmy_nums\u001b[49m\u001b[43m)\u001b[49m)\n\u001b[1;32m      3\u001b[0m \u001b[38;5;28mprint\u001b[39m(\u001b[38;5;28mnext\u001b[39m(my_nums))\n\u001b[1;32m      4\u001b[0m \u001b[38;5;28mprint\u001b[39m((my_nums))\n",
      "\u001b[0;31mStopIteration\u001b[0m: "
     ]
    }
   ],
   "source": [
    "print((my_nums))\n",
    "print(next(my_nums))\n",
    "print(next(my_nums))\n",
    "print((my_nums))"
   ]
  },
  {
   "cell_type": "code",
   "execution_count": 34,
   "id": "709c95de",
   "metadata": {},
   "outputs": [
    {
     "ename": "StopIteration",
     "evalue": "",
     "output_type": "error",
     "traceback": [
      "\u001b[0;31m---------------------------------------------------------------------------\u001b[0m",
      "\u001b[0;31mStopIteration\u001b[0m                             Traceback (most recent call last)",
      "Cell \u001b[0;32mIn [34], line 1\u001b[0m\n\u001b[0;32m----> 1\u001b[0m \u001b[38;5;28mprint\u001b[39m(\u001b[38;5;28;43mnext\u001b[39;49m\u001b[43m(\u001b[49m\u001b[43mmy_nums\u001b[49m\u001b[43m)\u001b[49m)\n",
      "\u001b[0;31mStopIteration\u001b[0m: "
     ]
    }
   ],
   "source": [
    "print(next(my_nums))"
   ]
  }
 ],
 "metadata": {
  "kernelspec": {
   "display_name": "Python 3.9.13 ('rapids')",
   "language": "python",
   "name": "python3"
  },
  "language_info": {
   "codemirror_mode": {
    "name": "ipython",
    "version": 3
   },
   "file_extension": ".py",
   "mimetype": "text/x-python",
   "name": "python",
   "nbconvert_exporter": "python",
   "pygments_lexer": "ipython3",
   "version": "3.9.13"
  },
  "vscode": {
   "interpreter": {
    "hash": "e1db4f5d0922d89d25577440296dd50b5676959cd32c2dcd20f446ff62ca4bf8"
   }
  }
 },
 "nbformat": 4,
 "nbformat_minor": 5
}
