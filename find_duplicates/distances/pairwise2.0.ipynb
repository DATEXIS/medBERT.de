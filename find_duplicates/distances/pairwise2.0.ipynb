{
 "cells": [
  {
   "cell_type": "code",
   "execution_count": 1,
   "metadata": {},
   "outputs": [],
   "source": [
    "import os\n",
    "os.environ[\"CUDA_DEVICE_ORDER\"]=\"PCI_BUS_ID\"\n",
    "os.environ[\"CUDA_VISIBLE_DEVICES\"] = \"1,0\""
   ]
  },
  {
   "cell_type": "code",
   "execution_count": 2,
   "metadata": {},
   "outputs": [],
   "source": [
    "from time import time\n",
    "import math\n",
    "import pandas as pd\n",
    "import numpy as np\n",
    "from tqdm import tqdm\n",
    "\n",
    "from sklearn.feature_extraction.text import TfidfVectorizer as skTfidf\n",
    "import cupy as cp           #use cupy array instead of numpy to speed up calculation by using GPU\n",
    "import cudf as cf\n",
    "from cuml.metrics.pairwise_distances import sparse_pairwise_distances\n",
    "from cuml.feature_extraction.text import TfidfVectorizer as cuTfidf\n",
    "from sklearn.metrics import pairwise_distances\n",
    "\n",
    "\n",
    "import matplotlib.pyplot as plt\n",
    "import sys"
   ]
  },
  {
   "cell_type": "code",
   "execution_count": 3,
   "metadata": {},
   "outputs": [],
   "source": [
    "# path = '/home/test/Data/corpus.csv'\n",
    "# path = '/Users/lsacy/data/corpus.csv'\n",
    "path = './corpus.csv'\n",
    "def load_frame(path_to_df=path, encoding='utf-16', filter_value = 100000):\n",
    "    \n",
    "    df= pd.read_csv(path_to_df, encoding=encoding, index_col='id')\n",
    "    df.drop([df.columns[0]], inplace=True, axis=1)\n",
    "    df.drop_duplicates(subset=['text'],inplace=True)\n",
    "    \n",
    "    exam_type_distribution = df.groupby(['exam_type'])['exam_type'].count()\n",
    "    exam_type_distribution.sort_values(ascending=False)\n",
    "    \n",
    "    list_filtered = exam_type_distribution[exam_type_distribution > filter_value].index\n",
    "    df_filtered = df[df['exam_type'].isin(list_filtered)]\n",
    "    \n",
    "    print(f'original dataframe shape: {df.shape}')\n",
    "    print(f'df_filtered shape: {df_filtered.shape}')\n",
    "    \n",
    "    print(f'numbers of exam types before: {len(set(df[\"exam_type\"]))}')\n",
    "    print(f'types after filtering: {list_filtered}')\n",
    "    print(f'number of exam types after filtering: {len(set(df_filtered[\"exam_type\"]))}')\n",
    "\n",
    "    return df_filtered, list_filtered"
   ]
  },
  {
   "cell_type": "code",
   "execution_count": 4,
   "metadata": {},
   "outputs": [],
   "source": [
    "# define a load function to load each exam type\n",
    "def load_exam_type(df, exam_types):\n",
    "    for i in exam_types:\n",
    "        print(f'exam type: {i}')\n",
    "        dataframe = df[df['exam_type'] == i]    \n",
    "        print(f'number of documents: {dataframe.shape}')\n",
    "        yield dataframe"
   ]
  },
  {
   "cell_type": "code",
   "execution_count": 5,
   "metadata": {},
   "outputs": [],
   "source": [
    "def batch_tfidf(sparseMatrix, size = 5000):\n",
    "    for idx, item in enumerate(range(0, sparseMatrix.shape[0], size)):\n",
    "        batch_sparseMatrix = sparseMatrix[item:item+size,:]\n",
    "        print(f'batch shape: {batch_sparseMatrix.shape}, item: {item} - {item+size}')\n",
    "        yield batch_sparseMatrix"
   ]
  },
  {
   "cell_type": "code",
   "execution_count": 6,
   "metadata": {},
   "outputs": [],
   "source": [
    "def get_distances(upperbound, lower, batch_size=8000, filter=100000):\n",
    "\n",
    "    df_filtered = load_frame(filter_value = filter)\n",
    "    df_by_type = load_exam_type(df_filtered[0], df_filtered[1])\n",
    "    results_dict = {}\n",
    "\n",
    "    # loop through each exam type\n",
    "    for i in range(0,len(df_filtered[1])):\n",
    "        print(f'exam {i}/{len(df_filtered[1])}')\n",
    "        dataframe = next(df_by_type)\n",
    "        df_indices = dataframe.index.to_list()\n",
    "\n",
    "        tfidf = cuTfidf().fit_transform(dataframe['text'])\n",
    "        \n",
    "        batch = batch_tfidf(tfidf, size=batch_size)\n",
    "        total_number_batches = math.ceil(tfidf.shape[0]/batch_size)\n",
    "        print(f'# of batches: {total_number_batches} | batch size: {batch_size}')\n",
    "        \n",
    "        # loop through batches of tfidf matrix row wise\n",
    "        counter = 0\n",
    "        for i in range(0, math.ceil(tfidf.shape[0]/batch_size)):\n",
    "            print(f'batch {i+1}/{total_number_batches}')\n",
    "            \n",
    "            batch_sparse = next(batch)\n",
    "            \n",
    "            distance_batch = sparse_pairwise_distances(batch_sparse, tfidf, metric='euclidean') # distance matrix\n",
    "\n",
    "            sort_by_distance(distance_batch, df_indices, upperbound, results_dict, lower)\n",
    "                                         \n",
    "            del distance_batch\n",
    "            del batch_sparse\n",
    "                                         \n",
    "            counter += batch_size\n",
    "            print(f'results dict length: {len(results_dict)}')\n",
    "            print('')\n",
    "            \n",
    "\n",
    "\n",
    "        del tfidf\n",
    "        del batch\n",
    "        \n",
    "                \n",
    "    return results_dict"
   ]
  },
  {
   "cell_type": "code",
   "execution_count": 7,
   "metadata": {},
   "outputs": [],
   "source": [
    "def sort_by_distance(distance_batch, df_indices, upperbound, results, lower):\n",
    "    #distance_batch= distance_batch[0:100] #take a sample of 100\n",
    "    found = 0\n",
    "    for i, row in tqdm(enumerate(distance_batch)):\n",
    "        sorted_array = cp.sort(row)\n",
    "        arg_sorted = cp.argsort(row)\n",
    "\n",
    "        candidates, distances = get_candidates(sorted_array, lower, arg_sorted, upperbound)\n",
    "\n",
    "\n",
    "        if len(candidates) > 1:\n",
    "            found += 1\n",
    "\n",
    "            df_candidates = [df_indices[int(i)] for i in candidates]\n",
    "            original_index = df_candidates[0]\n",
    "            df_candidates = df_candidates[1:]\n",
    "            \n",
    "            save_results(distances, results, original_index, df_candidates)\n",
    "            \n",
    "            del sorted_array, original_index, df_candidates, distances, arg_sorted, candidates\n",
    "            \n",
    "    print(f'{found} matches found')\n",
    "\n",
    "    return results"
   ]
  },
  {
   "cell_type": "code",
   "execution_count": 8,
   "metadata": {},
   "outputs": [],
   "source": [
    "def save_results(distances, results, original_index, df_candidates):\n",
    "    results[original_index] = (df_candidates, distances)\n",
    "    return results"
   ]
  },
  {
   "cell_type": "code",
   "execution_count": 9,
   "metadata": {},
   "outputs": [],
   "source": [
    "def get_candidates(sorted_array, lower, arg_sorted, upper):\n",
    "    candidates = []\n",
    "    distances = []\n",
    "    for i, x in enumerate(sorted_array):\n",
    "        if x > upper:\n",
    "            break\n",
    "        elif x < lower:\n",
    "            continue\n",
    "        else:\n",
    "            candidates.append(arg_sorted[i])\n",
    "            distances.append(float(x))\n",
    "    return candidates, distances[1:]"
   ]
  },
  {
   "cell_type": "code",
   "execution_count": 10,
   "metadata": {
    "tags": []
   },
   "outputs": [
    {
     "name": "stdout",
     "output_type": "stream",
     "text": [
      "original dataframe shape: (2586631, 4)\n",
      "df_filtered shape: (1845401, 4)\n",
      "numbers of exam types before: 985\n",
      "types after filtering: Index(['ARCK', 'ARCW', 'ARKK', 'ARKW', 'ARRB1EBBEK', 'ARRBXEB', 'ARREXEBO9L',\n",
      "       'ARREXEBO9R', 'ARREXEBOEL', 'ARREXEBOER', 'ARREXEBOGL', 'ARREXEBOGR',\n",
      "       'ARREXEBOHL', 'ARREXEBOHR', 'ARREXEBOSL', 'ARREXEBOSR', 'ARREXEBUFL',\n",
      "       'ARREXEBUFR', 'ARREXEBUGL', 'ARREXEBUGR', 'ARREXEBUHL', 'ARREXEBUHR',\n",
      "       'ARREXEBUKL', 'ARREXEBUKR', 'ARRKOPG', 'ARRKXEBNNH', 'ARRT', 'ARRTRBS',\n",
      "       'ARRWXEBBWS', 'ARRWXEBHWS', 'ARRWXEBLWS', 'ARSB', 'ARSBSNONIX',\n",
      "       'ARSBSNOTXN', 'ARSEFKVUVX', 'ARSESNOUXX', 'ARSXSNOWGW', 'ARXXTLE'],\n",
      "      dtype='object', name='exam_type')\n",
      "number of exam types after filtering: 38\n",
      "exam 0/38\n",
      "exam type: ARCK\n",
      "number of documents: (100888, 4)\n",
      "# of batches: 16 | batch size: 6500\n",
      "batch 1/16\n",
      "batch shape: (6500, 66772), item: 0 - 6500\n"
     ]
    },
    {
     "name": "stderr",
     "output_type": "stream",
     "text": [
      "6500it [00:07, 912.99it/s] \n"
     ]
    },
    {
     "name": "stdout",
     "output_type": "stream",
     "text": [
      "452 matches found\n",
      "results dict length: 451\n",
      "\n",
      "batch 2/16\n",
      "batch shape: (6500, 66772), item: 6500 - 13000\n"
     ]
    },
    {
     "name": "stderr",
     "output_type": "stream",
     "text": [
      "6500it [00:06, 943.25it/s] \n"
     ]
    },
    {
     "name": "stdout",
     "output_type": "stream",
     "text": [
      "503 matches found\n",
      "results dict length: 953\n",
      "\n",
      "batch 3/16\n",
      "batch shape: (6500, 66772), item: 13000 - 19500\n"
     ]
    },
    {
     "name": "stderr",
     "output_type": "stream",
     "text": [
      "6500it [00:06, 948.91it/s] \n"
     ]
    },
    {
     "name": "stdout",
     "output_type": "stream",
     "text": [
      "468 matches found\n",
      "results dict length: 1419\n",
      "\n",
      "batch 4/16\n",
      "batch shape: (6500, 66772), item: 19500 - 26000\n"
     ]
    },
    {
     "name": "stderr",
     "output_type": "stream",
     "text": [
      "6500it [00:07, 887.27it/s] \n"
     ]
    },
    {
     "name": "stdout",
     "output_type": "stream",
     "text": [
      "450 matches found\n",
      "results dict length: 1868\n",
      "\n",
      "batch 5/16\n",
      "batch shape: (6500, 66772), item: 26000 - 32500\n"
     ]
    },
    {
     "name": "stderr",
     "output_type": "stream",
     "text": [
      "6500it [00:06, 980.59it/s] \n"
     ]
    },
    {
     "name": "stdout",
     "output_type": "stream",
     "text": [
      "461 matches found\n",
      "results dict length: 2328\n",
      "\n",
      "batch 6/16\n",
      "batch shape: (6500, 66772), item: 32500 - 39000\n"
     ]
    },
    {
     "name": "stderr",
     "output_type": "stream",
     "text": [
      "6500it [00:07, 927.61it/s] \n"
     ]
    },
    {
     "name": "stdout",
     "output_type": "stream",
     "text": [
      "450 matches found\n",
      "results dict length: 2773\n",
      "\n",
      "batch 7/16\n",
      "batch shape: (6500, 66772), item: 39000 - 45500\n"
     ]
    },
    {
     "name": "stderr",
     "output_type": "stream",
     "text": [
      "6500it [00:06, 949.49it/s] \n"
     ]
    },
    {
     "name": "stdout",
     "output_type": "stream",
     "text": [
      "486 matches found\n",
      "results dict length: 3259\n",
      "\n",
      "batch 8/16\n",
      "batch shape: (6500, 66772), item: 45500 - 52000\n"
     ]
    },
    {
     "name": "stderr",
     "output_type": "stream",
     "text": [
      "6500it [00:07, 845.74it/s]\n"
     ]
    },
    {
     "name": "stdout",
     "output_type": "stream",
     "text": [
      "499 matches found\n",
      "results dict length: 3754\n",
      "\n",
      "batch 9/16\n",
      "batch shape: (6500, 66772), item: 52000 - 58500\n"
     ]
    },
    {
     "name": "stderr",
     "output_type": "stream",
     "text": [
      "6500it [00:05, 1099.99it/s]\n"
     ]
    },
    {
     "name": "stdout",
     "output_type": "stream",
     "text": [
      "459 matches found\n",
      "results dict length: 4212\n",
      "\n",
      "batch 10/16\n",
      "batch shape: (6500, 66772), item: 58500 - 65000\n"
     ]
    },
    {
     "name": "stderr",
     "output_type": "stream",
     "text": [
      "6500it [00:07, 861.51it/s] \n"
     ]
    },
    {
     "name": "stdout",
     "output_type": "stream",
     "text": [
      "475 matches found\n",
      "results dict length: 4687\n",
      "\n",
      "batch 11/16\n",
      "batch shape: (6500, 66772), item: 65000 - 71500\n"
     ]
    },
    {
     "name": "stderr",
     "output_type": "stream",
     "text": [
      "6500it [00:06, 1069.12it/s]\n"
     ]
    },
    {
     "name": "stdout",
     "output_type": "stream",
     "text": [
      "462 matches found\n",
      "results dict length: 5149\n",
      "\n",
      "batch 12/16\n",
      "batch shape: (6500, 66772), item: 71500 - 78000\n"
     ]
    },
    {
     "name": "stderr",
     "output_type": "stream",
     "text": [
      "6500it [00:07, 844.21it/s]\n"
     ]
    },
    {
     "name": "stdout",
     "output_type": "stream",
     "text": [
      "470 matches found\n",
      "results dict length: 5616\n",
      "\n",
      "batch 13/16\n",
      "batch shape: (6500, 66772), item: 78000 - 84500\n"
     ]
    },
    {
     "name": "stderr",
     "output_type": "stream",
     "text": [
      "6500it [00:07, 885.19it/s] \n"
     ]
    },
    {
     "name": "stdout",
     "output_type": "stream",
     "text": [
      "475 matches found\n",
      "results dict length: 6091\n",
      "\n",
      "batch 14/16\n",
      "batch shape: (6500, 66772), item: 84500 - 91000\n"
     ]
    },
    {
     "name": "stderr",
     "output_type": "stream",
     "text": [
      "6500it [00:07, 878.80it/s] \n"
     ]
    },
    {
     "name": "stdout",
     "output_type": "stream",
     "text": [
      "465 matches found\n",
      "results dict length: 6554\n",
      "\n",
      "batch 15/16\n",
      "batch shape: (6500, 66772), item: 91000 - 97500\n"
     ]
    },
    {
     "name": "stderr",
     "output_type": "stream",
     "text": [
      "6500it [00:06, 999.96it/s] \n"
     ]
    },
    {
     "name": "stdout",
     "output_type": "stream",
     "text": [
      "497 matches found\n",
      "results dict length: 7050\n",
      "\n",
      "batch 16/16\n",
      "batch shape: (3388, 66772), item: 97500 - 104000\n"
     ]
    },
    {
     "name": "stderr",
     "output_type": "stream",
     "text": [
      "3388it [00:04, 742.11it/s]\n"
     ]
    },
    {
     "name": "stdout",
     "output_type": "stream",
     "text": [
      "268 matches found\n",
      "results dict length: 7316\n",
      "\n",
      "exam 1/38\n",
      "exam type: ARCW\n",
      "number of documents: (16434, 4)\n",
      "# of batches: 3 | batch size: 6500\n",
      "batch 1/3\n",
      "batch shape: (6500, 27693), item: 0 - 6500\n"
     ]
    },
    {
     "name": "stderr",
     "output_type": "stream",
     "text": [
      "6500it [00:04, 1491.06it/s]\n"
     ]
    },
    {
     "name": "stdout",
     "output_type": "stream",
     "text": [
      "60 matches found\n",
      "results dict length: 7375\n",
      "\n",
      "batch 2/3\n",
      "batch shape: (6500, 27693), item: 6500 - 13000\n"
     ]
    },
    {
     "name": "stderr",
     "output_type": "stream",
     "text": [
      "6500it [00:04, 1511.69it/s]\n"
     ]
    },
    {
     "name": "stdout",
     "output_type": "stream",
     "text": [
      "87 matches found\n",
      "results dict length: 7456\n",
      "\n",
      "batch 3/3\n",
      "batch shape: (3434, 27693), item: 13000 - 19500\n"
     ]
    },
    {
     "name": "stderr",
     "output_type": "stream",
     "text": [
      "3434it [00:02, 1508.80it/s]\n"
     ]
    },
    {
     "name": "stdout",
     "output_type": "stream",
     "text": [
      "45 matches found\n",
      "results dict length: 7498\n",
      "\n",
      "exam 2/38\n",
      "exam type: ARKK\n",
      "number of documents: (27608, 4)\n",
      "# of batches: 5 | batch size: 6500\n",
      "batch 1/5\n",
      "batch shape: (6500, 46523), item: 0 - 6500\n"
     ]
    },
    {
     "name": "stderr",
     "output_type": "stream",
     "text": [
      "6500it [00:04, 1508.67it/s]\n"
     ]
    },
    {
     "name": "stdout",
     "output_type": "stream",
     "text": [
      "193 matches found\n",
      "results dict length: 7691\n",
      "\n",
      "batch 2/5\n",
      "batch shape: (6500, 46523), item: 6500 - 13000\n"
     ]
    },
    {
     "name": "stderr",
     "output_type": "stream",
     "text": [
      "6500it [00:04, 1509.21it/s]\n"
     ]
    },
    {
     "name": "stdout",
     "output_type": "stream",
     "text": [
      "202 matches found\n",
      "results dict length: 7891\n",
      "\n",
      "batch 3/5\n",
      "batch shape: (6500, 46523), item: 13000 - 19500\n"
     ]
    },
    {
     "name": "stderr",
     "output_type": "stream",
     "text": [
      "6500it [00:04, 1508.09it/s]\n"
     ]
    },
    {
     "name": "stdout",
     "output_type": "stream",
     "text": [
      "220 matches found\n",
      "results dict length: 8108\n",
      "\n",
      "batch 4/5\n",
      "batch shape: (6500, 46523), item: 19500 - 26000\n"
     ]
    },
    {
     "name": "stderr",
     "output_type": "stream",
     "text": [
      "6500it [00:04, 1489.99it/s]\n"
     ]
    },
    {
     "name": "stdout",
     "output_type": "stream",
     "text": [
      "224 matches found\n",
      "results dict length: 8324\n",
      "\n",
      "batch 5/5\n",
      "batch shape: (1608, 46523), item: 26000 - 32500\n"
     ]
    },
    {
     "name": "stderr",
     "output_type": "stream",
     "text": [
      "1608it [00:01, 1109.63it/s]\n"
     ]
    },
    {
     "name": "stdout",
     "output_type": "stream",
     "text": [
      "48 matches found\n",
      "results dict length: 8370\n",
      "\n",
      "exam 3/38\n",
      "exam type: ARKW\n",
      "number of documents: (15026, 4)\n",
      "# of batches: 3 | batch size: 6500\n",
      "batch 1/3\n",
      "batch shape: (6500, 29503), item: 0 - 6500\n"
     ]
    },
    {
     "name": "stderr",
     "output_type": "stream",
     "text": [
      "6500it [00:04, 1519.98it/s]\n"
     ]
    },
    {
     "name": "stdout",
     "output_type": "stream",
     "text": [
      "85 matches found\n",
      "results dict length: 8453\n",
      "\n",
      "batch 2/3\n",
      "batch shape: (6500, 29503), item: 6500 - 13000\n"
     ]
    },
    {
     "name": "stderr",
     "output_type": "stream",
     "text": [
      "6500it [00:04, 1541.39it/s]\n"
     ]
    },
    {
     "name": "stdout",
     "output_type": "stream",
     "text": [
      "67 matches found\n",
      "results dict length: 8518\n",
      "\n",
      "batch 3/3\n",
      "batch shape: (2026, 29503), item: 13000 - 19500\n"
     ]
    },
    {
     "name": "stderr",
     "output_type": "stream",
     "text": [
      "2026it [00:01, 1573.98it/s]\n"
     ]
    },
    {
     "name": "stdout",
     "output_type": "stream",
     "text": [
      "16 matches found\n",
      "results dict length: 8533\n",
      "\n",
      "exam 4/38\n",
      "exam type: ARRB1EBBEK\n",
      "number of documents: (60014, 4)\n",
      "# of batches: 10 | batch size: 6500\n",
      "batch 1/10\n",
      "batch shape: (6500, 41769), item: 0 - 6500\n"
     ]
    },
    {
     "name": "stderr",
     "output_type": "stream",
     "text": [
      "6500it [00:04, 1353.32it/s]\n"
     ]
    },
    {
     "name": "stdout",
     "output_type": "stream",
     "text": [
      "454 matches found\n",
      "results dict length: 8983\n",
      "\n",
      "batch 2/10\n",
      "batch shape: (6500, 41769), item: 6500 - 13000\n"
     ]
    },
    {
     "name": "stderr",
     "output_type": "stream",
     "text": [
      "6500it [00:06, 1005.89it/s]\n"
     ]
    },
    {
     "name": "stdout",
     "output_type": "stream",
     "text": [
      "437 matches found\n",
      "results dict length: 9416\n",
      "\n",
      "batch 3/10\n",
      "batch shape: (6500, 41769), item: 13000 - 19500\n"
     ]
    },
    {
     "name": "stderr",
     "output_type": "stream",
     "text": [
      "6500it [00:04, 1431.74it/s]\n"
     ]
    },
    {
     "name": "stdout",
     "output_type": "stream",
     "text": [
      "441 matches found\n",
      "results dict length: 9852\n",
      "\n",
      "batch 4/10\n",
      "batch shape: (6500, 41769), item: 19500 - 26000\n"
     ]
    },
    {
     "name": "stderr",
     "output_type": "stream",
     "text": [
      "6500it [00:05, 1085.75it/s]\n"
     ]
    },
    {
     "name": "stdout",
     "output_type": "stream",
     "text": [
      "446 matches found\n",
      "results dict length: 10285\n",
      "\n",
      "batch 5/10\n",
      "batch shape: (6500, 41769), item: 26000 - 32500\n"
     ]
    },
    {
     "name": "stderr",
     "output_type": "stream",
     "text": [
      "6500it [00:04, 1425.86it/s]\n"
     ]
    },
    {
     "name": "stdout",
     "output_type": "stream",
     "text": [
      "410 matches found\n",
      "results dict length: 10686\n",
      "\n",
      "batch 6/10\n",
      "batch shape: (6500, 41769), item: 32500 - 39000\n"
     ]
    },
    {
     "name": "stderr",
     "output_type": "stream",
     "text": [
      "6500it [00:06, 1083.28it/s]\n"
     ]
    },
    {
     "name": "stdout",
     "output_type": "stream",
     "text": [
      "431 matches found\n",
      "results dict length: 11108\n",
      "\n",
      "batch 7/10\n",
      "batch shape: (6500, 41769), item: 39000 - 45500\n"
     ]
    },
    {
     "name": "stderr",
     "output_type": "stream",
     "text": [
      "6500it [00:04, 1400.18it/s]\n"
     ]
    },
    {
     "name": "stdout",
     "output_type": "stream",
     "text": [
      "417 matches found\n",
      "results dict length: 11512\n",
      "\n",
      "batch 8/10\n",
      "batch shape: (6500, 41769), item: 45500 - 52000\n"
     ]
    },
    {
     "name": "stderr",
     "output_type": "stream",
     "text": [
      "6500it [00:05, 1094.27it/s]\n"
     ]
    },
    {
     "name": "stdout",
     "output_type": "stream",
     "text": [
      "414 matches found\n",
      "results dict length: 11916\n",
      "\n",
      "batch 9/10\n",
      "batch shape: (6500, 41769), item: 52000 - 58500\n"
     ]
    },
    {
     "name": "stderr",
     "output_type": "stream",
     "text": [
      "6500it [00:04, 1417.25it/s]\n"
     ]
    },
    {
     "name": "stdout",
     "output_type": "stream",
     "text": [
      "411 matches found\n",
      "results dict length: 12316\n",
      "\n",
      "batch 10/10\n",
      "batch shape: (1514, 41769), item: 58500 - 65000\n"
     ]
    },
    {
     "name": "stderr",
     "output_type": "stream",
     "text": [
      "1514it [00:01, 1378.81it/s]\n"
     ]
    },
    {
     "name": "stdout",
     "output_type": "stream",
     "text": [
      "111 matches found\n",
      "results dict length: 12422\n",
      "\n",
      "exam 5/38\n",
      "exam type: ARRBXEB\n",
      "number of documents: (29120, 4)\n",
      "# of batches: 5 | batch size: 6500\n",
      "batch 1/5\n",
      "batch shape: (6500, 30618), item: 0 - 6500\n"
     ]
    },
    {
     "name": "stderr",
     "output_type": "stream",
     "text": [
      "6500it [00:04, 1543.52it/s]\n"
     ]
    },
    {
     "name": "stdout",
     "output_type": "stream",
     "text": [
      "125 matches found\n",
      "results dict length: 12547\n",
      "\n",
      "batch 2/5\n",
      "batch shape: (6500, 30618), item: 6500 - 13000\n"
     ]
    },
    {
     "name": "stderr",
     "output_type": "stream",
     "text": [
      "6500it [00:04, 1535.88it/s]\n"
     ]
    },
    {
     "name": "stdout",
     "output_type": "stream",
     "text": [
      "130 matches found\n",
      "results dict length: 12676\n",
      "\n",
      "batch 3/5\n",
      "batch shape: (6500, 30618), item: 13000 - 19500\n"
     ]
    },
    {
     "name": "stderr",
     "output_type": "stream",
     "text": [
      "6500it [00:04, 1498.95it/s]\n"
     ]
    },
    {
     "name": "stdout",
     "output_type": "stream",
     "text": [
      "115 matches found\n",
      "results dict length: 12790\n",
      "\n",
      "batch 4/5\n",
      "batch shape: (6500, 30618), item: 19500 - 26000\n"
     ]
    },
    {
     "name": "stderr",
     "output_type": "stream",
     "text": [
      "6500it [00:04, 1451.76it/s]\n"
     ]
    },
    {
     "name": "stdout",
     "output_type": "stream",
     "text": [
      "115 matches found\n",
      "results dict length: 12902\n",
      "\n",
      "batch 5/5\n",
      "batch shape: (3120, 30618), item: 26000 - 32500\n"
     ]
    },
    {
     "name": "stderr",
     "output_type": "stream",
     "text": [
      "3120it [00:02, 1411.73it/s]\n"
     ]
    },
    {
     "name": "stdout",
     "output_type": "stream",
     "text": [
      "53 matches found\n",
      "results dict length: 12955\n",
      "\n",
      "exam 6/38\n",
      "exam type: ARREXEBO9L\n",
      "number of documents: (13803, 4)\n",
      "# of batches: 3 | batch size: 6500\n",
      "batch 1/3\n",
      "batch shape: (6500, 12984), item: 0 - 6500\n"
     ]
    },
    {
     "name": "stderr",
     "output_type": "stream",
     "text": [
      "6500it [00:04, 1450.89it/s]\n"
     ]
    },
    {
     "name": "stdout",
     "output_type": "stream",
     "text": [
      "412 matches found\n",
      "results dict length: 13349\n",
      "\n",
      "batch 2/3\n",
      "batch shape: (6500, 12984), item: 6500 - 13000\n"
     ]
    },
    {
     "name": "stderr",
     "output_type": "stream",
     "text": [
      "6500it [00:04, 1486.54it/s]\n"
     ]
    },
    {
     "name": "stdout",
     "output_type": "stream",
     "text": [
      "470 matches found\n",
      "results dict length: 13789\n",
      "\n",
      "batch 3/3\n",
      "batch shape: (803, 12984), item: 13000 - 19500\n"
     ]
    },
    {
     "name": "stderr",
     "output_type": "stream",
     "text": [
      "803it [00:00, 1514.98it/s]\n"
     ]
    },
    {
     "name": "stdout",
     "output_type": "stream",
     "text": [
      "56 matches found\n",
      "results dict length: 13841\n",
      "\n",
      "exam 7/38\n",
      "exam type: ARREXEBO9R\n",
      "number of documents: (14462, 4)\n",
      "# of batches: 3 | batch size: 6500\n",
      "batch 1/3\n",
      "batch shape: (6500, 13575), item: 0 - 6500\n"
     ]
    },
    {
     "name": "stderr",
     "output_type": "stream",
     "text": [
      "6500it [00:04, 1531.81it/s]\n"
     ]
    },
    {
     "name": "stdout",
     "output_type": "stream",
     "text": [
      "443 matches found\n",
      "results dict length: 14260\n",
      "\n",
      "batch 2/3\n",
      "batch shape: (6500, 13575), item: 6500 - 13000\n"
     ]
    },
    {
     "name": "stderr",
     "output_type": "stream",
     "text": [
      "6500it [00:04, 1532.15it/s]\n"
     ]
    },
    {
     "name": "stdout",
     "output_type": "stream",
     "text": [
      "429 matches found\n",
      "results dict length: 14667\n",
      "\n",
      "batch 3/3\n",
      "batch shape: (1462, 13575), item: 13000 - 19500\n"
     ]
    },
    {
     "name": "stderr",
     "output_type": "stream",
     "text": [
      "1462it [00:00, 1531.41it/s]\n"
     ]
    },
    {
     "name": "stdout",
     "output_type": "stream",
     "text": [
      "103 matches found\n",
      "results dict length: 14767\n",
      "\n",
      "exam 8/38\n",
      "exam type: ARREXEBOEL\n",
      "number of documents: (12329, 4)\n",
      "# of batches: 2 | batch size: 6500\n",
      "batch 1/2\n",
      "batch shape: (6500, 14392), item: 0 - 6500\n"
     ]
    },
    {
     "name": "stderr",
     "output_type": "stream",
     "text": [
      "6500it [00:04, 1503.73it/s]\n"
     ]
    },
    {
     "name": "stdout",
     "output_type": "stream",
     "text": [
      "357 matches found\n",
      "results dict length: 15112\n",
      "\n",
      "batch 2/2\n",
      "batch shape: (5829, 14392), item: 6500 - 13000\n"
     ]
    },
    {
     "name": "stderr",
     "output_type": "stream",
     "text": [
      "5829it [00:03, 1488.94it/s]\n"
     ]
    },
    {
     "name": "stdout",
     "output_type": "stream",
     "text": [
      "348 matches found\n",
      "results dict length: 15432\n",
      "\n",
      "exam 9/38\n",
      "exam type: ARREXEBOER\n",
      "number of documents: (10731, 4)\n",
      "# of batches: 2 | batch size: 6500\n",
      "batch 1/2\n",
      "batch shape: (6500, 13818), item: 0 - 6500\n"
     ]
    },
    {
     "name": "stderr",
     "output_type": "stream",
     "text": [
      "6500it [00:04, 1474.32it/s]\n"
     ]
    },
    {
     "name": "stdout",
     "output_type": "stream",
     "text": [
      "429 matches found\n",
      "results dict length: 15846\n",
      "\n",
      "batch 2/2\n",
      "batch shape: (4231, 13818), item: 6500 - 13000\n"
     ]
    },
    {
     "name": "stderr",
     "output_type": "stream",
     "text": [
      "4231it [00:02, 1489.02it/s]\n"
     ]
    },
    {
     "name": "stdout",
     "output_type": "stream",
     "text": [
      "258 matches found\n",
      "results dict length: 16082\n",
      "\n",
      "exam 10/38\n",
      "exam type: ARREXEBOGL\n",
      "number of documents: (17784, 4)\n",
      "# of batches: 3 | batch size: 6500\n",
      "batch 1/3\n",
      "batch shape: (6500, 15325), item: 0 - 6500\n"
     ]
    },
    {
     "name": "stderr",
     "output_type": "stream",
     "text": [
      "6500it [00:04, 1467.19it/s]\n"
     ]
    },
    {
     "name": "stdout",
     "output_type": "stream",
     "text": [
      "421 matches found\n",
      "results dict length: 16491\n",
      "\n",
      "batch 2/3\n",
      "batch shape: (6500, 15325), item: 6500 - 13000\n"
     ]
    },
    {
     "name": "stderr",
     "output_type": "stream",
     "text": [
      "6500it [00:04, 1495.19it/s]\n"
     ]
    },
    {
     "name": "stdout",
     "output_type": "stream",
     "text": [
      "368 matches found\n",
      "results dict length: 16841\n",
      "\n",
      "batch 3/3\n",
      "batch shape: (4784, 15325), item: 13000 - 19500\n"
     ]
    },
    {
     "name": "stderr",
     "output_type": "stream",
     "text": [
      "4784it [00:03, 1494.53it/s]\n"
     ]
    },
    {
     "name": "stdout",
     "output_type": "stream",
     "text": [
      "320 matches found\n",
      "results dict length: 17138\n",
      "\n",
      "exam 11/38\n",
      "exam type: ARREXEBOGR\n",
      "number of documents: (15231, 4)\n",
      "# of batches: 3 | batch size: 6500\n",
      "batch 1/3\n",
      "batch shape: (6500, 14550), item: 0 - 6500\n"
     ]
    },
    {
     "name": "stderr",
     "output_type": "stream",
     "text": [
      "6500it [00:04, 1495.01it/s]\n"
     ]
    },
    {
     "name": "stdout",
     "output_type": "stream",
     "text": [
      "422 matches found\n",
      "results dict length: 17546\n",
      "\n",
      "batch 2/3\n",
      "batch shape: (6500, 14550), item: 6500 - 13000\n"
     ]
    },
    {
     "name": "stderr",
     "output_type": "stream",
     "text": [
      "6500it [00:04, 1512.90it/s]\n"
     ]
    },
    {
     "name": "stdout",
     "output_type": "stream",
     "text": [
      "403 matches found\n",
      "results dict length: 17925\n",
      "\n",
      "batch 3/3\n",
      "batch shape: (2231, 14550), item: 13000 - 19500\n"
     ]
    },
    {
     "name": "stderr",
     "output_type": "stream",
     "text": [
      "2231it [00:01, 1518.88it/s]\n"
     ]
    },
    {
     "name": "stdout",
     "output_type": "stream",
     "text": [
      "143 matches found\n",
      "results dict length: 18056\n",
      "\n",
      "exam 12/38\n",
      "exam type: ARREXEBOHL\n",
      "number of documents: (17921, 4)\n",
      "# of batches: 3 | batch size: 6500\n",
      "batch 1/3\n",
      "batch shape: (6500, 16055), item: 0 - 6500\n"
     ]
    },
    {
     "name": "stderr",
     "output_type": "stream",
     "text": [
      "6500it [00:30, 211.20it/s]\n"
     ]
    },
    {
     "name": "stdout",
     "output_type": "stream",
     "text": [
      "2266 matches found\n",
      "results dict length: 20058\n",
      "\n",
      "batch 2/3\n",
      "batch shape: (6500, 16055), item: 6500 - 13000\n"
     ]
    },
    {
     "name": "stderr",
     "output_type": "stream",
     "text": [
      "6500it [00:26, 243.11it/s]\n"
     ]
    },
    {
     "name": "stdout",
     "output_type": "stream",
     "text": [
      "2226 matches found\n",
      "results dict length: 21874\n",
      "\n",
      "batch 3/3\n",
      "batch shape: (4921, 16055), item: 13000 - 19500\n"
     ]
    },
    {
     "name": "stderr",
     "output_type": "stream",
     "text": [
      "4921it [00:19, 247.17it/s]\n"
     ]
    },
    {
     "name": "stdout",
     "output_type": "stream",
     "text": [
      "1604 matches found\n",
      "results dict length: 23130\n",
      "\n",
      "exam 13/38\n",
      "exam type: ARREXEBOHR\n",
      "number of documents: (12543, 4)\n",
      "# of batches: 2 | batch size: 6500\n",
      "batch 1/2\n",
      "batch shape: (6500, 14178), item: 0 - 6500\n"
     ]
    },
    {
     "name": "stderr",
     "output_type": "stream",
     "text": [
      "6500it [00:04, 1523.58it/s]\n"
     ]
    },
    {
     "name": "stdout",
     "output_type": "stream",
     "text": [
      "390 matches found\n",
      "results dict length: 23499\n",
      "\n",
      "batch 2/2\n",
      "batch shape: (6043, 14178), item: 6500 - 13000\n"
     ]
    },
    {
     "name": "stderr",
     "output_type": "stream",
     "text": [
      "6043it [00:03, 1533.44it/s]\n"
     ]
    },
    {
     "name": "stdout",
     "output_type": "stream",
     "text": [
      "316 matches found\n",
      "results dict length: 23795\n",
      "\n",
      "exam 14/38\n",
      "exam type: ARREXEBOSL\n",
      "number of documents: (17494, 4)\n",
      "# of batches: 3 | batch size: 6500\n",
      "batch 1/3\n",
      "batch shape: (6500, 17782), item: 0 - 6500\n"
     ]
    },
    {
     "name": "stderr",
     "output_type": "stream",
     "text": [
      "6500it [00:04, 1516.05it/s]\n"
     ]
    },
    {
     "name": "stdout",
     "output_type": "stream",
     "text": [
      "378 matches found\n",
      "results dict length: 24157\n",
      "\n",
      "batch 2/3\n",
      "batch shape: (6500, 17782), item: 6500 - 13000\n"
     ]
    },
    {
     "name": "stderr",
     "output_type": "stream",
     "text": [
      "6500it [00:04, 1528.79it/s]\n"
     ]
    },
    {
     "name": "stdout",
     "output_type": "stream",
     "text": [
      "330 matches found\n",
      "results dict length: 24470\n",
      "\n",
      "batch 3/3\n",
      "batch shape: (4494, 17782), item: 13000 - 19500\n"
     ]
    },
    {
     "name": "stderr",
     "output_type": "stream",
     "text": [
      "4494it [00:02, 1546.81it/s]\n"
     ]
    },
    {
     "name": "stdout",
     "output_type": "stream",
     "text": [
      "219 matches found\n",
      "results dict length: 24681\n",
      "\n",
      "exam 15/38\n",
      "exam type: ARREXEBOSR\n",
      "number of documents: (20113, 4)\n",
      "# of batches: 4 | batch size: 6500\n",
      "batch 1/4\n",
      "batch shape: (6500, 19497), item: 0 - 6500\n"
     ]
    },
    {
     "name": "stderr",
     "output_type": "stream",
     "text": [
      "6500it [00:04, 1524.72it/s]\n"
     ]
    },
    {
     "name": "stdout",
     "output_type": "stream",
     "text": [
      "329 matches found\n",
      "results dict length: 24998\n",
      "\n",
      "batch 2/4\n",
      "batch shape: (6500, 19497), item: 6500 - 13000\n"
     ]
    },
    {
     "name": "stderr",
     "output_type": "stream",
     "text": [
      "6500it [00:04, 1509.53it/s]\n"
     ]
    },
    {
     "name": "stdout",
     "output_type": "stream",
     "text": [
      "349 matches found\n",
      "results dict length: 25328\n",
      "\n",
      "batch 3/4\n",
      "batch shape: (6500, 19497), item: 13000 - 19500\n"
     ]
    },
    {
     "name": "stderr",
     "output_type": "stream",
     "text": [
      "6500it [00:04, 1548.94it/s]\n"
     ]
    },
    {
     "name": "stdout",
     "output_type": "stream",
     "text": [
      "317 matches found\n",
      "results dict length: 25621\n",
      "\n",
      "batch 4/4\n",
      "batch shape: (613, 19497), item: 19500 - 26000\n"
     ]
    },
    {
     "name": "stderr",
     "output_type": "stream",
     "text": [
      "613it [00:00, 1602.67it/s]\n"
     ]
    },
    {
     "name": "stdout",
     "output_type": "stream",
     "text": [
      "18 matches found\n",
      "results dict length: 25639\n",
      "\n",
      "exam 16/38\n",
      "exam type: ARREXEBUFL\n",
      "number of documents: (14436, 4)\n",
      "# of batches: 3 | batch size: 6500\n",
      "batch 1/3\n",
      "batch shape: (6500, 17518), item: 0 - 6500\n"
     ]
    },
    {
     "name": "stderr",
     "output_type": "stream",
     "text": [
      "6500it [00:04, 1509.13it/s]\n"
     ]
    },
    {
     "name": "stdout",
     "output_type": "stream",
     "text": [
      "386 matches found\n",
      "results dict length: 26012\n",
      "\n",
      "batch 2/3\n",
      "batch shape: (6500, 17518), item: 6500 - 13000\n"
     ]
    },
    {
     "name": "stderr",
     "output_type": "stream",
     "text": [
      "6500it [00:04, 1521.08it/s]\n"
     ]
    },
    {
     "name": "stdout",
     "output_type": "stream",
     "text": [
      "371 matches found\n",
      "results dict length: 26358\n",
      "\n",
      "batch 3/3\n",
      "batch shape: (1436, 17518), item: 13000 - 19500\n"
     ]
    },
    {
     "name": "stderr",
     "output_type": "stream",
     "text": [
      "1436it [00:00, 1467.48it/s]\n"
     ]
    },
    {
     "name": "stdout",
     "output_type": "stream",
     "text": [
      "76 matches found\n",
      "results dict length: 26426\n",
      "\n",
      "exam 17/38\n",
      "exam type: ARREXEBUFR\n",
      "number of documents: (15464, 4)\n",
      "# of batches: 3 | batch size: 6500\n",
      "batch 1/3\n",
      "batch shape: (6500, 18004), item: 0 - 6500\n"
     ]
    },
    {
     "name": "stderr",
     "output_type": "stream",
     "text": [
      "6500it [00:04, 1468.46it/s]\n"
     ]
    },
    {
     "name": "stdout",
     "output_type": "stream",
     "text": [
      "372 matches found\n",
      "results dict length: 26782\n",
      "\n",
      "batch 2/3\n",
      "batch shape: (6500, 18004), item: 6500 - 13000\n"
     ]
    },
    {
     "name": "stderr",
     "output_type": "stream",
     "text": [
      "6500it [00:04, 1494.71it/s]\n"
     ]
    },
    {
     "name": "stdout",
     "output_type": "stream",
     "text": [
      "342 matches found\n",
      "results dict length: 27104\n",
      "\n",
      "batch 3/3\n",
      "batch shape: (2464, 18004), item: 13000 - 19500\n"
     ]
    },
    {
     "name": "stderr",
     "output_type": "stream",
     "text": [
      "2464it [00:01, 1488.91it/s]\n"
     ]
    },
    {
     "name": "stdout",
     "output_type": "stream",
     "text": [
      "145 matches found\n",
      "results dict length: 27239\n",
      "\n",
      "exam 18/38\n",
      "exam type: ARREXEBUGL\n",
      "number of documents: (17183, 4)\n",
      "# of batches: 3 | batch size: 6500\n",
      "batch 1/3\n",
      "batch shape: (6500, 15908), item: 0 - 6500\n"
     ]
    },
    {
     "name": "stderr",
     "output_type": "stream",
     "text": [
      "6500it [00:05, 1275.79it/s]\n"
     ]
    },
    {
     "name": "stdout",
     "output_type": "stream",
     "text": [
      "893 matches found\n",
      "results dict length: 28095\n",
      "\n",
      "batch 2/3\n",
      "batch shape: (6500, 15908), item: 6500 - 13000\n"
     ]
    },
    {
     "name": "stderr",
     "output_type": "stream",
     "text": [
      "6500it [00:04, 1303.60it/s]\n"
     ]
    },
    {
     "name": "stdout",
     "output_type": "stream",
     "text": [
      "895 matches found\n",
      "results dict length: 28922\n",
      "\n",
      "batch 3/3\n",
      "batch shape: (4183, 15908), item: 13000 - 19500\n"
     ]
    },
    {
     "name": "stderr",
     "output_type": "stream",
     "text": [
      "4183it [00:03, 1274.68it/s]\n"
     ]
    },
    {
     "name": "stdout",
     "output_type": "stream",
     "text": [
      "581 matches found\n",
      "results dict length: 29440\n",
      "\n",
      "exam 19/38\n",
      "exam type: ARREXEBUGR\n",
      "number of documents: (19219, 4)\n",
      "# of batches: 3 | batch size: 6500\n",
      "batch 1/3\n",
      "batch shape: (6500, 17302), item: 0 - 6500\n"
     ]
    },
    {
     "name": "stderr",
     "output_type": "stream",
     "text": [
      "6500it [00:05, 1213.70it/s]\n"
     ]
    },
    {
     "name": "stdout",
     "output_type": "stream",
     "text": [
      "942 matches found\n",
      "results dict length: 30322\n",
      "\n",
      "batch 2/3\n",
      "batch shape: (6500, 17302), item: 6500 - 13000\n"
     ]
    },
    {
     "name": "stderr",
     "output_type": "stream",
     "text": [
      "6500it [00:05, 1282.70it/s]\n"
     ]
    },
    {
     "name": "stdout",
     "output_type": "stream",
     "text": [
      "850 matches found\n",
      "results dict length: 31106\n",
      "\n",
      "batch 3/3\n",
      "batch shape: (6219, 17302), item: 13000 - 19500\n"
     ]
    },
    {
     "name": "stderr",
     "output_type": "stream",
     "text": [
      "6219it [00:04, 1299.18it/s]\n"
     ]
    },
    {
     "name": "stdout",
     "output_type": "stream",
     "text": [
      "829 matches found\n",
      "results dict length: 31850\n",
      "\n",
      "exam 20/38\n",
      "exam type: ARREXEBUHL\n",
      "number of documents: (10321, 4)\n",
      "# of batches: 2 | batch size: 6500\n",
      "batch 1/2\n",
      "batch shape: (6500, 15231), item: 0 - 6500\n"
     ]
    },
    {
     "name": "stderr",
     "output_type": "stream",
     "text": [
      "6500it [00:04, 1554.74it/s]\n"
     ]
    },
    {
     "name": "stdout",
     "output_type": "stream",
     "text": [
      "169 matches found\n",
      "results dict length: 32015\n",
      "\n",
      "batch 2/2\n",
      "batch shape: (3821, 15231), item: 6500 - 13000\n"
     ]
    },
    {
     "name": "stderr",
     "output_type": "stream",
     "text": [
      "3821it [00:02, 1557.19it/s]\n"
     ]
    },
    {
     "name": "stdout",
     "output_type": "stream",
     "text": [
      "84 matches found\n",
      "results dict length: 32095\n",
      "\n",
      "exam 21/38\n",
      "exam type: ARREXEBUHR\n",
      "number of documents: (10607, 4)\n",
      "# of batches: 2 | batch size: 6500\n",
      "batch 1/2\n",
      "batch shape: (6500, 15321), item: 0 - 6500\n"
     ]
    },
    {
     "name": "stderr",
     "output_type": "stream",
     "text": [
      "6500it [00:04, 1550.06it/s]\n"
     ]
    },
    {
     "name": "stdout",
     "output_type": "stream",
     "text": [
      "154 matches found\n",
      "results dict length: 32245\n",
      "\n",
      "batch 2/2\n",
      "batch shape: (4107, 15321), item: 6500 - 13000\n"
     ]
    },
    {
     "name": "stderr",
     "output_type": "stream",
     "text": [
      "4107it [00:02, 1552.01it/s]\n"
     ]
    },
    {
     "name": "stdout",
     "output_type": "stream",
     "text": [
      "93 matches found\n",
      "results dict length: 32337\n",
      "\n",
      "exam 22/38\n",
      "exam type: ARREXEBUKL\n",
      "number of documents: (21815, 4)\n",
      "# of batches: 4 | batch size: 6500\n",
      "batch 1/4\n",
      "batch shape: (6500, 21592), item: 0 - 6500\n"
     ]
    },
    {
     "name": "stderr",
     "output_type": "stream",
     "text": [
      "6500it [00:04, 1432.79it/s]\n"
     ]
    },
    {
     "name": "stdout",
     "output_type": "stream",
     "text": [
      "514 matches found\n",
      "results dict length: 32830\n",
      "\n",
      "batch 2/4\n",
      "batch shape: (6500, 21592), item: 6500 - 13000\n"
     ]
    },
    {
     "name": "stderr",
     "output_type": "stream",
     "text": [
      "6500it [00:04, 1432.48it/s]\n"
     ]
    },
    {
     "name": "stdout",
     "output_type": "stream",
     "text": [
      "551 matches found\n",
      "results dict length: 33354\n",
      "\n",
      "batch 3/4\n",
      "batch shape: (6500, 21592), item: 13000 - 19500\n"
     ]
    },
    {
     "name": "stderr",
     "output_type": "stream",
     "text": [
      "6500it [00:04, 1456.03it/s]\n"
     ]
    },
    {
     "name": "stdout",
     "output_type": "stream",
     "text": [
      "459 matches found\n",
      "results dict length: 33784\n",
      "\n",
      "batch 4/4\n",
      "batch shape: (2315, 21592), item: 19500 - 26000\n"
     ]
    },
    {
     "name": "stderr",
     "output_type": "stream",
     "text": [
      "2315it [00:01, 1430.64it/s]\n"
     ]
    },
    {
     "name": "stdout",
     "output_type": "stream",
     "text": [
      "183 matches found\n",
      "results dict length: 33945\n",
      "\n",
      "exam 23/38\n",
      "exam type: ARREXEBUKR\n",
      "number of documents: (21970, 4)\n",
      "# of batches: 4 | batch size: 6500\n",
      "batch 1/4\n",
      "batch shape: (6500, 21674), item: 0 - 6500\n"
     ]
    },
    {
     "name": "stderr",
     "output_type": "stream",
     "text": [
      "6500it [00:04, 1444.94it/s]\n"
     ]
    },
    {
     "name": "stdout",
     "output_type": "stream",
     "text": [
      "518 matches found\n",
      "results dict length: 34448\n",
      "\n",
      "batch 2/4\n",
      "batch shape: (6500, 21674), item: 6500 - 13000\n"
     ]
    },
    {
     "name": "stderr",
     "output_type": "stream",
     "text": [
      "6500it [00:04, 1449.22it/s]\n"
     ]
    },
    {
     "name": "stdout",
     "output_type": "stream",
     "text": [
      "507 matches found\n",
      "results dict length: 34928\n",
      "\n",
      "batch 3/4\n",
      "batch shape: (6500, 21674), item: 13000 - 19500\n"
     ]
    },
    {
     "name": "stderr",
     "output_type": "stream",
     "text": [
      "6500it [00:04, 1482.65it/s]\n"
     ]
    },
    {
     "name": "stdout",
     "output_type": "stream",
     "text": [
      "491 matches found\n",
      "results dict length: 35396\n",
      "\n",
      "batch 4/4\n",
      "batch shape: (2470, 21674), item: 19500 - 26000\n"
     ]
    },
    {
     "name": "stderr",
     "output_type": "stream",
     "text": [
      "2470it [00:01, 1445.62it/s]\n"
     ]
    },
    {
     "name": "stdout",
     "output_type": "stream",
     "text": [
      "210 matches found\n",
      "results dict length: 35593\n",
      "\n",
      "exam 24/38\n",
      "exam type: ARRKOPG\n",
      "number of documents: (37337, 4)\n",
      "# of batches: 6 | batch size: 6500\n",
      "batch 1/6\n",
      "batch shape: (6500, 27770), item: 0 - 6500\n"
     ]
    },
    {
     "name": "stderr",
     "output_type": "stream",
     "text": [
      "6500it [00:04, 1544.80it/s]\n"
     ]
    },
    {
     "name": "stdout",
     "output_type": "stream",
     "text": [
      "134 matches found\n",
      "results dict length: 35725\n",
      "\n",
      "batch 2/6\n",
      "batch shape: (6500, 27770), item: 6500 - 13000\n"
     ]
    },
    {
     "name": "stderr",
     "output_type": "stream",
     "text": [
      "6500it [00:04, 1543.07it/s]\n"
     ]
    },
    {
     "name": "stdout",
     "output_type": "stream",
     "text": [
      "140 matches found\n",
      "results dict length: 35863\n",
      "\n",
      "batch 3/6\n",
      "batch shape: (6500, 27770), item: 13000 - 19500\n"
     ]
    },
    {
     "name": "stderr",
     "output_type": "stream",
     "text": [
      "6500it [00:04, 1552.61it/s]\n"
     ]
    },
    {
     "name": "stdout",
     "output_type": "stream",
     "text": [
      "146 matches found\n",
      "results dict length: 36007\n",
      "\n",
      "batch 4/6\n",
      "batch shape: (6500, 27770), item: 19500 - 26000\n"
     ]
    },
    {
     "name": "stderr",
     "output_type": "stream",
     "text": [
      "6500it [00:04, 1539.66it/s]\n"
     ]
    },
    {
     "name": "stdout",
     "output_type": "stream",
     "text": [
      "134 matches found\n",
      "results dict length: 36134\n",
      "\n",
      "batch 5/6\n",
      "batch shape: (6500, 27770), item: 26000 - 32500\n"
     ]
    },
    {
     "name": "stderr",
     "output_type": "stream",
     "text": [
      "6500it [00:04, 1546.45it/s]\n"
     ]
    },
    {
     "name": "stdout",
     "output_type": "stream",
     "text": [
      "130 matches found\n",
      "results dict length: 36257\n",
      "\n",
      "batch 6/6\n",
      "batch shape: (4837, 27770), item: 32500 - 39000\n"
     ]
    },
    {
     "name": "stderr",
     "output_type": "stream",
     "text": [
      "4837it [00:03, 1545.40it/s]\n"
     ]
    },
    {
     "name": "stdout",
     "output_type": "stream",
     "text": [
      "110 matches found\n",
      "results dict length: 36358\n",
      "\n",
      "exam 25/38\n",
      "exam type: ARRKXEBNNH\n",
      "number of documents: (10120, 4)\n",
      "# of batches: 2 | batch size: 6500\n",
      "batch 1/2\n",
      "batch shape: (6500, 12687), item: 0 - 6500\n"
     ]
    },
    {
     "name": "stderr",
     "output_type": "stream",
     "text": [
      "6500it [00:06, 1054.95it/s]\n"
     ]
    },
    {
     "name": "stdout",
     "output_type": "stream",
     "text": [
      "498 matches found\n",
      "results dict length: 36809\n",
      "\n",
      "batch 2/2\n",
      "batch shape: (3620, 12687), item: 6500 - 13000\n"
     ]
    },
    {
     "name": "stderr",
     "output_type": "stream",
     "text": [
      "3620it [00:03, 1057.09it/s]\n"
     ]
    },
    {
     "name": "stdout",
     "output_type": "stream",
     "text": [
      "280 matches found\n",
      "results dict length: 37065\n",
      "\n",
      "exam 26/38\n",
      "exam type: ARRT\n",
      "number of documents: (474268, 4)\n",
      "# of batches: 73 | batch size: 6500\n",
      "batch 1/73\n",
      "batch shape: (6500, 141650), item: 0 - 6500\n"
     ]
    },
    {
     "name": "stderr",
     "output_type": "stream",
     "text": [
      "6500it [00:20, 319.11it/s]\n"
     ]
    },
    {
     "name": "stdout",
     "output_type": "stream",
     "text": [
      "1095 matches found\n",
      "results dict length: 38152\n",
      "\n",
      "batch 2/73\n",
      "batch shape: (6500, 141650), item: 6500 - 13000\n"
     ]
    },
    {
     "name": "stderr",
     "output_type": "stream",
     "text": [
      "6500it [00:16, 397.96it/s]\n"
     ]
    },
    {
     "name": "stdout",
     "output_type": "stream",
     "text": [
      "1118 matches found\n",
      "results dict length: 39270\n",
      "\n",
      "batch 3/73\n",
      "batch shape: (6500, 141650), item: 13000 - 19500\n"
     ]
    },
    {
     "name": "stderr",
     "output_type": "stream",
     "text": [
      "6500it [00:16, 400.07it/s]\n"
     ]
    },
    {
     "name": "stdout",
     "output_type": "stream",
     "text": [
      "1063 matches found\n",
      "results dict length: 40330\n",
      "\n",
      "batch 4/73\n",
      "batch shape: (6500, 141650), item: 19500 - 26000\n"
     ]
    },
    {
     "name": "stderr",
     "output_type": "stream",
     "text": [
      "6500it [00:17, 365.09it/s]\n"
     ]
    },
    {
     "name": "stdout",
     "output_type": "stream",
     "text": [
      "1193 matches found\n",
      "results dict length: 41513\n",
      "\n",
      "batch 5/73\n",
      "batch shape: (6500, 141650), item: 26000 - 32500\n"
     ]
    },
    {
     "name": "stderr",
     "output_type": "stream",
     "text": [
      "6500it [00:16, 384.50it/s]\n"
     ]
    },
    {
     "name": "stdout",
     "output_type": "stream",
     "text": [
      "1077 matches found\n",
      "results dict length: 42589\n",
      "\n",
      "batch 6/73\n",
      "batch shape: (6500, 141650), item: 32500 - 39000\n"
     ]
    },
    {
     "name": "stderr",
     "output_type": "stream",
     "text": [
      "6500it [00:18, 344.13it/s]\n"
     ]
    },
    {
     "name": "stdout",
     "output_type": "stream",
     "text": [
      "1140 matches found\n",
      "results dict length: 43724\n",
      "\n",
      "batch 7/73\n",
      "batch shape: (6500, 141650), item: 39000 - 45500\n"
     ]
    },
    {
     "name": "stderr",
     "output_type": "stream",
     "text": [
      "6500it [00:17, 364.38it/s]\n"
     ]
    },
    {
     "name": "stdout",
     "output_type": "stream",
     "text": [
      "1203 matches found\n",
      "results dict length: 44919\n",
      "\n",
      "batch 8/73\n",
      "batch shape: (6500, 141650), item: 45500 - 52000\n"
     ]
    },
    {
     "name": "stderr",
     "output_type": "stream",
     "text": [
      "6500it [00:16, 389.15it/s]\n"
     ]
    },
    {
     "name": "stdout",
     "output_type": "stream",
     "text": [
      "1131 matches found\n",
      "results dict length: 46036\n",
      "\n",
      "batch 9/73\n",
      "batch shape: (6500, 141650), item: 52000 - 58500\n"
     ]
    },
    {
     "name": "stderr",
     "output_type": "stream",
     "text": [
      "6500it [00:17, 371.11it/s]\n"
     ]
    },
    {
     "name": "stdout",
     "output_type": "stream",
     "text": [
      "1138 matches found\n",
      "results dict length: 47169\n",
      "\n",
      "batch 10/73\n",
      "batch shape: (6500, 141650), item: 58500 - 65000\n"
     ]
    },
    {
     "name": "stderr",
     "output_type": "stream",
     "text": [
      "6500it [00:18, 350.05it/s]\n"
     ]
    },
    {
     "name": "stdout",
     "output_type": "stream",
     "text": [
      "1165 matches found\n",
      "results dict length: 48327\n",
      "\n",
      "batch 11/73\n",
      "batch shape: (6500, 141650), item: 65000 - 71500\n"
     ]
    },
    {
     "name": "stderr",
     "output_type": "stream",
     "text": [
      "6500it [00:17, 376.65it/s]\n"
     ]
    },
    {
     "name": "stdout",
     "output_type": "stream",
     "text": [
      "1131 matches found\n",
      "results dict length: 49456\n",
      "\n",
      "batch 12/73\n",
      "batch shape: (6500, 141650), item: 71500 - 78000\n"
     ]
    },
    {
     "name": "stderr",
     "output_type": "stream",
     "text": [
      "6500it [00:17, 361.71it/s]\n"
     ]
    },
    {
     "name": "stdout",
     "output_type": "stream",
     "text": [
      "1174 matches found\n",
      "results dict length: 50626\n",
      "\n",
      "batch 13/73\n",
      "batch shape: (6500, 141650), item: 78000 - 84500\n"
     ]
    },
    {
     "name": "stderr",
     "output_type": "stream",
     "text": [
      "6500it [00:17, 372.36it/s]\n"
     ]
    },
    {
     "name": "stdout",
     "output_type": "stream",
     "text": [
      "1161 matches found\n",
      "results dict length: 51781\n",
      "\n",
      "batch 14/73\n",
      "batch shape: (6500, 141650), item: 84500 - 91000\n"
     ]
    },
    {
     "name": "stderr",
     "output_type": "stream",
     "text": [
      "6500it [00:17, 374.63it/s]\n"
     ]
    },
    {
     "name": "stdout",
     "output_type": "stream",
     "text": [
      "1169 matches found\n",
      "results dict length: 52945\n",
      "\n",
      "batch 15/73\n",
      "batch shape: (6500, 141650), item: 91000 - 97500\n"
     ]
    },
    {
     "name": "stderr",
     "output_type": "stream",
     "text": [
      "6500it [00:17, 367.05it/s]\n"
     ]
    },
    {
     "name": "stdout",
     "output_type": "stream",
     "text": [
      "1182 matches found\n",
      "results dict length: 54121\n",
      "\n",
      "batch 16/73\n",
      "batch shape: (6500, 141650), item: 97500 - 104000\n"
     ]
    },
    {
     "name": "stderr",
     "output_type": "stream",
     "text": [
      "6500it [00:17, 367.23it/s]\n"
     ]
    },
    {
     "name": "stdout",
     "output_type": "stream",
     "text": [
      "1217 matches found\n",
      "results dict length: 55325\n",
      "\n",
      "batch 17/73\n",
      "batch shape: (6500, 141650), item: 104000 - 110500\n"
     ]
    },
    {
     "name": "stderr",
     "output_type": "stream",
     "text": [
      "6500it [00:18, 358.43it/s]\n"
     ]
    },
    {
     "name": "stdout",
     "output_type": "stream",
     "text": [
      "1170 matches found\n",
      "results dict length: 56481\n",
      "\n",
      "batch 18/73\n",
      "batch shape: (6500, 141650), item: 110500 - 117000\n"
     ]
    },
    {
     "name": "stderr",
     "output_type": "stream",
     "text": [
      "6500it [00:16, 398.36it/s]\n"
     ]
    },
    {
     "name": "stdout",
     "output_type": "stream",
     "text": [
      "1086 matches found\n",
      "results dict length: 57565\n",
      "\n",
      "batch 19/73\n",
      "batch shape: (6500, 141650), item: 117000 - 123500\n"
     ]
    },
    {
     "name": "stderr",
     "output_type": "stream",
     "text": [
      "6500it [00:16, 389.50it/s]\n"
     ]
    },
    {
     "name": "stdout",
     "output_type": "stream",
     "text": [
      "1183 matches found\n",
      "results dict length: 58740\n",
      "\n",
      "batch 20/73\n",
      "batch shape: (6500, 141650), item: 123500 - 130000\n"
     ]
    },
    {
     "name": "stderr",
     "output_type": "stream",
     "text": [
      "6500it [00:16, 395.76it/s]\n"
     ]
    },
    {
     "name": "stdout",
     "output_type": "stream",
     "text": [
      "1114 matches found\n",
      "results dict length: 59849\n",
      "\n",
      "batch 21/73\n",
      "batch shape: (6500, 141650), item: 130000 - 136500\n"
     ]
    },
    {
     "name": "stderr",
     "output_type": "stream",
     "text": [
      "6500it [00:16, 402.04it/s]\n"
     ]
    },
    {
     "name": "stdout",
     "output_type": "stream",
     "text": [
      "1160 matches found\n",
      "results dict length: 61004\n",
      "\n",
      "batch 22/73\n",
      "batch shape: (6500, 141650), item: 136500 - 143000\n"
     ]
    },
    {
     "name": "stderr",
     "output_type": "stream",
     "text": [
      "6500it [00:17, 367.57it/s]\n"
     ]
    },
    {
     "name": "stdout",
     "output_type": "stream",
     "text": [
      "1218 matches found\n",
      "results dict length: 62212\n",
      "\n",
      "batch 23/73\n",
      "batch shape: (6500, 141650), item: 143000 - 149500\n"
     ]
    },
    {
     "name": "stderr",
     "output_type": "stream",
     "text": [
      "6500it [00:17, 367.78it/s]\n"
     ]
    },
    {
     "name": "stdout",
     "output_type": "stream",
     "text": [
      "1147 matches found\n",
      "results dict length: 63351\n",
      "\n",
      "batch 24/73\n",
      "batch shape: (6500, 141650), item: 149500 - 156000\n"
     ]
    },
    {
     "name": "stderr",
     "output_type": "stream",
     "text": [
      "6500it [00:17, 372.66it/s]\n"
     ]
    },
    {
     "name": "stdout",
     "output_type": "stream",
     "text": [
      "1109 matches found\n",
      "results dict length: 64450\n",
      "\n",
      "batch 25/73\n",
      "batch shape: (6500, 141650), item: 156000 - 162500\n"
     ]
    },
    {
     "name": "stderr",
     "output_type": "stream",
     "text": [
      "6500it [00:17, 367.58it/s]\n"
     ]
    },
    {
     "name": "stdout",
     "output_type": "stream",
     "text": [
      "1191 matches found\n",
      "results dict length: 65632\n",
      "\n",
      "batch 26/73\n",
      "batch shape: (6500, 141650), item: 162500 - 169000\n"
     ]
    },
    {
     "name": "stderr",
     "output_type": "stream",
     "text": [
      "6500it [00:15, 407.31it/s]\n"
     ]
    },
    {
     "name": "stdout",
     "output_type": "stream",
     "text": [
      "1110 matches found\n",
      "results dict length: 66733\n",
      "\n",
      "batch 27/73\n",
      "batch shape: (6500, 141650), item: 169000 - 175500\n"
     ]
    },
    {
     "name": "stderr",
     "output_type": "stream",
     "text": [
      "6500it [00:16, 385.50it/s]\n"
     ]
    },
    {
     "name": "stdout",
     "output_type": "stream",
     "text": [
      "1166 matches found\n",
      "results dict length: 67883\n",
      "\n",
      "batch 28/73\n",
      "batch shape: (6500, 141650), item: 175500 - 182000\n"
     ]
    },
    {
     "name": "stderr",
     "output_type": "stream",
     "text": [
      "6500it [00:16, 392.26it/s]\n"
     ]
    },
    {
     "name": "stdout",
     "output_type": "stream",
     "text": [
      "1060 matches found\n",
      "results dict length: 68935\n",
      "\n",
      "batch 29/73\n",
      "batch shape: (6500, 141650), item: 182000 - 188500\n"
     ]
    },
    {
     "name": "stderr",
     "output_type": "stream",
     "text": [
      "6500it [00:16, 404.93it/s]\n"
     ]
    },
    {
     "name": "stdout",
     "output_type": "stream",
     "text": [
      "1084 matches found\n",
      "results dict length: 70011\n",
      "\n",
      "batch 30/73\n",
      "batch shape: (6500, 141650), item: 188500 - 195000\n"
     ]
    },
    {
     "name": "stderr",
     "output_type": "stream",
     "text": [
      "6500it [00:16, 392.46it/s]\n"
     ]
    },
    {
     "name": "stdout",
     "output_type": "stream",
     "text": [
      "1116 matches found\n",
      "results dict length: 71112\n",
      "\n",
      "batch 31/73\n",
      "batch shape: (6500, 141650), item: 195000 - 201500\n"
     ]
    },
    {
     "name": "stderr",
     "output_type": "stream",
     "text": [
      "6500it [00:16, 390.08it/s]\n"
     ]
    },
    {
     "name": "stdout",
     "output_type": "stream",
     "text": [
      "1207 matches found\n",
      "results dict length: 72307\n",
      "\n",
      "batch 32/73\n",
      "batch shape: (6500, 141650), item: 201500 - 208000\n"
     ]
    },
    {
     "name": "stderr",
     "output_type": "stream",
     "text": [
      "6500it [00:17, 382.11it/s]\n"
     ]
    },
    {
     "name": "stdout",
     "output_type": "stream",
     "text": [
      "1168 matches found\n",
      "results dict length: 73464\n",
      "\n",
      "batch 33/73\n",
      "batch shape: (6500, 141650), item: 208000 - 214500\n"
     ]
    },
    {
     "name": "stderr",
     "output_type": "stream",
     "text": [
      "6500it [00:17, 373.80it/s]\n"
     ]
    },
    {
     "name": "stdout",
     "output_type": "stream",
     "text": [
      "1113 matches found\n",
      "results dict length: 74568\n",
      "\n",
      "batch 34/73\n",
      "batch shape: (6500, 141650), item: 214500 - 221000\n"
     ]
    },
    {
     "name": "stderr",
     "output_type": "stream",
     "text": [
      "6500it [00:17, 374.89it/s]\n"
     ]
    },
    {
     "name": "stdout",
     "output_type": "stream",
     "text": [
      "1193 matches found\n",
      "results dict length: 75745\n",
      "\n",
      "batch 35/73\n",
      "batch shape: (6500, 141650), item: 221000 - 227500\n"
     ]
    },
    {
     "name": "stderr",
     "output_type": "stream",
     "text": [
      "6500it [00:16, 392.46it/s]\n"
     ]
    },
    {
     "name": "stdout",
     "output_type": "stream",
     "text": [
      "1134 matches found\n",
      "results dict length: 76867\n",
      "\n",
      "batch 36/73\n",
      "batch shape: (6500, 141650), item: 227500 - 234000\n"
     ]
    },
    {
     "name": "stderr",
     "output_type": "stream",
     "text": [
      "6500it [00:16, 385.96it/s]\n"
     ]
    },
    {
     "name": "stdout",
     "output_type": "stream",
     "text": [
      "1199 matches found\n",
      "results dict length: 78050\n",
      "\n",
      "batch 37/73\n",
      "batch shape: (6500, 141650), item: 234000 - 240500\n"
     ]
    },
    {
     "name": "stderr",
     "output_type": "stream",
     "text": [
      "6500it [00:15, 409.41it/s]\n"
     ]
    },
    {
     "name": "stdout",
     "output_type": "stream",
     "text": [
      "1066 matches found\n",
      "results dict length: 79101\n",
      "\n",
      "batch 38/73\n",
      "batch shape: (6500, 141650), item: 240500 - 247000\n"
     ]
    },
    {
     "name": "stderr",
     "output_type": "stream",
     "text": [
      "6500it [00:17, 374.11it/s]\n"
     ]
    },
    {
     "name": "stdout",
     "output_type": "stream",
     "text": [
      "1189 matches found\n",
      "results dict length: 80277\n",
      "\n",
      "batch 39/73\n",
      "batch shape: (6500, 141650), item: 247000 - 253500\n"
     ]
    },
    {
     "name": "stderr",
     "output_type": "stream",
     "text": [
      "6500it [00:17, 380.15it/s]\n"
     ]
    },
    {
     "name": "stdout",
     "output_type": "stream",
     "text": [
      "1194 matches found\n",
      "results dict length: 81459\n",
      "\n",
      "batch 40/73\n",
      "batch shape: (6500, 141650), item: 253500 - 260000\n"
     ]
    },
    {
     "name": "stderr",
     "output_type": "stream",
     "text": [
      "6500it [00:17, 369.49it/s]\n"
     ]
    },
    {
     "name": "stdout",
     "output_type": "stream",
     "text": [
      "1203 matches found\n",
      "results dict length: 82635\n",
      "\n",
      "batch 41/73\n",
      "batch shape: (6500, 141650), item: 260000 - 266500\n"
     ]
    },
    {
     "name": "stderr",
     "output_type": "stream",
     "text": [
      "6500it [00:17, 374.25it/s]\n"
     ]
    },
    {
     "name": "stdout",
     "output_type": "stream",
     "text": [
      "1130 matches found\n",
      "results dict length: 83751\n",
      "\n",
      "batch 42/73\n",
      "batch shape: (6500, 141650), item: 266500 - 273000\n"
     ]
    },
    {
     "name": "stderr",
     "output_type": "stream",
     "text": [
      "6500it [00:16, 385.84it/s]\n"
     ]
    },
    {
     "name": "stdout",
     "output_type": "stream",
     "text": [
      "1115 matches found\n",
      "results dict length: 84857\n",
      "\n",
      "batch 43/73\n",
      "batch shape: (6500, 141650), item: 273000 - 279500\n"
     ]
    },
    {
     "name": "stderr",
     "output_type": "stream",
     "text": [
      "6500it [00:17, 378.36it/s]\n"
     ]
    },
    {
     "name": "stdout",
     "output_type": "stream",
     "text": [
      "1114 matches found\n",
      "results dict length: 85962\n",
      "\n",
      "batch 44/73\n",
      "batch shape: (6500, 141650), item: 279500 - 286000\n"
     ]
    },
    {
     "name": "stderr",
     "output_type": "stream",
     "text": [
      "6500it [00:17, 373.54it/s]\n"
     ]
    },
    {
     "name": "stdout",
     "output_type": "stream",
     "text": [
      "1160 matches found\n",
      "results dict length: 87110\n",
      "\n",
      "batch 45/73\n",
      "batch shape: (6500, 141650), item: 286000 - 292500\n"
     ]
    },
    {
     "name": "stderr",
     "output_type": "stream",
     "text": [
      "6500it [00:17, 378.42it/s]\n"
     ]
    },
    {
     "name": "stdout",
     "output_type": "stream",
     "text": [
      "1173 matches found\n",
      "results dict length: 88267\n",
      "\n",
      "batch 46/73\n",
      "batch shape: (6500, 141650), item: 292500 - 299000\n"
     ]
    },
    {
     "name": "stderr",
     "output_type": "stream",
     "text": [
      "6500it [00:17, 372.30it/s]\n"
     ]
    },
    {
     "name": "stdout",
     "output_type": "stream",
     "text": [
      "1143 matches found\n",
      "results dict length: 89404\n",
      "\n",
      "batch 47/73\n",
      "batch shape: (6500, 141650), item: 299000 - 305500\n"
     ]
    },
    {
     "name": "stderr",
     "output_type": "stream",
     "text": [
      "6500it [00:17, 377.11it/s]\n"
     ]
    },
    {
     "name": "stdout",
     "output_type": "stream",
     "text": [
      "1163 matches found\n",
      "results dict length: 90553\n",
      "\n",
      "batch 48/73\n",
      "batch shape: (6500, 141650), item: 305500 - 312000\n"
     ]
    },
    {
     "name": "stderr",
     "output_type": "stream",
     "text": [
      "6500it [00:17, 363.63it/s]\n"
     ]
    },
    {
     "name": "stdout",
     "output_type": "stream",
     "text": [
      "1205 matches found\n",
      "results dict length: 91739\n",
      "\n",
      "batch 49/73\n",
      "batch shape: (6500, 141650), item: 312000 - 318500\n"
     ]
    },
    {
     "name": "stderr",
     "output_type": "stream",
     "text": [
      "6500it [00:17, 366.82it/s]\n"
     ]
    },
    {
     "name": "stdout",
     "output_type": "stream",
     "text": [
      "1186 matches found\n",
      "results dict length: 92908\n",
      "\n",
      "batch 50/73\n",
      "batch shape: (6500, 141650), item: 318500 - 325000\n"
     ]
    },
    {
     "name": "stderr",
     "output_type": "stream",
     "text": [
      "6500it [00:17, 379.10it/s]\n"
     ]
    },
    {
     "name": "stdout",
     "output_type": "stream",
     "text": [
      "1134 matches found\n",
      "results dict length: 94031\n",
      "\n",
      "batch 51/73\n",
      "batch shape: (6500, 141650), item: 325000 - 331500\n"
     ]
    },
    {
     "name": "stderr",
     "output_type": "stream",
     "text": [
      "6500it [00:17, 375.60it/s]\n"
     ]
    },
    {
     "name": "stdout",
     "output_type": "stream",
     "text": [
      "1114 matches found\n",
      "results dict length: 95125\n",
      "\n",
      "batch 52/73\n",
      "batch shape: (6500, 141650), item: 331500 - 338000\n"
     ]
    },
    {
     "name": "stderr",
     "output_type": "stream",
     "text": [
      "6500it [00:17, 370.04it/s]\n"
     ]
    },
    {
     "name": "stdout",
     "output_type": "stream",
     "text": [
      "1208 matches found\n",
      "results dict length: 96319\n",
      "\n",
      "batch 53/73\n",
      "batch shape: (6500, 141650), item: 338000 - 344500\n"
     ]
    },
    {
     "name": "stderr",
     "output_type": "stream",
     "text": [
      "6500it [00:16, 405.84it/s]\n"
     ]
    },
    {
     "name": "stdout",
     "output_type": "stream",
     "text": [
      "1060 matches found\n",
      "results dict length: 97374\n",
      "\n",
      "batch 54/73\n",
      "batch shape: (6500, 141650), item: 344500 - 351000\n"
     ]
    },
    {
     "name": "stderr",
     "output_type": "stream",
     "text": [
      "6500it [00:16, 384.10it/s]\n"
     ]
    },
    {
     "name": "stdout",
     "output_type": "stream",
     "text": [
      "1093 matches found\n",
      "results dict length: 98456\n",
      "\n",
      "batch 55/73\n",
      "batch shape: (6500, 141650), item: 351000 - 357500\n"
     ]
    },
    {
     "name": "stderr",
     "output_type": "stream",
     "text": [
      "6500it [00:17, 377.64it/s]\n"
     ]
    },
    {
     "name": "stdout",
     "output_type": "stream",
     "text": [
      "1121 matches found\n",
      "results dict length: 99561\n",
      "\n",
      "batch 56/73\n",
      "batch shape: (6500, 141650), item: 357500 - 364000\n"
     ]
    },
    {
     "name": "stderr",
     "output_type": "stream",
     "text": [
      "6500it [00:16, 396.21it/s]\n"
     ]
    },
    {
     "name": "stdout",
     "output_type": "stream",
     "text": [
      "1136 matches found\n",
      "results dict length: 100688\n",
      "\n",
      "batch 57/73\n",
      "batch shape: (6500, 141650), item: 364000 - 370500\n"
     ]
    },
    {
     "name": "stderr",
     "output_type": "stream",
     "text": [
      "6500it [00:18, 358.74it/s]\n"
     ]
    },
    {
     "name": "stdout",
     "output_type": "stream",
     "text": [
      "1173 matches found\n",
      "results dict length: 101850\n",
      "\n",
      "batch 58/73\n",
      "batch shape: (6500, 141650), item: 370500 - 377000\n"
     ]
    },
    {
     "name": "stderr",
     "output_type": "stream",
     "text": [
      "6500it [00:17, 366.10it/s]\n"
     ]
    },
    {
     "name": "stdout",
     "output_type": "stream",
     "text": [
      "1100 matches found\n",
      "results dict length: 102939\n",
      "\n",
      "batch 59/73\n",
      "batch shape: (6500, 141650), item: 377000 - 383500\n"
     ]
    },
    {
     "name": "stderr",
     "output_type": "stream",
     "text": [
      "6500it [00:17, 369.01it/s]\n"
     ]
    },
    {
     "name": "stdout",
     "output_type": "stream",
     "text": [
      "1133 matches found\n",
      "results dict length: 104056\n",
      "\n",
      "batch 60/73\n",
      "batch shape: (6500, 141650), item: 383500 - 390000\n"
     ]
    },
    {
     "name": "stderr",
     "output_type": "stream",
     "text": [
      "6500it [00:16, 387.06it/s]\n"
     ]
    },
    {
     "name": "stdout",
     "output_type": "stream",
     "text": [
      "1155 matches found\n",
      "results dict length: 105194\n",
      "\n",
      "batch 61/73\n",
      "batch shape: (6500, 141650), item: 390000 - 396500\n"
     ]
    },
    {
     "name": "stderr",
     "output_type": "stream",
     "text": [
      "6500it [00:17, 362.24it/s]\n"
     ]
    },
    {
     "name": "stdout",
     "output_type": "stream",
     "text": [
      "1166 matches found\n",
      "results dict length: 106350\n",
      "\n",
      "batch 62/73\n",
      "batch shape: (6500, 141650), item: 396500 - 403000\n"
     ]
    },
    {
     "name": "stderr",
     "output_type": "stream",
     "text": [
      "6500it [00:15, 416.75it/s]\n"
     ]
    },
    {
     "name": "stdout",
     "output_type": "stream",
     "text": [
      "1029 matches found\n",
      "results dict length: 107367\n",
      "\n",
      "batch 63/73\n",
      "batch shape: (6500, 141650), item: 403000 - 409500\n"
     ]
    },
    {
     "name": "stderr",
     "output_type": "stream",
     "text": [
      "6500it [00:16, 382.95it/s]\n"
     ]
    },
    {
     "name": "stdout",
     "output_type": "stream",
     "text": [
      "1134 matches found\n",
      "results dict length: 108492\n",
      "\n",
      "batch 64/73\n",
      "batch shape: (6500, 141650), item: 409500 - 416000\n"
     ]
    },
    {
     "name": "stderr",
     "output_type": "stream",
     "text": [
      "6500it [00:17, 376.56it/s]\n"
     ]
    },
    {
     "name": "stdout",
     "output_type": "stream",
     "text": [
      "1076 matches found\n",
      "results dict length: 109555\n",
      "\n",
      "batch 65/73\n",
      "batch shape: (6500, 141650), item: 416000 - 422500\n"
     ]
    },
    {
     "name": "stderr",
     "output_type": "stream",
     "text": [
      "6500it [00:15, 416.01it/s]\n"
     ]
    },
    {
     "name": "stdout",
     "output_type": "stream",
     "text": [
      "1108 matches found\n",
      "results dict length: 110657\n",
      "\n",
      "batch 66/73\n",
      "batch shape: (6500, 141650), item: 422500 - 429000\n"
     ]
    },
    {
     "name": "stderr",
     "output_type": "stream",
     "text": [
      "6500it [00:16, 402.97it/s]\n"
     ]
    },
    {
     "name": "stdout",
     "output_type": "stream",
     "text": [
      "1127 matches found\n",
      "results dict length: 111772\n",
      "\n",
      "batch 67/73\n",
      "batch shape: (6500, 141650), item: 429000 - 435500\n"
     ]
    },
    {
     "name": "stderr",
     "output_type": "stream",
     "text": [
      "6500it [00:16, 384.90it/s]\n"
     ]
    },
    {
     "name": "stdout",
     "output_type": "stream",
     "text": [
      "1153 matches found\n",
      "results dict length: 112909\n",
      "\n",
      "batch 68/73\n",
      "batch shape: (6500, 141650), item: 435500 - 442000\n"
     ]
    },
    {
     "name": "stderr",
     "output_type": "stream",
     "text": [
      "6500it [00:16, 390.24it/s]\n"
     ]
    },
    {
     "name": "stdout",
     "output_type": "stream",
     "text": [
      "1128 matches found\n",
      "results dict length: 114023\n",
      "\n",
      "batch 69/73\n",
      "batch shape: (6500, 141650), item: 442000 - 448500\n"
     ]
    },
    {
     "name": "stderr",
     "output_type": "stream",
     "text": [
      "6500it [00:16, 389.61it/s]\n"
     ]
    },
    {
     "name": "stdout",
     "output_type": "stream",
     "text": [
      "1111 matches found\n",
      "results dict length: 115116\n",
      "\n",
      "batch 70/73\n",
      "batch shape: (6500, 141650), item: 448500 - 455000\n"
     ]
    },
    {
     "name": "stderr",
     "output_type": "stream",
     "text": [
      "6500it [00:18, 353.87it/s]\n"
     ]
    },
    {
     "name": "stdout",
     "output_type": "stream",
     "text": [
      "1128 matches found\n",
      "results dict length: 116225\n",
      "\n",
      "batch 71/73\n",
      "batch shape: (6500, 141650), item: 455000 - 461500\n"
     ]
    },
    {
     "name": "stderr",
     "output_type": "stream",
     "text": [
      "6500it [00:16, 400.17it/s]\n"
     ]
    },
    {
     "name": "stdout",
     "output_type": "stream",
     "text": [
      "1111 matches found\n",
      "results dict length: 117319\n",
      "\n",
      "batch 72/73\n",
      "batch shape: (6500, 141650), item: 461500 - 468000\n"
     ]
    },
    {
     "name": "stderr",
     "output_type": "stream",
     "text": [
      "6500it [00:18, 354.95it/s]\n"
     ]
    },
    {
     "name": "stdout",
     "output_type": "stream",
     "text": [
      "1150 matches found\n",
      "results dict length: 118450\n",
      "\n",
      "batch 73/73\n",
      "batch shape: (6268, 141650), item: 468000 - 474500\n"
     ]
    },
    {
     "name": "stderr",
     "output_type": "stream",
     "text": [
      "6268it [00:16, 369.93it/s]\n"
     ]
    },
    {
     "name": "stdout",
     "output_type": "stream",
     "text": [
      "1091 matches found\n",
      "results dict length: 119521\n",
      "\n",
      "exam 27/38\n",
      "exam type: ARRTRBS\n",
      "number of documents: (449008, 4)\n",
      "# of batches: 70 | batch size: 6500\n",
      "batch 1/70\n",
      "batch shape: (6500, 102565), item: 0 - 6500\n"
     ]
    },
    {
     "name": "stderr",
     "output_type": "stream",
     "text": [
      "6500it [00:19, 326.00it/s]\n"
     ]
    },
    {
     "name": "stdout",
     "output_type": "stream",
     "text": [
      "1248 matches found\n",
      "results dict length: 120766\n",
      "\n",
      "batch 2/70\n",
      "batch shape: (6500, 102565), item: 6500 - 13000\n"
     ]
    },
    {
     "name": "stderr",
     "output_type": "stream",
     "text": [
      "6500it [00:24, 268.43it/s]\n"
     ]
    },
    {
     "name": "stdout",
     "output_type": "stream",
     "text": [
      "1277 matches found\n",
      "results dict length: 122043\n",
      "\n",
      "batch 3/70\n",
      "batch shape: (6500, 102565), item: 13000 - 19500\n"
     ]
    },
    {
     "name": "stderr",
     "output_type": "stream",
     "text": [
      "6500it [00:21, 299.06it/s]\n"
     ]
    },
    {
     "name": "stdout",
     "output_type": "stream",
     "text": [
      "1189 matches found\n",
      "results dict length: 123230\n",
      "\n",
      "batch 4/70\n",
      "batch shape: (6500, 102565), item: 19500 - 26000\n"
     ]
    },
    {
     "name": "stderr",
     "output_type": "stream",
     "text": [
      "6500it [00:24, 264.18it/s]\n"
     ]
    },
    {
     "name": "stdout",
     "output_type": "stream",
     "text": [
      "1309 matches found\n",
      "results dict length: 124534\n",
      "\n",
      "batch 5/70\n",
      "batch shape: (6500, 102565), item: 26000 - 32500\n"
     ]
    },
    {
     "name": "stderr",
     "output_type": "stream",
     "text": [
      "6500it [00:23, 277.30it/s]\n"
     ]
    },
    {
     "name": "stdout",
     "output_type": "stream",
     "text": [
      "1256 matches found\n",
      "results dict length: 125785\n",
      "\n",
      "batch 6/70\n",
      "batch shape: (6500, 102565), item: 32500 - 39000\n"
     ]
    },
    {
     "name": "stderr",
     "output_type": "stream",
     "text": [
      "6500it [00:25, 255.58it/s]\n"
     ]
    },
    {
     "name": "stdout",
     "output_type": "stream",
     "text": [
      "1345 matches found\n",
      "results dict length: 127122\n",
      "\n",
      "batch 7/70\n",
      "batch shape: (6500, 102565), item: 39000 - 45500\n"
     ]
    },
    {
     "name": "stderr",
     "output_type": "stream",
     "text": [
      "6500it [00:23, 280.54it/s]\n"
     ]
    },
    {
     "name": "stdout",
     "output_type": "stream",
     "text": [
      "1260 matches found\n",
      "results dict length: 128377\n",
      "\n",
      "batch 8/70\n",
      "batch shape: (6500, 102565), item: 45500 - 52000\n"
     ]
    },
    {
     "name": "stderr",
     "output_type": "stream",
     "text": [
      "6500it [00:22, 293.75it/s]\n"
     ]
    },
    {
     "name": "stdout",
     "output_type": "stream",
     "text": [
      "1338 matches found\n",
      "results dict length: 129713\n",
      "\n",
      "batch 9/70\n",
      "batch shape: (6500, 102565), item: 52000 - 58500\n"
     ]
    },
    {
     "name": "stderr",
     "output_type": "stream",
     "text": [
      "6500it [00:26, 242.31it/s]\n"
     ]
    },
    {
     "name": "stdout",
     "output_type": "stream",
     "text": [
      "1388 matches found\n",
      "results dict length: 131092\n",
      "\n",
      "batch 10/70\n",
      "batch shape: (6500, 102565), item: 58500 - 65000\n"
     ]
    },
    {
     "name": "stderr",
     "output_type": "stream",
     "text": [
      "6500it [00:26, 245.69it/s]\n"
     ]
    },
    {
     "name": "stdout",
     "output_type": "stream",
     "text": [
      "1349 matches found\n",
      "results dict length: 132429\n",
      "\n",
      "batch 11/70\n",
      "batch shape: (6500, 102565), item: 65000 - 71500\n"
     ]
    },
    {
     "name": "stderr",
     "output_type": "stream",
     "text": [
      "6500it [00:24, 269.46it/s]\n"
     ]
    },
    {
     "name": "stdout",
     "output_type": "stream",
     "text": [
      "1263 matches found\n",
      "results dict length: 133687\n",
      "\n",
      "batch 12/70\n",
      "batch shape: (6500, 102565), item: 71500 - 78000\n"
     ]
    },
    {
     "name": "stderr",
     "output_type": "stream",
     "text": [
      "6500it [00:27, 240.45it/s]\n"
     ]
    },
    {
     "name": "stdout",
     "output_type": "stream",
     "text": [
      "1315 matches found\n",
      "results dict length: 134991\n",
      "\n",
      "batch 13/70\n",
      "batch shape: (6500, 102565), item: 78000 - 84500\n"
     ]
    },
    {
     "name": "stderr",
     "output_type": "stream",
     "text": [
      "6500it [00:23, 277.48it/s]\n"
     ]
    },
    {
     "name": "stdout",
     "output_type": "stream",
     "text": [
      "1429 matches found\n",
      "results dict length: 136403\n",
      "\n",
      "batch 14/70\n",
      "batch shape: (6500, 102565), item: 84500 - 91000\n"
     ]
    },
    {
     "name": "stderr",
     "output_type": "stream",
     "text": [
      "6500it [00:26, 242.38it/s]\n"
     ]
    },
    {
     "name": "stdout",
     "output_type": "stream",
     "text": [
      "1322 matches found\n",
      "results dict length: 137711\n",
      "\n",
      "batch 15/70\n",
      "batch shape: (6500, 102565), item: 91000 - 97500\n"
     ]
    },
    {
     "name": "stderr",
     "output_type": "stream",
     "text": [
      "6500it [00:34, 190.09it/s]\n"
     ]
    },
    {
     "name": "stdout",
     "output_type": "stream",
     "text": [
      "1536 matches found\n",
      "results dict length: 139233\n",
      "\n",
      "batch 16/70\n",
      "batch shape: (6500, 102565), item: 97500 - 104000\n"
     ]
    },
    {
     "name": "stderr",
     "output_type": "stream",
     "text": [
      "6500it [00:26, 242.90it/s]\n"
     ]
    },
    {
     "name": "stdout",
     "output_type": "stream",
     "text": [
      "1361 matches found\n",
      "results dict length: 140583\n",
      "\n",
      "batch 17/70\n",
      "batch shape: (6500, 102565), item: 104000 - 110500\n"
     ]
    },
    {
     "name": "stderr",
     "output_type": "stream",
     "text": [
      "6500it [00:25, 257.08it/s]\n"
     ]
    },
    {
     "name": "stdout",
     "output_type": "stream",
     "text": [
      "1360 matches found\n",
      "results dict length: 141932\n",
      "\n",
      "batch 18/70\n",
      "batch shape: (6500, 102565), item: 110500 - 117000\n"
     ]
    },
    {
     "name": "stderr",
     "output_type": "stream",
     "text": [
      "6500it [00:24, 268.02it/s]\n"
     ]
    },
    {
     "name": "stdout",
     "output_type": "stream",
     "text": [
      "1374 matches found\n",
      "results dict length: 143295\n",
      "\n",
      "batch 19/70\n",
      "batch shape: (6500, 102565), item: 117000 - 123500\n"
     ]
    },
    {
     "name": "stderr",
     "output_type": "stream",
     "text": [
      "6500it [00:22, 289.96it/s]\n"
     ]
    },
    {
     "name": "stdout",
     "output_type": "stream",
     "text": [
      "1292 matches found\n",
      "results dict length: 144578\n",
      "\n",
      "batch 20/70\n",
      "batch shape: (6500, 102565), item: 123500 - 130000\n"
     ]
    },
    {
     "name": "stderr",
     "output_type": "stream",
     "text": [
      "6500it [00:22, 291.63it/s]\n"
     ]
    },
    {
     "name": "stdout",
     "output_type": "stream",
     "text": [
      "1167 matches found\n",
      "results dict length: 145733\n",
      "\n",
      "batch 21/70\n",
      "batch shape: (6500, 102565), item: 130000 - 136500\n"
     ]
    },
    {
     "name": "stderr",
     "output_type": "stream",
     "text": [
      "6500it [00:26, 248.50it/s]\n"
     ]
    },
    {
     "name": "stdout",
     "output_type": "stream",
     "text": [
      "1433 matches found\n",
      "results dict length: 147156\n",
      "\n",
      "batch 22/70\n",
      "batch shape: (6500, 102565), item: 136500 - 143000\n"
     ]
    },
    {
     "name": "stderr",
     "output_type": "stream",
     "text": [
      "6500it [00:19, 336.60it/s]\n"
     ]
    },
    {
     "name": "stdout",
     "output_type": "stream",
     "text": [
      "1231 matches found\n",
      "results dict length: 148379\n",
      "\n",
      "batch 23/70\n",
      "batch shape: (6500, 102565), item: 143000 - 149500\n"
     ]
    },
    {
     "name": "stderr",
     "output_type": "stream",
     "text": [
      "6500it [00:25, 257.34it/s]\n"
     ]
    },
    {
     "name": "stdout",
     "output_type": "stream",
     "text": [
      "1349 matches found\n",
      "results dict length: 149714\n",
      "\n",
      "batch 24/70\n",
      "batch shape: (6500, 102565), item: 149500 - 156000\n"
     ]
    },
    {
     "name": "stderr",
     "output_type": "stream",
     "text": [
      "6500it [00:27, 232.50it/s]\n"
     ]
    },
    {
     "name": "stdout",
     "output_type": "stream",
     "text": [
      "1492 matches found\n",
      "results dict length: 151190\n",
      "\n",
      "batch 25/70\n",
      "batch shape: (6500, 102565), item: 156000 - 162500\n"
     ]
    },
    {
     "name": "stderr",
     "output_type": "stream",
     "text": [
      "6500it [00:23, 274.66it/s]\n"
     ]
    },
    {
     "name": "stdout",
     "output_type": "stream",
     "text": [
      "1349 matches found\n",
      "results dict length: 152527\n",
      "\n",
      "batch 26/70\n",
      "batch shape: (6500, 102565), item: 162500 - 169000\n"
     ]
    },
    {
     "name": "stderr",
     "output_type": "stream",
     "text": [
      "6500it [00:24, 261.29it/s]\n"
     ]
    },
    {
     "name": "stdout",
     "output_type": "stream",
     "text": [
      "1341 matches found\n",
      "results dict length: 153855\n",
      "\n",
      "batch 27/70\n",
      "batch shape: (6500, 102565), item: 169000 - 175500\n"
     ]
    },
    {
     "name": "stderr",
     "output_type": "stream",
     "text": [
      "6500it [00:22, 290.06it/s]\n"
     ]
    },
    {
     "name": "stdout",
     "output_type": "stream",
     "text": [
      "1322 matches found\n",
      "results dict length: 155161\n",
      "\n",
      "batch 28/70\n",
      "batch shape: (6500, 102565), item: 175500 - 182000\n"
     ]
    },
    {
     "name": "stderr",
     "output_type": "stream",
     "text": [
      "6500it [00:22, 290.89it/s]\n"
     ]
    },
    {
     "name": "stdout",
     "output_type": "stream",
     "text": [
      "1276 matches found\n",
      "results dict length: 156429\n",
      "\n",
      "batch 29/70\n",
      "batch shape: (6500, 102565), item: 182000 - 188500\n"
     ]
    },
    {
     "name": "stderr",
     "output_type": "stream",
     "text": [
      "6500it [00:22, 286.45it/s]\n"
     ]
    },
    {
     "name": "stdout",
     "output_type": "stream",
     "text": [
      "1332 matches found\n",
      "results dict length: 157751\n",
      "\n",
      "batch 30/70\n",
      "batch shape: (6500, 102565), item: 188500 - 195000\n"
     ]
    },
    {
     "name": "stderr",
     "output_type": "stream",
     "text": [
      "6500it [00:24, 265.19it/s]\n"
     ]
    },
    {
     "name": "stdout",
     "output_type": "stream",
     "text": [
      "1352 matches found\n",
      "results dict length: 159091\n",
      "\n",
      "batch 31/70\n",
      "batch shape: (6500, 102565), item: 195000 - 201500\n"
     ]
    },
    {
     "name": "stderr",
     "output_type": "stream",
     "text": [
      "6500it [00:24, 262.38it/s]\n"
     ]
    },
    {
     "name": "stdout",
     "output_type": "stream",
     "text": [
      "1297 matches found\n",
      "results dict length: 160372\n",
      "\n",
      "batch 32/70\n",
      "batch shape: (6500, 102565), item: 201500 - 208000\n"
     ]
    },
    {
     "name": "stderr",
     "output_type": "stream",
     "text": [
      "6500it [00:23, 272.45it/s]\n"
     ]
    },
    {
     "name": "stdout",
     "output_type": "stream",
     "text": [
      "1304 matches found\n",
      "results dict length: 161651\n",
      "\n",
      "batch 33/70\n",
      "batch shape: (6500, 102565), item: 208000 - 214500\n"
     ]
    },
    {
     "name": "stderr",
     "output_type": "stream",
     "text": [
      "6500it [00:20, 317.64it/s]\n"
     ]
    },
    {
     "name": "stdout",
     "output_type": "stream",
     "text": [
      "1241 matches found\n",
      "results dict length: 162881\n",
      "\n",
      "batch 34/70\n",
      "batch shape: (6500, 102565), item: 214500 - 221000\n"
     ]
    },
    {
     "name": "stderr",
     "output_type": "stream",
     "text": [
      "6500it [00:22, 294.55it/s]\n"
     ]
    },
    {
     "name": "stdout",
     "output_type": "stream",
     "text": [
      "1281 matches found\n",
      "results dict length: 164150\n",
      "\n",
      "batch 35/70\n",
      "batch shape: (6500, 102565), item: 221000 - 227500\n"
     ]
    },
    {
     "name": "stderr",
     "output_type": "stream",
     "text": [
      "6500it [00:24, 261.21it/s]\n"
     ]
    },
    {
     "name": "stdout",
     "output_type": "stream",
     "text": [
      "1364 matches found\n",
      "results dict length: 165497\n",
      "\n",
      "batch 36/70\n",
      "batch shape: (6500, 102565), item: 227500 - 234000\n"
     ]
    },
    {
     "name": "stderr",
     "output_type": "stream",
     "text": [
      "6500it [00:22, 294.40it/s]\n"
     ]
    },
    {
     "name": "stdout",
     "output_type": "stream",
     "text": [
      "1340 matches found\n",
      "results dict length: 166828\n",
      "\n",
      "batch 37/70\n",
      "batch shape: (6500, 102565), item: 234000 - 240500\n"
     ]
    },
    {
     "name": "stderr",
     "output_type": "stream",
     "text": [
      "6500it [00:29, 219.30it/s]\n"
     ]
    },
    {
     "name": "stdout",
     "output_type": "stream",
     "text": [
      "1322 matches found\n",
      "results dict length: 168123\n",
      "\n",
      "batch 38/70\n",
      "batch shape: (6500, 102565), item: 240500 - 247000\n"
     ]
    },
    {
     "name": "stderr",
     "output_type": "stream",
     "text": [
      "6500it [00:26, 248.50it/s]\n"
     ]
    },
    {
     "name": "stdout",
     "output_type": "stream",
     "text": [
      "1385 matches found\n",
      "results dict length: 169490\n",
      "\n",
      "batch 39/70\n",
      "batch shape: (6500, 102565), item: 247000 - 253500\n"
     ]
    },
    {
     "name": "stderr",
     "output_type": "stream",
     "text": [
      "6500it [00:30, 213.07it/s]\n"
     ]
    },
    {
     "name": "stdout",
     "output_type": "stream",
     "text": [
      "1483 matches found\n",
      "results dict length: 170945\n",
      "\n",
      "batch 40/70\n",
      "batch shape: (6500, 102565), item: 253500 - 260000\n"
     ]
    },
    {
     "name": "stderr",
     "output_type": "stream",
     "text": [
      "6500it [00:21, 303.02it/s]\n"
     ]
    },
    {
     "name": "stdout",
     "output_type": "stream",
     "text": [
      "1291 matches found\n",
      "results dict length: 172227\n",
      "\n",
      "batch 41/70\n",
      "batch shape: (6500, 102565), item: 260000 - 266500\n"
     ]
    },
    {
     "name": "stderr",
     "output_type": "stream",
     "text": [
      "6500it [00:19, 325.31it/s]\n"
     ]
    },
    {
     "name": "stdout",
     "output_type": "stream",
     "text": [
      "1310 matches found\n",
      "results dict length: 173523\n",
      "\n",
      "batch 42/70\n",
      "batch shape: (6500, 102565), item: 266500 - 273000\n"
     ]
    },
    {
     "name": "stderr",
     "output_type": "stream",
     "text": [
      "6500it [00:18, 355.46it/s]\n"
     ]
    },
    {
     "name": "stdout",
     "output_type": "stream",
     "text": [
      "1268 matches found\n",
      "results dict length: 174782\n",
      "\n",
      "batch 43/70\n",
      "batch shape: (6500, 102565), item: 273000 - 279500\n"
     ]
    },
    {
     "name": "stderr",
     "output_type": "stream",
     "text": [
      "6500it [00:25, 257.66it/s]\n"
     ]
    },
    {
     "name": "stdout",
     "output_type": "stream",
     "text": [
      "1382 matches found\n",
      "results dict length: 176142\n",
      "\n",
      "batch 44/70\n",
      "batch shape: (6500, 102565), item: 279500 - 286000\n"
     ]
    },
    {
     "name": "stderr",
     "output_type": "stream",
     "text": [
      "6500it [00:24, 268.31it/s]\n"
     ]
    },
    {
     "name": "stdout",
     "output_type": "stream",
     "text": [
      "1323 matches found\n",
      "results dict length: 177444\n",
      "\n",
      "batch 45/70\n",
      "batch shape: (6500, 102565), item: 286000 - 292500\n"
     ]
    },
    {
     "name": "stderr",
     "output_type": "stream",
     "text": [
      "6500it [00:25, 258.41it/s]\n"
     ]
    },
    {
     "name": "stdout",
     "output_type": "stream",
     "text": [
      "1364 matches found\n",
      "results dict length: 178792\n",
      "\n",
      "batch 46/70\n",
      "batch shape: (6500, 102565), item: 292500 - 299000\n"
     ]
    },
    {
     "name": "stderr",
     "output_type": "stream",
     "text": [
      "6500it [00:24, 265.60it/s]\n"
     ]
    },
    {
     "name": "stdout",
     "output_type": "stream",
     "text": [
      "1373 matches found\n",
      "results dict length: 180134\n",
      "\n",
      "batch 47/70\n",
      "batch shape: (6500, 102565), item: 299000 - 305500\n"
     ]
    },
    {
     "name": "stderr",
     "output_type": "stream",
     "text": [
      "6500it [00:21, 309.40it/s]\n"
     ]
    },
    {
     "name": "stdout",
     "output_type": "stream",
     "text": [
      "1231 matches found\n",
      "results dict length: 181350\n",
      "\n",
      "batch 48/70\n",
      "batch shape: (6500, 102565), item: 305500 - 312000\n"
     ]
    },
    {
     "name": "stderr",
     "output_type": "stream",
     "text": [
      "6500it [00:31, 205.62it/s]\n"
     ]
    },
    {
     "name": "stdout",
     "output_type": "stream",
     "text": [
      "1371 matches found\n",
      "results dict length: 182703\n",
      "\n",
      "batch 49/70\n",
      "batch shape: (6500, 102565), item: 312000 - 318500\n"
     ]
    },
    {
     "name": "stderr",
     "output_type": "stream",
     "text": [
      "6500it [00:20, 317.05it/s]\n"
     ]
    },
    {
     "name": "stdout",
     "output_type": "stream",
     "text": [
      "1222 matches found\n",
      "results dict length: 183908\n",
      "\n",
      "batch 50/70\n",
      "batch shape: (6500, 102565), item: 318500 - 325000\n"
     ]
    },
    {
     "name": "stderr",
     "output_type": "stream",
     "text": [
      "6500it [00:27, 232.16it/s]\n"
     ]
    },
    {
     "name": "stdout",
     "output_type": "stream",
     "text": [
      "1437 matches found\n",
      "results dict length: 185323\n",
      "\n",
      "batch 51/70\n",
      "batch shape: (6500, 102565), item: 325000 - 331500\n"
     ]
    },
    {
     "name": "stderr",
     "output_type": "stream",
     "text": [
      "6500it [00:26, 246.43it/s]\n"
     ]
    },
    {
     "name": "stdout",
     "output_type": "stream",
     "text": [
      "1362 matches found\n",
      "results dict length: 186659\n",
      "\n",
      "batch 52/70\n",
      "batch shape: (6500, 102565), item: 331500 - 338000\n"
     ]
    },
    {
     "name": "stderr",
     "output_type": "stream",
     "text": [
      "6500it [00:18, 360.18it/s]\n"
     ]
    },
    {
     "name": "stdout",
     "output_type": "stream",
     "text": [
      "1255 matches found\n",
      "results dict length: 187907\n",
      "\n",
      "batch 53/70\n",
      "batch shape: (6500, 102565), item: 338000 - 344500\n"
     ]
    },
    {
     "name": "stderr",
     "output_type": "stream",
     "text": [
      "6500it [00:25, 257.91it/s]\n"
     ]
    },
    {
     "name": "stdout",
     "output_type": "stream",
     "text": [
      "1380 matches found\n",
      "results dict length: 189262\n",
      "\n",
      "batch 54/70\n",
      "batch shape: (6500, 102565), item: 344500 - 351000\n"
     ]
    },
    {
     "name": "stderr",
     "output_type": "stream",
     "text": [
      "6500it [00:22, 295.33it/s]\n"
     ]
    },
    {
     "name": "stdout",
     "output_type": "stream",
     "text": [
      "1355 matches found\n",
      "results dict length: 190601\n",
      "\n",
      "batch 55/70\n",
      "batch shape: (6500, 102565), item: 351000 - 357500\n"
     ]
    },
    {
     "name": "stderr",
     "output_type": "stream",
     "text": [
      "6500it [00:24, 265.48it/s]\n"
     ]
    },
    {
     "name": "stdout",
     "output_type": "stream",
     "text": [
      "1290 matches found\n",
      "results dict length: 191870\n",
      "\n",
      "batch 56/70\n",
      "batch shape: (6500, 102565), item: 357500 - 364000\n"
     ]
    },
    {
     "name": "stderr",
     "output_type": "stream",
     "text": [
      "6500it [00:25, 255.37it/s]\n"
     ]
    },
    {
     "name": "stdout",
     "output_type": "stream",
     "text": [
      "1371 matches found\n",
      "results dict length: 193222\n",
      "\n",
      "batch 57/70\n",
      "batch shape: (6500, 102565), item: 364000 - 370500\n"
     ]
    },
    {
     "name": "stderr",
     "output_type": "stream",
     "text": [
      "6500it [00:25, 257.40it/s]\n"
     ]
    },
    {
     "name": "stdout",
     "output_type": "stream",
     "text": [
      "1350 matches found\n",
      "results dict length: 194552\n",
      "\n",
      "batch 58/70\n",
      "batch shape: (6500, 102565), item: 370500 - 377000\n"
     ]
    },
    {
     "name": "stderr",
     "output_type": "stream",
     "text": [
      "6500it [00:23, 281.41it/s]\n"
     ]
    },
    {
     "name": "stdout",
     "output_type": "stream",
     "text": [
      "1340 matches found\n",
      "results dict length: 195871\n",
      "\n",
      "batch 59/70\n",
      "batch shape: (6500, 102565), item: 377000 - 383500\n"
     ]
    },
    {
     "name": "stderr",
     "output_type": "stream",
     "text": [
      "6500it [00:20, 311.28it/s]\n"
     ]
    },
    {
     "name": "stdout",
     "output_type": "stream",
     "text": [
      "1187 matches found\n",
      "results dict length: 197044\n",
      "\n",
      "batch 60/70\n",
      "batch shape: (6500, 102565), item: 383500 - 390000\n"
     ]
    },
    {
     "name": "stderr",
     "output_type": "stream",
     "text": [
      "6500it [00:21, 306.21it/s]\n"
     ]
    },
    {
     "name": "stdout",
     "output_type": "stream",
     "text": [
      "1289 matches found\n",
      "results dict length: 198318\n",
      "\n",
      "batch 61/70\n",
      "batch shape: (6500, 102565), item: 390000 - 396500\n"
     ]
    },
    {
     "name": "stderr",
     "output_type": "stream",
     "text": [
      "6500it [00:25, 254.56it/s]\n"
     ]
    },
    {
     "name": "stdout",
     "output_type": "stream",
     "text": [
      "1284 matches found\n",
      "results dict length: 199579\n",
      "\n",
      "batch 62/70\n",
      "batch shape: (6500, 102565), item: 396500 - 403000\n"
     ]
    },
    {
     "name": "stderr",
     "output_type": "stream",
     "text": [
      "6500it [00:27, 233.89it/s]\n"
     ]
    },
    {
     "name": "stdout",
     "output_type": "stream",
     "text": [
      "1361 matches found\n",
      "results dict length: 200916\n",
      "\n",
      "batch 63/70\n",
      "batch shape: (6500, 102565), item: 403000 - 409500\n"
     ]
    },
    {
     "name": "stderr",
     "output_type": "stream",
     "text": [
      "6500it [00:24, 270.82it/s]\n"
     ]
    },
    {
     "name": "stdout",
     "output_type": "stream",
     "text": [
      "1288 matches found\n",
      "results dict length: 202180\n",
      "\n",
      "batch 64/70\n",
      "batch shape: (6500, 102565), item: 409500 - 416000\n"
     ]
    },
    {
     "name": "stderr",
     "output_type": "stream",
     "text": [
      "6500it [00:23, 281.80it/s]\n"
     ]
    },
    {
     "name": "stdout",
     "output_type": "stream",
     "text": [
      "1356 matches found\n",
      "results dict length: 203517\n",
      "\n",
      "batch 65/70\n",
      "batch shape: (6500, 102565), item: 416000 - 422500\n"
     ]
    },
    {
     "name": "stderr",
     "output_type": "stream",
     "text": [
      "6500it [00:23, 275.87it/s]\n"
     ]
    },
    {
     "name": "stdout",
     "output_type": "stream",
     "text": [
      "1282 matches found\n",
      "results dict length: 204783\n",
      "\n",
      "batch 66/70\n",
      "batch shape: (6500, 102565), item: 422500 - 429000\n"
     ]
    },
    {
     "name": "stderr",
     "output_type": "stream",
     "text": [
      "6500it [00:22, 283.76it/s]\n"
     ]
    },
    {
     "name": "stdout",
     "output_type": "stream",
     "text": [
      "1298 matches found\n",
      "results dict length: 206063\n",
      "\n",
      "batch 67/70\n",
      "batch shape: (6500, 102565), item: 429000 - 435500\n"
     ]
    },
    {
     "name": "stderr",
     "output_type": "stream",
     "text": [
      "6500it [00:22, 283.87it/s]\n"
     ]
    },
    {
     "name": "stdout",
     "output_type": "stream",
     "text": [
      "1233 matches found\n",
      "results dict length: 207275\n",
      "\n",
      "batch 68/70\n",
      "batch shape: (6500, 102565), item: 435500 - 442000\n"
     ]
    },
    {
     "name": "stderr",
     "output_type": "stream",
     "text": [
      "6500it [00:22, 288.87it/s]\n"
     ]
    },
    {
     "name": "stdout",
     "output_type": "stream",
     "text": [
      "1382 matches found\n",
      "results dict length: 208629\n",
      "\n",
      "batch 69/70\n",
      "batch shape: (6500, 102565), item: 442000 - 448500\n"
     ]
    },
    {
     "name": "stderr",
     "output_type": "stream",
     "text": [
      "6500it [00:23, 272.63it/s]\n"
     ]
    },
    {
     "name": "stdout",
     "output_type": "stream",
     "text": [
      "1259 matches found\n",
      "results dict length: 209870\n",
      "\n",
      "batch 70/70\n",
      "batch shape: (508, 102565), item: 448500 - 455000\n"
     ]
    },
    {
     "name": "stderr",
     "output_type": "stream",
     "text": [
      "508it [00:00, 619.16it/s]\n"
     ]
    },
    {
     "name": "stdout",
     "output_type": "stream",
     "text": [
      "25 matches found\n",
      "results dict length: 209893\n",
      "\n",
      "exam 28/38\n",
      "exam type: ARRWXEBBWS\n",
      "number of documents: (12864, 4)\n",
      "# of batches: 2 | batch size: 6500\n",
      "batch 1/2\n",
      "batch shape: (6500, 17645), item: 0 - 6500\n"
     ]
    },
    {
     "name": "stderr",
     "output_type": "stream",
     "text": [
      "6500it [00:04, 1610.48it/s]\n"
     ]
    },
    {
     "name": "stdout",
     "output_type": "stream",
     "text": [
      "113 matches found\n",
      "results dict length: 210005\n",
      "\n",
      "batch 2/2\n",
      "batch shape: (6364, 17645), item: 6500 - 13000\n"
     ]
    },
    {
     "name": "stderr",
     "output_type": "stream",
     "text": [
      "6364it [00:03, 1593.95it/s]\n"
     ]
    },
    {
     "name": "stdout",
     "output_type": "stream",
     "text": [
      "119 matches found\n",
      "results dict length: 210116\n",
      "\n",
      "exam 29/38\n",
      "exam type: ARRWXEBHWS\n",
      "number of documents: (27778, 4)\n",
      "# of batches: 5 | batch size: 6500\n",
      "batch 1/5\n",
      "batch shape: (6500, 23711), item: 0 - 6500\n"
     ]
    },
    {
     "name": "stderr",
     "output_type": "stream",
     "text": [
      "6500it [00:04, 1522.68it/s]\n"
     ]
    },
    {
     "name": "stdout",
     "output_type": "stream",
     "text": [
      "224 matches found\n",
      "results dict length: 210338\n",
      "\n",
      "batch 2/5\n",
      "batch shape: (6500, 23711), item: 6500 - 13000\n"
     ]
    },
    {
     "name": "stderr",
     "output_type": "stream",
     "text": [
      "6500it [00:04, 1518.29it/s]\n"
     ]
    },
    {
     "name": "stdout",
     "output_type": "stream",
     "text": [
      "251 matches found\n",
      "results dict length: 210582\n",
      "\n",
      "batch 3/5\n",
      "batch shape: (6500, 23711), item: 13000 - 19500\n"
     ]
    },
    {
     "name": "stderr",
     "output_type": "stream",
     "text": [
      "6500it [00:04, 1529.12it/s]\n"
     ]
    },
    {
     "name": "stdout",
     "output_type": "stream",
     "text": [
      "255 matches found\n",
      "results dict length: 210827\n",
      "\n",
      "batch 4/5\n",
      "batch shape: (6500, 23711), item: 19500 - 26000\n"
     ]
    },
    {
     "name": "stderr",
     "output_type": "stream",
     "text": [
      "6500it [00:04, 1543.77it/s]\n"
     ]
    },
    {
     "name": "stdout",
     "output_type": "stream",
     "text": [
      "229 matches found\n",
      "results dict length: 211048\n",
      "\n",
      "batch 5/5\n",
      "batch shape: (1778, 23711), item: 26000 - 32500\n"
     ]
    },
    {
     "name": "stderr",
     "output_type": "stream",
     "text": [
      "1778it [00:01, 1541.92it/s]\n"
     ]
    },
    {
     "name": "stdout",
     "output_type": "stream",
     "text": [
      "76 matches found\n",
      "results dict length: 211122\n",
      "\n",
      "exam 30/38\n",
      "exam type: ARRWXEBLWS\n",
      "number of documents: (63575, 4)\n",
      "# of batches: 10 | batch size: 6500\n",
      "batch 1/10\n",
      "batch shape: (6500, 37852), item: 0 - 6500\n"
     ]
    },
    {
     "name": "stderr",
     "output_type": "stream",
     "text": [
      "6500it [00:05, 1194.68it/s]\n"
     ]
    },
    {
     "name": "stdout",
     "output_type": "stream",
     "text": [
      "229 matches found\n",
      "results dict length: 211350\n",
      "\n",
      "batch 2/10\n",
      "batch shape: (6500, 37852), item: 6500 - 13000\n"
     ]
    },
    {
     "name": "stderr",
     "output_type": "stream",
     "text": [
      "6500it [00:04, 1544.53it/s]\n"
     ]
    },
    {
     "name": "stdout",
     "output_type": "stream",
     "text": [
      "217 matches found\n",
      "results dict length: 211566\n",
      "\n",
      "batch 3/10\n",
      "batch shape: (6500, 37852), item: 13000 - 19500\n"
     ]
    },
    {
     "name": "stderr",
     "output_type": "stream",
     "text": [
      "6500it [00:04, 1548.09it/s]\n"
     ]
    },
    {
     "name": "stdout",
     "output_type": "stream",
     "text": [
      "226 matches found\n",
      "results dict length: 211789\n",
      "\n",
      "batch 4/10\n",
      "batch shape: (6500, 37852), item: 19500 - 26000\n"
     ]
    },
    {
     "name": "stderr",
     "output_type": "stream",
     "text": [
      "6500it [00:05, 1202.99it/s]\n"
     ]
    },
    {
     "name": "stdout",
     "output_type": "stream",
     "text": [
      "241 matches found\n",
      "results dict length: 212026\n",
      "\n",
      "batch 5/10\n",
      "batch shape: (6500, 37852), item: 26000 - 32500\n"
     ]
    },
    {
     "name": "stderr",
     "output_type": "stream",
     "text": [
      "6500it [00:04, 1547.17it/s]\n"
     ]
    },
    {
     "name": "stdout",
     "output_type": "stream",
     "text": [
      "248 matches found\n",
      "results dict length: 212265\n",
      "\n",
      "batch 6/10\n",
      "batch shape: (6500, 37852), item: 32500 - 39000\n"
     ]
    },
    {
     "name": "stderr",
     "output_type": "stream",
     "text": [
      "6500it [00:05, 1203.69it/s]\n"
     ]
    },
    {
     "name": "stdout",
     "output_type": "stream",
     "text": [
      "222 matches found\n",
      "results dict length: 212482\n",
      "\n",
      "batch 7/10\n",
      "batch shape: (6500, 37852), item: 39000 - 45500\n"
     ]
    },
    {
     "name": "stderr",
     "output_type": "stream",
     "text": [
      "6500it [00:05, 1200.88it/s]\n"
     ]
    },
    {
     "name": "stdout",
     "output_type": "stream",
     "text": [
      "232 matches found\n",
      "results dict length: 212708\n",
      "\n",
      "batch 8/10\n",
      "batch shape: (6500, 37852), item: 45500 - 52000\n"
     ]
    },
    {
     "name": "stderr",
     "output_type": "stream",
     "text": [
      "6500it [00:05, 1203.79it/s]\n"
     ]
    },
    {
     "name": "stdout",
     "output_type": "stream",
     "text": [
      "232 matches found\n",
      "results dict length: 212935\n",
      "\n",
      "batch 9/10\n",
      "batch shape: (6500, 37852), item: 52000 - 58500\n"
     ]
    },
    {
     "name": "stderr",
     "output_type": "stream",
     "text": [
      "6500it [00:05, 1207.82it/s]\n"
     ]
    },
    {
     "name": "stdout",
     "output_type": "stream",
     "text": [
      "233 matches found\n",
      "results dict length: 213161\n",
      "\n",
      "batch 10/10\n",
      "batch shape: (5075, 37852), item: 58500 - 65000\n"
     ]
    },
    {
     "name": "stderr",
     "output_type": "stream",
     "text": [
      "5075it [00:04, 1208.70it/s]\n"
     ]
    },
    {
     "name": "stdout",
     "output_type": "stream",
     "text": [
      "162 matches found\n",
      "results dict length: 213320\n",
      "\n",
      "exam 31/38\n",
      "exam type: ARSB\n",
      "number of documents: (125752, 4)\n",
      "# of batches: 20 | batch size: 6500\n",
      "batch 1/20\n",
      "batch shape: (6500, 88365), item: 0 - 6500\n"
     ]
    },
    {
     "name": "stderr",
     "output_type": "stream",
     "text": [
      "6500it [00:39, 164.69it/s]\n"
     ]
    },
    {
     "name": "stdout",
     "output_type": "stream",
     "text": [
      "1425 matches found\n",
      "results dict length: 214699\n",
      "\n",
      "batch 2/20\n",
      "batch shape: (6500, 88365), item: 6500 - 13000\n"
     ]
    },
    {
     "name": "stderr",
     "output_type": "stream",
     "text": [
      "6500it [00:40, 159.13it/s]\n"
     ]
    },
    {
     "name": "stdout",
     "output_type": "stream",
     "text": [
      "1422 matches found\n",
      "results dict length: 216029\n",
      "\n",
      "batch 3/20\n",
      "batch shape: (6500, 88365), item: 13000 - 19500\n"
     ]
    },
    {
     "name": "stderr",
     "output_type": "stream",
     "text": [
      "6500it [00:34, 186.72it/s]\n"
     ]
    },
    {
     "name": "stdout",
     "output_type": "stream",
     "text": [
      "1400 matches found\n",
      "results dict length: 217328\n",
      "\n",
      "batch 4/20\n",
      "batch shape: (6500, 88365), item: 19500 - 26000\n"
     ]
    },
    {
     "name": "stderr",
     "output_type": "stream",
     "text": [
      "6500it [00:39, 164.46it/s]\n"
     ]
    },
    {
     "name": "stdout",
     "output_type": "stream",
     "text": [
      "1437 matches found\n",
      "results dict length: 218672\n",
      "\n",
      "batch 5/20\n",
      "batch shape: (6500, 88365), item: 26000 - 32500\n"
     ]
    },
    {
     "name": "stderr",
     "output_type": "stream",
     "text": [
      "6500it [00:40, 160.64it/s]\n"
     ]
    },
    {
     "name": "stdout",
     "output_type": "stream",
     "text": [
      "1464 matches found\n",
      "results dict length: 220046\n",
      "\n",
      "batch 6/20\n",
      "batch shape: (6500, 88365), item: 32500 - 39000\n"
     ]
    },
    {
     "name": "stderr",
     "output_type": "stream",
     "text": [
      "6500it [00:38, 168.99it/s]\n"
     ]
    },
    {
     "name": "stdout",
     "output_type": "stream",
     "text": [
      "1445 matches found\n",
      "results dict length: 221390\n",
      "\n",
      "batch 7/20\n",
      "batch shape: (6500, 88365), item: 39000 - 45500\n"
     ]
    },
    {
     "name": "stderr",
     "output_type": "stream",
     "text": [
      "6500it [00:40, 161.32it/s]\n"
     ]
    },
    {
     "name": "stdout",
     "output_type": "stream",
     "text": [
      "1437 matches found\n",
      "results dict length: 222713\n",
      "\n",
      "batch 8/20\n",
      "batch shape: (6500, 88365), item: 45500 - 52000\n"
     ]
    },
    {
     "name": "stderr",
     "output_type": "stream",
     "text": [
      "6500it [00:37, 172.66it/s]\n"
     ]
    },
    {
     "name": "stdout",
     "output_type": "stream",
     "text": [
      "1436 matches found\n",
      "results dict length: 224045\n",
      "\n",
      "batch 9/20\n",
      "batch shape: (6500, 88365), item: 52000 - 58500\n"
     ]
    },
    {
     "name": "stderr",
     "output_type": "stream",
     "text": [
      "6500it [00:37, 175.56it/s]\n"
     ]
    },
    {
     "name": "stdout",
     "output_type": "stream",
     "text": [
      "1363 matches found\n",
      "results dict length: 225309\n",
      "\n",
      "batch 10/20\n",
      "batch shape: (6500, 88365), item: 58500 - 65000\n"
     ]
    },
    {
     "name": "stderr",
     "output_type": "stream",
     "text": [
      "6500it [00:39, 163.84it/s]\n"
     ]
    },
    {
     "name": "stdout",
     "output_type": "stream",
     "text": [
      "1425 matches found\n",
      "results dict length: 226619\n",
      "\n",
      "batch 11/20\n",
      "batch shape: (6500, 88365), item: 65000 - 71500\n"
     ]
    },
    {
     "name": "stderr",
     "output_type": "stream",
     "text": [
      "6500it [00:39, 165.02it/s]\n"
     ]
    },
    {
     "name": "stdout",
     "output_type": "stream",
     "text": [
      "1434 matches found\n",
      "results dict length: 227954\n",
      "\n",
      "batch 12/20\n",
      "batch shape: (6500, 88365), item: 71500 - 78000\n"
     ]
    },
    {
     "name": "stderr",
     "output_type": "stream",
     "text": [
      "6500it [00:34, 191.02it/s]\n"
     ]
    },
    {
     "name": "stdout",
     "output_type": "stream",
     "text": [
      "1345 matches found\n",
      "results dict length: 229191\n",
      "\n",
      "batch 13/20\n",
      "batch shape: (6500, 88365), item: 78000 - 84500\n"
     ]
    },
    {
     "name": "stderr",
     "output_type": "stream",
     "text": [
      "6500it [00:36, 176.61it/s]\n"
     ]
    },
    {
     "name": "stdout",
     "output_type": "stream",
     "text": [
      "1348 matches found\n",
      "results dict length: 230430\n",
      "\n",
      "batch 14/20\n",
      "batch shape: (6500, 88365), item: 84500 - 91000\n"
     ]
    },
    {
     "name": "stderr",
     "output_type": "stream",
     "text": [
      "6500it [00:39, 165.44it/s]\n"
     ]
    },
    {
     "name": "stdout",
     "output_type": "stream",
     "text": [
      "1336 matches found\n",
      "results dict length: 231641\n",
      "\n",
      "batch 15/20\n",
      "batch shape: (6500, 88365), item: 91000 - 97500\n"
     ]
    },
    {
     "name": "stderr",
     "output_type": "stream",
     "text": [
      "6500it [00:35, 182.21it/s]\n"
     ]
    },
    {
     "name": "stdout",
     "output_type": "stream",
     "text": [
      "1331 matches found\n",
      "results dict length: 232853\n",
      "\n",
      "batch 16/20\n",
      "batch shape: (6500, 88365), item: 97500 - 104000\n"
     ]
    },
    {
     "name": "stderr",
     "output_type": "stream",
     "text": [
      "6500it [00:32, 198.59it/s]\n"
     ]
    },
    {
     "name": "stdout",
     "output_type": "stream",
     "text": [
      "1320 matches found\n",
      "results dict length: 234052\n",
      "\n",
      "batch 17/20\n",
      "batch shape: (6500, 88365), item: 104000 - 110500\n"
     ]
    },
    {
     "name": "stderr",
     "output_type": "stream",
     "text": [
      "6500it [00:37, 172.60it/s]\n"
     ]
    },
    {
     "name": "stdout",
     "output_type": "stream",
     "text": [
      "1321 matches found\n",
      "results dict length: 235240\n",
      "\n",
      "batch 18/20\n",
      "batch shape: (6500, 88365), item: 110500 - 117000\n"
     ]
    },
    {
     "name": "stderr",
     "output_type": "stream",
     "text": [
      "6500it [00:36, 176.23it/s]\n"
     ]
    },
    {
     "name": "stdout",
     "output_type": "stream",
     "text": [
      "1432 matches found\n",
      "results dict length: 236556\n",
      "\n",
      "batch 19/20\n",
      "batch shape: (6500, 88365), item: 117000 - 123500\n"
     ]
    },
    {
     "name": "stderr",
     "output_type": "stream",
     "text": [
      "6500it [00:38, 171.01it/s]\n"
     ]
    },
    {
     "name": "stdout",
     "output_type": "stream",
     "text": [
      "1373 matches found\n",
      "results dict length: 237787\n",
      "\n",
      "batch 20/20\n",
      "batch shape: (2252, 88365), item: 123500 - 130000\n"
     ]
    },
    {
     "name": "stderr",
     "output_type": "stream",
     "text": [
      "2252it [00:10, 225.00it/s]\n"
     ]
    },
    {
     "name": "stdout",
     "output_type": "stream",
     "text": [
      "427 matches found\n",
      "results dict length: 238163\n",
      "\n",
      "exam 32/38\n",
      "exam type: ARSBSNONIX\n",
      "number of documents: (23746, 4)\n",
      "# of batches: 4 | batch size: 6500\n",
      "batch 1/4\n",
      "batch shape: (6500, 30050), item: 0 - 6500\n"
     ]
    },
    {
     "name": "stderr",
     "output_type": "stream",
     "text": [
      "6500it [00:05, 1251.23it/s]\n"
     ]
    },
    {
     "name": "stdout",
     "output_type": "stream",
     "text": [
      "649 matches found\n",
      "results dict length: 238799\n",
      "\n",
      "batch 2/4\n",
      "batch shape: (6500, 30050), item: 6500 - 13000\n"
     ]
    },
    {
     "name": "stderr",
     "output_type": "stream",
     "text": [
      "6500it [00:05, 1231.07it/s]\n"
     ]
    },
    {
     "name": "stdout",
     "output_type": "stream",
     "text": [
      "653 matches found\n",
      "results dict length: 239425\n",
      "\n",
      "batch 3/4\n",
      "batch shape: (6500, 30050), item: 13000 - 19500\n"
     ]
    },
    {
     "name": "stderr",
     "output_type": "stream",
     "text": [
      "6500it [00:05, 1253.93it/s]\n"
     ]
    },
    {
     "name": "stdout",
     "output_type": "stream",
     "text": [
      "652 matches found\n",
      "results dict length: 240052\n",
      "\n",
      "batch 4/4\n",
      "batch shape: (4246, 30050), item: 19500 - 26000\n"
     ]
    },
    {
     "name": "stderr",
     "output_type": "stream",
     "text": [
      "4246it [00:03, 1275.55it/s]\n"
     ]
    },
    {
     "name": "stdout",
     "output_type": "stream",
     "text": [
      "414 matches found\n",
      "results dict length: 240454\n",
      "\n",
      "exam 33/38\n",
      "exam type: ARSBSNOTXN\n",
      "number of documents: (14646, 4)\n",
      "# of batches: 3 | batch size: 6500\n",
      "batch 1/3\n",
      "batch shape: (6500, 13971), item: 0 - 6500\n"
     ]
    },
    {
     "name": "stderr",
     "output_type": "stream",
     "text": [
      "6500it [00:45, 141.76it/s]\n"
     ]
    },
    {
     "name": "stdout",
     "output_type": "stream",
     "text": [
      "2260 matches found\n",
      "results dict length: 242515\n",
      "\n",
      "batch 2/3\n",
      "batch shape: (6500, 13971), item: 6500 - 13000\n"
     ]
    },
    {
     "name": "stderr",
     "output_type": "stream",
     "text": [
      "6500it [00:40, 160.84it/s]\n"
     ]
    },
    {
     "name": "stdout",
     "output_type": "stream",
     "text": [
      "2090 matches found\n",
      "results dict length: 244375\n",
      "\n",
      "batch 3/3\n",
      "batch shape: (1646, 13971), item: 13000 - 19500\n"
     ]
    },
    {
     "name": "stderr",
     "output_type": "stream",
     "text": [
      "1646it [00:10, 155.73it/s]\n"
     ]
    },
    {
     "name": "stdout",
     "output_type": "stream",
     "text": [
      "548 matches found\n",
      "results dict length: 244834\n",
      "\n",
      "exam 34/38\n",
      "exam type: ARSEFKVUVX\n",
      "number of documents: (21106, 4)\n",
      "# of batches: 4 | batch size: 6500\n",
      "batch 1/4\n",
      "batch shape: (6500, 22559), item: 0 - 6500\n"
     ]
    },
    {
     "name": "stderr",
     "output_type": "stream",
     "text": [
      "6500it [00:22, 287.33it/s]\n"
     ]
    },
    {
     "name": "stdout",
     "output_type": "stream",
     "text": [
      "1475 matches found\n",
      "results dict length: 246260\n",
      "\n",
      "batch 2/4\n",
      "batch shape: (6500, 22559), item: 6500 - 13000\n"
     ]
    },
    {
     "name": "stderr",
     "output_type": "stream",
     "text": [
      "6500it [00:23, 281.36it/s]\n"
     ]
    },
    {
     "name": "stdout",
     "output_type": "stream",
     "text": [
      "1411 matches found\n",
      "results dict length: 247605\n",
      "\n",
      "batch 3/4\n",
      "batch shape: (6500, 22559), item: 13000 - 19500\n"
     ]
    },
    {
     "name": "stderr",
     "output_type": "stream",
     "text": [
      "6500it [00:21, 298.78it/s]\n"
     ]
    },
    {
     "name": "stdout",
     "output_type": "stream",
     "text": [
      "1394 matches found\n",
      "results dict length: 248924\n",
      "\n",
      "batch 4/4\n",
      "batch shape: (1606, 22559), item: 19500 - 26000\n"
     ]
    },
    {
     "name": "stderr",
     "output_type": "stream",
     "text": [
      "1606it [00:05, 311.95it/s]\n"
     ]
    },
    {
     "name": "stdout",
     "output_type": "stream",
     "text": [
      "340 matches found\n",
      "results dict length: 249252\n",
      "\n",
      "exam 35/38\n",
      "exam type: ARSESNOUXX\n",
      "number of documents: (14486, 4)\n",
      "# of batches: 3 | batch size: 6500\n",
      "batch 1/3\n",
      "batch shape: (6500, 27013), item: 0 - 6500\n"
     ]
    },
    {
     "name": "stderr",
     "output_type": "stream",
     "text": [
      "6500it [00:23, 274.85it/s]\n"
     ]
    },
    {
     "name": "stdout",
     "output_type": "stream",
     "text": [
      "1184 matches found\n",
      "results dict length: 250413\n",
      "\n",
      "batch 2/3\n",
      "batch shape: (6500, 27013), item: 6500 - 13000\n"
     ]
    },
    {
     "name": "stderr",
     "output_type": "stream",
     "text": [
      "6500it [00:24, 262.25it/s]\n"
     ]
    },
    {
     "name": "stdout",
     "output_type": "stream",
     "text": [
      "1226 matches found\n",
      "results dict length: 251601\n",
      "\n",
      "batch 3/3\n",
      "batch shape: (1486, 27013), item: 13000 - 19500\n"
     ]
    },
    {
     "name": "stderr",
     "output_type": "stream",
     "text": [
      "1486it [00:05, 295.04it/s]\n"
     ]
    },
    {
     "name": "stdout",
     "output_type": "stream",
     "text": [
      "275 matches found\n",
      "results dict length: 251868\n",
      "\n",
      "exam 36/38\n",
      "exam type: ARSXSNOWGW\n",
      "number of documents: (11303, 4)\n",
      "# of batches: 2 | batch size: 6500\n",
      "batch 1/2\n",
      "batch shape: (6500, 25819), item: 0 - 6500\n"
     ]
    },
    {
     "name": "stderr",
     "output_type": "stream",
     "text": [
      "6500it [00:05, 1211.19it/s]\n"
     ]
    },
    {
     "name": "stdout",
     "output_type": "stream",
     "text": [
      "349 matches found\n",
      "results dict length: 252209\n",
      "\n",
      "batch 2/2\n",
      "batch shape: (4803, 25819), item: 6500 - 13000\n"
     ]
    },
    {
     "name": "stderr",
     "output_type": "stream",
     "text": [
      "4803it [00:03, 1224.56it/s]\n"
     ]
    },
    {
     "name": "stdout",
     "output_type": "stream",
     "text": [
      "271 matches found\n",
      "results dict length: 252469\n",
      "\n",
      "exam 37/38\n",
      "exam type: ARXXTLE\n",
      "number of documents: (26896, 4)\n",
      "# of batches: 5 | batch size: 6500\n",
      "batch 1/5\n",
      "batch shape: (6500, 32446), item: 0 - 6500\n"
     ]
    },
    {
     "name": "stderr",
     "output_type": "stream",
     "text": [
      "6500it [00:06, 1079.04it/s]\n"
     ]
    },
    {
     "name": "stdout",
     "output_type": "stream",
     "text": [
      "743 matches found\n",
      "results dict length: 253196\n",
      "\n",
      "batch 2/5\n",
      "batch shape: (6500, 32446), item: 6500 - 13000\n"
     ]
    },
    {
     "name": "stderr",
     "output_type": "stream",
     "text": [
      "6500it [00:06, 1059.75it/s]\n"
     ]
    },
    {
     "name": "stdout",
     "output_type": "stream",
     "text": [
      "773 matches found\n",
      "results dict length: 253947\n",
      "\n",
      "batch 3/5\n",
      "batch shape: (6500, 32446), item: 13000 - 19500\n"
     ]
    },
    {
     "name": "stderr",
     "output_type": "stream",
     "text": [
      "6500it [00:06, 1081.35it/s]\n"
     ]
    },
    {
     "name": "stdout",
     "output_type": "stream",
     "text": [
      "799 matches found\n",
      "results dict length: 254719\n",
      "\n",
      "batch 4/5\n",
      "batch shape: (6500, 32446), item: 19500 - 26000\n"
     ]
    },
    {
     "name": "stderr",
     "output_type": "stream",
     "text": [
      "6500it [00:06, 1058.05it/s]\n"
     ]
    },
    {
     "name": "stdout",
     "output_type": "stream",
     "text": [
      "734 matches found\n",
      "results dict length: 255430\n",
      "\n",
      "batch 5/5\n",
      "batch shape: (896, 32446), item: 26000 - 32500\n"
     ]
    },
    {
     "name": "stderr",
     "output_type": "stream",
     "text": [
      "896it [00:00, 1152.66it/s]"
     ]
    },
    {
     "name": "stdout",
     "output_type": "stream",
     "text": [
      "119 matches found\n",
      "results dict length: 255544\n",
      "\n"
     ]
    },
    {
     "name": "stderr",
     "output_type": "stream",
     "text": [
      "\n"
     ]
    }
   ],
   "source": [
    "test = get_distances(upperbound=0.6, lower=0, batch_size=6500, filter=10000)"
   ]
  },
  {
   "cell_type": "code",
   "execution_count": null,
   "metadata": {},
   "outputs": [],
   "source": [
    "df, df_types = load_frame()"
   ]
  },
  {
   "cell_type": "code",
   "execution_count": null,
   "metadata": {},
   "outputs": [],
   "source": [
    "df_type"
   ]
  },
  {
   "cell_type": "code",
   "execution_count": null,
   "metadata": {},
   "outputs": [],
   "source": [
    "print(df.loc[110471]['text'])"
   ]
  },
  {
   "cell_type": "code",
   "execution_count": null,
   "metadata": {},
   "outputs": [],
   "source": [
    "print(df.loc[4421195]['text'])"
   ]
  },
  {
   "cell_type": "code",
   "execution_count": null,
   "metadata": {},
   "outputs": [],
   "source": [
    "print(df.loc[1309976]['text'])"
   ]
  },
  {
   "cell_type": "code",
   "execution_count": 11,
   "metadata": {},
   "outputs": [],
   "source": [
    "import pickle\n",
    "filename = 'distances_below_0.6'\n",
    "outfile = open(filename, 'wb')\n",
    "\n"
   ]
  },
  {
   "cell_type": "code",
   "execution_count": 12,
   "metadata": {},
   "outputs": [],
   "source": [
    "pickle.dump(test, outfile)\n",
    "outfile.close()"
   ]
  },
  {
   "cell_type": "code",
   "execution_count": 13,
   "metadata": {},
   "outputs": [
    {
     "data": {
      "text/plain": [
       "<function BufferedReader.close>"
      ]
     },
     "execution_count": 13,
     "metadata": {},
     "output_type": "execute_result"
    }
   ],
   "source": [
    "infile = open(filename, 'rb')\n",
    "new_dict = pickle.load(infile)\n",
    "infile.close"
   ]
  },
  {
   "cell_type": "code",
   "execution_count": null,
   "metadata": {},
   "outputs": [],
   "source": [
    "\n",
    "for idx, (i, j) in enumerate(test.items()):\n",
    "    # loop through every 10th item in j[0]\n",
    "    if idx ==0 or idx//5 == 0:\n",
    "        print(f'# of candidates: {len(j[0])}\\n')\n",
    "        original_text = df.loc[i]['text']\n",
    "        print(f'original text:\\n{original_text}')\n",
    "        for i, k in enumerate(j[0][::50]):\n",
    "\n",
    "            text = df.loc[k]['text']\n",
    "\n",
    "            print(f'\\nVergleichstext mit distance: {j[1][i]} \\n{text}')\n",
    "\n",
    "\n",
    "            #print(dataframe.loc[k]['text'])\n",
    "\n",
    "            print('')"
   ]
  },
  {
   "cell_type": "code",
   "execution_count": null,
   "metadata": {},
   "outputs": [],
   "source": [
    "# deduplicate with saved results_dict\n",
    "\n",
    "for i, j in test.items():\n",
    "    items_to_delete = [i for i in j[0] if i not in deleted_items]\n",
    "    print(i, items_to_delete)\n",
    "    for ij in items_to_delete:\n",
    "        deleted_items.append(ij)\n",
    "        print(f'deleted item: {deleted_items}')\n",
    "    if i not in deleted_items:\n",
    "        print('True')\n",
    "        df = df.drop([*items_to_delete])\n",
    "        deleted_items.append(i)\n"
   ]
  }
 ],
 "metadata": {
  "kernelspec": {
   "display_name": "Python 3 (ipykernel)",
   "language": "python",
   "name": "python3"
  },
  "language_info": {
   "codemirror_mode": {
    "name": "ipython",
    "version": 3
   },
   "file_extension": ".py",
   "mimetype": "text/x-python",
   "name": "python",
   "nbconvert_exporter": "python",
   "pygments_lexer": "ipython3",
   "version": "3.9.13"
  },
  "vscode": {
   "interpreter": {
    "hash": "e1db4f5d0922d89d25577440296dd50b5676959cd32c2dcd20f446ff62ca4bf8"
   }
  }
 },
 "nbformat": 4,
 "nbformat_minor": 4
}
