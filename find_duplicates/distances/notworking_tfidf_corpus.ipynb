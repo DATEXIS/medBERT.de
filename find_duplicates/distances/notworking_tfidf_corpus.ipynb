{
 "cells": [
  {
   "cell_type": "code",
   "execution_count": 2,
   "id": "74eb8f43-d242-439b-985e-963fbe3c0ef8",
   "metadata": {},
   "outputs": [],
   "source": [
    "from time import time\n",
    "import math\n",
    "import pandas as pd\n",
    "import numpy as np\n",
    "from tqdm import tqdm\n",
    "\n",
    "from sklearn.feature_extraction.text import TfidfVectorizer as skTfidf\n",
    "import cupy as cp           #use cupy array instead of numpy to speed up calculation by using GPU\n",
    "import cudf as cf\n",
    "from cuml.metrics.pairwise_distances import sparse_pairwise_distances\n",
    "from cuml.feature_extraction.text import TfidfVectorizer as cuTfidf\n",
    "from cuml.metrics.pairwise_distances import pairwise_distances\n",
    "\n",
    "\n",
    "import matplotlib.pyplot as plt\n",
    "import sys"
   ]
  },
  {
   "cell_type": "code",
   "execution_count": 3,
   "id": "606663a1-fb8b-4fb6-aa3f-978429bf347a",
   "metadata": {},
   "outputs": [],
   "source": [
    "path = '/home/test/Data/corpus.csv'\n",
    "def load_frame(path_to_df=path, encoding='utf-16', filter_value = 100000):\n",
    "    \n",
    "    df= pd.read_csv(path_to_df, encoding=encoding, index_col='id')\n",
    "    df.drop([df.columns[0]], inplace=True, axis=1)\n",
    "    df.drop_duplicates(subset=['text'],inplace=True)\n",
    "    \n",
    "    exam_type_distribution = df.groupby(['exam_type'])['exam_type'].count()\n",
    "    exam_type_distribution.sort_values(ascending=False)\n",
    "    \n",
    "    list_filtered = exam_type_distribution[exam_type_distribution > filter_value].index\n",
    "    df_filtered = df[df['exam_type'].isin(list_filtered)]\n",
    "    \n",
    "    print(f'original dataframe shape: {df.shape}')\n",
    "    print(f'df_filtered shape: {df_filtered.shape}')\n",
    "    \n",
    "    print(f'numbers of exam types before: {len(set(df[\"exam_type\"]))}')\n",
    "    print(f'types after filtering: {list_filtered}')\n",
    "    print(f'number of exam types after filtering: {len(set(df_filtered[\"exam_type\"]))}')\n",
    "\n",
    "    return df_filtered, list_filtered"
   ]
  },
  {
   "cell_type": "code",
   "execution_count": 4,
   "id": "a70af3ac-981d-42ca-a71e-abd9f9cd9328",
   "metadata": {},
   "outputs": [],
   "source": [
    "# define a load function to load each exam type\n",
    "def load_exam_type(df, exam_types):\n",
    "    for i in exam_types:\n",
    "        dataframe = df[df['exam_type'] == i]    \n",
    "        print(f'exam type: {i}, dataframe shape: {dataframe.shape}')\n",
    "        yield dataframe"
   ]
  },
  {
   "cell_type": "code",
   "execution_count": 5,
   "id": "3e606be1-6b37-4956-b1fa-b4041d396698",
   "metadata": {},
   "outputs": [],
   "source": [
    "def batch_tfidf(sparseMatrix, size = 5000):\n",
    "    for idx, item in enumerate(range(0, sparseMatrix.shape[0], size)):\n",
    "        batch_sparseMatrix = sparseMatrix[item:item+size,:]\n",
    "        print(f'batch shape: {batch_sparseMatrix.shape}, index: {item}')\n",
    "        yield batch_sparseMatrix"
   ]
  },
  {
   "cell_type": "code",
   "execution_count": 6,
   "id": "3ed5f7f8-51dd-4c43-9169-2135ee9f693e",
   "metadata": {},
   "outputs": [],
   "source": [
    "# create a function to list all entries with the its similarity inside a threshhold\n",
    "def get_distances(upperbound, batch_size=8000, filter=100000):\n",
    "    # create a dictionary to store the results\n",
    "    results_dict = {}\n",
    "    \n",
    "    # start with loading the dataframe by exam_types\n",
    "    df_filtered = load_frame(filter_value = filter)\n",
    "    df_by_type = load_exam_type(df_filtered[0], df_filtered[1])\n",
    "\n",
    "    # loop over all exam types\n",
    "    for i in range(0,len(df_filtered[1])):\n",
    "        dataframe = next(df_by_type)\n",
    "        df_indices = dataframe.index.to_list()\n",
    "        # calculate the tfidf\n",
    "        tfidf = cuTfidf().fit_transform(dataframe['text'])\n",
    "        \n",
    "        #use batches to calculate the distances\n",
    "        batch = batch_tfidf(tfidf, size=batch_size)\n",
    "        counter = 0\n",
    "        #loop through all batches\n",
    "        for i in range(0, math.ceil(tfidf.shape[0]/batch_size)):\n",
    "            distances = []\n",
    "            batch_sparse = next(batch)\n",
    "            batch_dataframe = dataframe[counter:counter+batch_size]\n",
    "            # print(f'batch dataframe shape: {batch_dataframe.shape}')\n",
    "            counter += batch_size\n",
    "            batch_indices = batch_dataframe.index.to_list()\n",
    "            # calculate the euclidean distance\n",
    "            for i, j in tqdm(enumerate(batch_sparse)):\n",
    "                x = batch_sparse[i]\n",
    "                distance = sparse_pairwise_distances(x, tfidf, metric='euclidean')\n",
    "                distances.append(distance)\n",
    "                del x\n",
    "            print(f'list length: {len(distances)}')\n",
    "            print(f'list type: type({type(distances)})')\n",
    "            #distances_array = np.array(distances)\n",
    "            #print(f'np array shape: {distances_array.shape}')\n",
    "            results = sort_by_distance(distances, batch_dataframe, upperbound=upperbound, indices=df_indices)\n",
    "        del tfidf\n",
    "        break\n",
    "                \n",
    "    return results"
   ]
  },
  {
   "cell_type": "code",
   "execution_count": 7,
   "id": "a1df950a-bbbe-485f-a4d6-1fa04b80446a",
   "metadata": {
    "tags": []
   },
   "outputs": [],
   "source": [
    "def get_candidates(sorted_array, arg_sorted, upper):\n",
    "    candidates = []\n",
    "    for i, x in enumerate(sorted_array):\n",
    "        if x > upper:\n",
    "            break\n",
    "        else:\n",
    "            candidates.append(int(arg_sorted[i]))\n",
    "    return candidates"
   ]
  },
  {
   "cell_type": "code",
   "execution_count": 8,
   "id": "9c585ad4-b5de-44ec-b62d-6b85afe7dd55",
   "metadata": {
    "tags": []
   },
   "outputs": [],
   "source": [
    "# define a function to calculate the euclidean distance of a batch of documents \n",
    "# and return the neighbours based on the threshold\n",
    "def sort_by_distance(distance_batch, batch_dataframe, upperbound, indices):\n",
    "\n",
    "    results = {}\n",
    "    distance_batch = distance_batch[0:50] #for sampling/testing purposes\n",
    "    \n",
    "    for i, row in enumerate(distance_batch):\n",
    "\n",
    "        arg_sorted = np.argsort(row)\n",
    "        sorted_array = row[arg_sorted]\n",
    "        \n",
    "        candidates = get_candidates(sorted_array, arg_sorted, upper=upperbound)\n",
    "                \n",
    "        df_candidates = [indices[int(i)] for i in candidates[1:]]\n",
    "        original_index = indices[i]\n",
    "        distances = sorted_array[1:len(df_candidates)+1]\n",
    "        \n",
    "        if df_candidates:\n",
    "            results[original_index] = (df_candidates, distances)\n",
    "\n",
    "    return results"
   ]
  },
  {
   "cell_type": "code",
   "execution_count": 9,
   "id": "c61411b4-a36d-46aa-af17-2953ab6fa427",
   "metadata": {
    "tags": []
   },
   "outputs": [
    {
     "name": "stdout",
     "output_type": "stream",
     "text": [
      "original dataframe shape: (2586631, 4)\n",
      "df_filtered shape: (1149916, 4)\n",
      "numbers of exam types before: 985\n",
      "types after filtering: Index(['ARCK', 'ARRT', 'ARRTRBS', 'ARSB'], dtype='object', name='exam_type')\n",
      "number of exam types after filtering: 4\n",
      "exam type: ARCK\n",
      "number of documents: (100888, 4)\n",
      "batch shape: (80000, 66772), index: 0\n"
     ]
    },
    {
     "ename": "MemoryError",
     "evalue": "std::bad_alloc: out_of_memory: CUDA error at: /home/test/miniconda3/envs/rapids/include/rmm/mr/device/cuda_memory_resource.hpp",
     "output_type": "error",
     "traceback": [
      "\u001b[0;31m---------------------------------------------------------------------------\u001b[0m",
      "\u001b[0;31mMemoryError\u001b[0m                               Traceback (most recent call last)",
      "Cell \u001b[0;32mIn [9], line 1\u001b[0m\n\u001b[0;32m----> 1\u001b[0m test \u001b[38;5;241m=\u001b[39m \u001b[43mget_distances\u001b[49m\u001b[43m(\u001b[49m\u001b[43mbatch_size\u001b[49m\u001b[38;5;241;43m=\u001b[39;49m\u001b[38;5;241;43m80000\u001b[39;49m\u001b[43m,\u001b[49m\u001b[43m \u001b[49m\u001b[43mupperbound\u001b[49m\u001b[38;5;241;43m=\u001b[39;49m\u001b[38;5;241;43m0.1\u001b[39;49m\u001b[43m)\u001b[49m\n",
      "Cell \u001b[0;32mIn [6], line 31\u001b[0m, in \u001b[0;36mget_distances\u001b[0;34m(upperbound, batch_size, filter)\u001b[0m\n\u001b[1;32m     29\u001b[0m \u001b[38;5;28;01mfor\u001b[39;00m i, j \u001b[38;5;129;01min\u001b[39;00m (\u001b[38;5;28menumerate\u001b[39m(batch_sparse)):\n\u001b[1;32m     30\u001b[0m     x \u001b[38;5;241m=\u001b[39m batch_sparse[i]\n\u001b[0;32m---> 31\u001b[0m     distance \u001b[38;5;241m=\u001b[39m \u001b[43msparse_pairwise_distances\u001b[49m\u001b[43m(\u001b[49m\u001b[43mx\u001b[49m\u001b[43m,\u001b[49m\u001b[43m \u001b[49m\u001b[43mtfidf\u001b[49m\u001b[43m,\u001b[49m\u001b[43m \u001b[49m\u001b[43mmetric\u001b[49m\u001b[38;5;241;43m=\u001b[39;49m\u001b[38;5;124;43m'\u001b[39;49m\u001b[38;5;124;43meuclidean\u001b[39;49m\u001b[38;5;124;43m'\u001b[39;49m\u001b[43m)\u001b[49m\n\u001b[1;32m     32\u001b[0m     distances\u001b[38;5;241m.\u001b[39mappend(distance)\n\u001b[1;32m     33\u001b[0m     \u001b[38;5;28;01mdel\u001b[39;00m x\n",
      "File \u001b[0;32m~/miniconda3/envs/rapids/lib/python3.9/site-packages/cuml/internals/api_decorators.py:465\u001b[0m, in \u001b[0;36mReturnArrayDecorator.__call__.<locals>.inner_with_getters\u001b[0;34m(*args, **kwargs)\u001b[0m\n\u001b[1;32m    461\u001b[0m     \u001b[39mself\u001b[39m\u001b[39m.\u001b[39mdo_getters_no_self(input_val\u001b[39m=\u001b[39minput_val,\n\u001b[1;32m    462\u001b[0m                             target_val\u001b[39m=\u001b[39mtarget_val)\n\u001b[1;32m    464\u001b[0m     \u001b[39m# Call the function\u001b[39;00m\n\u001b[0;32m--> 465\u001b[0m     ret_val \u001b[39m=\u001b[39m func(\u001b[39m*\u001b[39;49margs, \u001b[39m*\u001b[39;49m\u001b[39m*\u001b[39;49mkwargs)\n\u001b[1;32m    467\u001b[0m \u001b[39mreturn\u001b[39;00m cm\u001b[39m.\u001b[39mprocess_return(ret_val)\n",
      "File \u001b[0;32mpairwise_distances.pyx:436\u001b[0m, in \u001b[0;36mcuml.metrics.pairwise_distances.sparse_pairwise_distances\u001b[0;34m()\u001b[0m\n",
      "File \u001b[0;32m~/miniconda3/envs/rapids/lib/python3.9/site-packages/cupyx/scipy/sparse/data.py:47\u001b[0m, in \u001b[0;36m_data_matrix.astype\u001b[0;34m(self, t)\u001b[0m\n\u001b[1;32m     37\u001b[0m \u001b[39mdef\u001b[39;00m \u001b[39mastype\u001b[39m(\u001b[39mself\u001b[39m, t):\n\u001b[1;32m     38\u001b[0m     \u001b[39m\"\"\"Casts the array to given data type.\u001b[39;00m\n\u001b[1;32m     39\u001b[0m \n\u001b[1;32m     40\u001b[0m \u001b[39m    Args:\u001b[39;00m\n\u001b[0;32m   (...)\u001b[0m\n\u001b[1;32m     45\u001b[0m \n\u001b[1;32m     46\u001b[0m \u001b[39m    \"\"\"\u001b[39;00m\n\u001b[0;32m---> 47\u001b[0m     \u001b[39mreturn\u001b[39;00m \u001b[39mself\u001b[39;49m\u001b[39m.\u001b[39;49m_with_data(\u001b[39mself\u001b[39;49m\u001b[39m.\u001b[39;49mdata\u001b[39m.\u001b[39;49mastype(t))\n",
      "File \u001b[0;32m~/miniconda3/envs/rapids/lib/python3.9/site-packages/cupyx/scipy/sparse/compressed.py:302\u001b[0m, in \u001b[0;36m_compressed_sparse_matrix._with_data\u001b[0;34m(self, data, copy)\u001b[0m\n\u001b[1;32m    299\u001b[0m \u001b[39mdef\u001b[39;00m \u001b[39m_with_data\u001b[39m(\u001b[39mself\u001b[39m, data, copy\u001b[39m=\u001b[39m\u001b[39mTrue\u001b[39;00m):\n\u001b[1;32m    300\u001b[0m     \u001b[39mif\u001b[39;00m copy:\n\u001b[1;32m    301\u001b[0m         \u001b[39mreturn\u001b[39;00m \u001b[39mself\u001b[39m\u001b[39m.\u001b[39m\u001b[39m__class__\u001b[39m(\n\u001b[0;32m--> 302\u001b[0m             (data, \u001b[39mself\u001b[39;49m\u001b[39m.\u001b[39;49mindices\u001b[39m.\u001b[39;49mcopy(), \u001b[39mself\u001b[39m\u001b[39m.\u001b[39mindptr\u001b[39m.\u001b[39mcopy()),\n\u001b[1;32m    303\u001b[0m             shape\u001b[39m=\u001b[39m\u001b[39mself\u001b[39m\u001b[39m.\u001b[39mshape,\n\u001b[1;32m    304\u001b[0m             dtype\u001b[39m=\u001b[39mdata\u001b[39m.\u001b[39mdtype)\n\u001b[1;32m    305\u001b[0m     \u001b[39melse\u001b[39;00m:\n\u001b[1;32m    306\u001b[0m         \u001b[39mreturn\u001b[39;00m \u001b[39mself\u001b[39m\u001b[39m.\u001b[39m\u001b[39m__class__\u001b[39m(\n\u001b[1;32m    307\u001b[0m             (data, \u001b[39mself\u001b[39m\u001b[39m.\u001b[39mindices, \u001b[39mself\u001b[39m\u001b[39m.\u001b[39mindptr),\n\u001b[1;32m    308\u001b[0m             shape\u001b[39m=\u001b[39m\u001b[39mself\u001b[39m\u001b[39m.\u001b[39mshape,\n\u001b[1;32m    309\u001b[0m             dtype\u001b[39m=\u001b[39mdata\u001b[39m.\u001b[39mdtype)\n",
      "File \u001b[0;32mcupy/_core/core.pyx:537\u001b[0m, in \u001b[0;36mcupy._core.core.ndarray.copy\u001b[0;34m()\u001b[0m\n",
      "File \u001b[0;32mcupy/_core/core.pyx:563\u001b[0m, in \u001b[0;36mcupy._core.core.ndarray.copy\u001b[0;34m()\u001b[0m\n",
      "File \u001b[0;32mcupy/_core/core.pyx:522\u001b[0m, in \u001b[0;36mcupy._core.core.ndarray.astype\u001b[0;34m()\u001b[0m\n",
      "File \u001b[0;32mcupy/_core/core.pyx:171\u001b[0m, in \u001b[0;36mcupy._core.core.ndarray.__init__\u001b[0;34m()\u001b[0m\n",
      "File \u001b[0;32mcupy/cuda/memory.pyx:698\u001b[0m, in \u001b[0;36mcupy.cuda.memory.alloc\u001b[0;34m()\u001b[0m\n",
      "File \u001b[0;32m~/miniconda3/envs/rapids/lib/python3.9/site-packages/rmm/rmm.py:232\u001b[0m, in \u001b[0;36mrmm_cupy_allocator\u001b[0;34m(nbytes)\u001b[0m\n\u001b[1;32m    229\u001b[0m     \u001b[39mraise\u001b[39;00m \u001b[39mModuleNotFoundError\u001b[39;00m(\u001b[39m\"\u001b[39m\u001b[39mNo module named \u001b[39m\u001b[39m'\u001b[39m\u001b[39mcupy\u001b[39m\u001b[39m'\u001b[39m\u001b[39m\"\u001b[39m)\n\u001b[1;32m    231\u001b[0m stream \u001b[39m=\u001b[39m Stream(obj\u001b[39m=\u001b[39mcupy\u001b[39m.\u001b[39mcuda\u001b[39m.\u001b[39mget_current_stream())\n\u001b[0;32m--> 232\u001b[0m buf \u001b[39m=\u001b[39m librmm\u001b[39m.\u001b[39;49mdevice_buffer\u001b[39m.\u001b[39;49mDeviceBuffer(size\u001b[39m=\u001b[39;49mnbytes, stream\u001b[39m=\u001b[39;49mstream)\n\u001b[1;32m    233\u001b[0m dev_id \u001b[39m=\u001b[39m \u001b[39m-\u001b[39m\u001b[39m1\u001b[39m \u001b[39mif\u001b[39;00m buf\u001b[39m.\u001b[39mptr \u001b[39melse\u001b[39;00m cupy\u001b[39m.\u001b[39mcuda\u001b[39m.\u001b[39mdevice\u001b[39m.\u001b[39mget_device_id()\n\u001b[1;32m    234\u001b[0m mem \u001b[39m=\u001b[39m cupy\u001b[39m.\u001b[39mcuda\u001b[39m.\u001b[39mUnownedMemory(\n\u001b[1;32m    235\u001b[0m     ptr\u001b[39m=\u001b[39mbuf\u001b[39m.\u001b[39mptr, size\u001b[39m=\u001b[39mbuf\u001b[39m.\u001b[39msize, owner\u001b[39m=\u001b[39mbuf, device_id\u001b[39m=\u001b[39mdev_id\n\u001b[1;32m    236\u001b[0m )\n",
      "File \u001b[0;32mdevice_buffer.pyx:88\u001b[0m, in \u001b[0;36mrmm._lib.device_buffer.DeviceBuffer.__cinit__\u001b[0;34m()\u001b[0m\n",
      "\u001b[0;31mMemoryError\u001b[0m: std::bad_alloc: out_of_memory: CUDA error at: /home/test/miniconda3/envs/rapids/include/rmm/mr/device/cuda_memory_resource.hpp"
     ]
    }
   ],
   "source": [
    "test = get_distances(batch_size=80000, upperbound=0.1)"
   ]
  },
  {
   "cell_type": "code",
   "execution_count": null,
   "id": "2245a8d1-7d5b-4156-a8f3-8f7744e7f3ab",
   "metadata": {},
   "outputs": [],
   "source": [
    "def distance_deduplicate(distance_batch, batch_dataframe, upperbound, lowerbound, indices):\n",
    "    for i, row in enumerate(distance_batch):\n",
    "        arg_sorted = cp.argsort(row)\n",
    "        sorted_array = row[arg_sorted]\n",
    "        candidates = get_candidates(sorted_array, arg_sorted, upper=upperbound)\n",
    "        df_candidates = [indices[int(i)] for i in candidates[1:]] #the ones to be deleted\n",
    "        original_index = indices[i] #the one to keep\n",
    "        \n",
    "        \n",
    "        "
   ]
  },
  {
   "cell_type": "code",
   "execution_count": 36,
   "id": "14b4e6da-bdda-48ad-a44f-824af88c5c8a",
   "metadata": {},
   "outputs": [
    {
     "name": "stdout",
     "output_type": "stream",
     "text": [
      "original dataframe shape: (2586631, 4)\n",
      "df_filtered shape: (1149916, 4)\n",
      "numbers of exam types before: 985\n",
      "types after filtering: Index(['ARCK', 'ARRT', 'ARRTRBS', 'ARSB'], dtype='object', name='exam_type')\n",
      "number of exam types after filtering: 4\n",
      "exam type: ARCK\n",
      "number of documents: (100888, 4)\n",
      "exam type: ARRT\n",
      "number of documents: (474268, 4)\n",
      "exam type: ARRTRBS\n",
      "number of documents: (449008, 4)\n",
      "exam type: ARSB\n",
      "number of documents: (125752, 4)\n"
     ]
    }
   ],
   "source": [
    "test = get_matches(upperbound=0.2, batch_size=12000, filter=100000)"
   ]
  },
  {
   "cell_type": "code",
   "execution_count": 37,
   "id": "6f4abb12-9ddb-491a-aaef-22c28724d177",
   "metadata": {},
   "outputs": [
    {
     "data": {
      "text/plain": [
       "{699394: ([709879], array([0.17644596], dtype=float32)),\n",
       " 921246: ([944357, 975710, 1026933],\n",
       "  array([0.        , 0.        , 0.12366536], dtype=float32)),\n",
       " 2951520: ([2951641], array([0.18948333], dtype=float32)),\n",
       " 2951641: ([2951520], array([0.18948396], dtype=float32)),\n",
       " 3127460: ([3191707], array([0.12182397], dtype=float32)),\n",
       " 1290517: ([1378183, 1585015, 1596270],\n",
       "  array([0.18931544, 0.1893159 , 0.19431907], dtype=float32)),\n",
       " 2135117: ([2135162, 2234454], array([0., 0.], dtype=float32)),\n",
       " 2135162: ([2135162, 2234454], array([0., 0.], dtype=float32)),\n",
       " 2135242: ([2147647], array([0.], dtype=float32)),\n",
       " 2567179: ([2773351], array([0.], dtype=float32)),\n",
       " 3431773: ([3546338], array([0.16418308], dtype=float32))}"
      ]
     },
     "execution_count": 37,
     "metadata": {},
     "output_type": "execute_result"
    }
   ],
   "source": [
    "test"
   ]
  },
  {
   "cell_type": "code",
   "execution_count": 28,
   "id": "8f75c694-512b-4af8-b13d-b851c5dffd44",
   "metadata": {},
   "outputs": [
    {
     "name": "stdout",
     "output_type": "stream",
     "text": [
      "original dataframe shape: (2586631, 4)\n",
      "df_filtered shape: (1149916, 4)\n",
      "numbers of exam types before: 985\n",
      "types after filtering: Index(['ARCK', 'ARRT', 'ARRTRBS', 'ARSB'], dtype='object', name='exam_type')\n",
      "number of exam types after filtering: 4\n"
     ]
    }
   ],
   "source": [
    "df = load_frame()[0]"
   ]
  },
  {
   "cell_type": "code",
   "execution_count": 34,
   "id": "6d6e28ae-19ab-4732-b8b2-a1da941a42f6",
   "metadata": {},
   "outputs": [
    {
     "name": "stdout",
     "output_type": "stream",
     "text": [
      "Sonographie gesamtes Abdomen vom   Klinik Fragestellung Rechtfertigende Indikation  Schockraummanagement Verkehrsunfall FAST   Befund und Beurteilung   Sonographisch kein Nachweis einer Verletzung der parenchymatösen Abdominalorgane  Keine freie intraabdominelle Flüssigkeit abzugrenzen  Soweit einsehbar basal kein wesentlicher Pleura oder Perikarderguss  Harnblase gut gefüllt echofreies Binnenmuster  \n"
     ]
    }
   ],
   "source": [
    "print(df.loc[2135117]['text'])"
   ]
  },
  {
   "cell_type": "code",
   "execution_count": 35,
   "id": "cf285aab-3779-4147-a071-55c56575a490",
   "metadata": {},
   "outputs": [
    {
     "data": {
      "text/plain": [
       "'Sonographie gesamtes Abdomen vom   Klinik Fragestellung Rechtfertigende Indikation  Schockraummanagement FAST Verkehrsunfall  Befund und Beurteilung   Sonographisch kein Nachweis einer Verletzung der parenchymatösen Abdominalorgane  Keine freie intraabdominelle Flüssigkeit abzugrenzen  Soweit einsehbar basal kein wesentlicher Pleura oder Perikarderguss  Harnblase gut gefüllt echofreies Binnenmuster   '"
      ]
     },
     "execution_count": 35,
     "metadata": {},
     "output_type": "execute_result"
    }
   ],
   "source": [
    "df.loc[2234454]['text']"
   ]
  },
  {
   "cell_type": "code",
   "execution_count": 42,
   "id": "6fbfef05-b894-4d0b-96d7-67a44f49b22e",
   "metadata": {},
   "outputs": [],
   "source": [
    "deleted_items = []"
   ]
  },
  {
   "cell_type": "code",
   "execution_count": 43,
   "id": "14e6a7e8-4931-4c21-8c24-b7d472dd9a3c",
   "metadata": {},
   "outputs": [
    {
     "name": "stdout",
     "output_type": "stream",
     "text": [
      "699394 [709879]\n",
      "deleted item: [709879]\n",
      "True\n",
      "921246 [944357, 975710, 1026933]\n",
      "deleted item: [709879, 699394, 944357]\n",
      "deleted item: [709879, 699394, 944357, 975710]\n",
      "deleted item: [709879, 699394, 944357, 975710, 1026933]\n",
      "True\n",
      "2951520 [2951641]\n",
      "deleted item: [709879, 699394, 944357, 975710, 1026933, 921246, 2951641]\n",
      "True\n",
      "2951641 []\n",
      "3127460 [3191707]\n",
      "deleted item: [709879, 699394, 944357, 975710, 1026933, 921246, 2951641, 2951520, 3191707]\n",
      "True\n",
      "1290517 [1378183, 1585015, 1596270]\n",
      "deleted item: [709879, 699394, 944357, 975710, 1026933, 921246, 2951641, 2951520, 3191707, 3127460, 1378183]\n",
      "deleted item: [709879, 699394, 944357, 975710, 1026933, 921246, 2951641, 2951520, 3191707, 3127460, 1378183, 1585015]\n",
      "deleted item: [709879, 699394, 944357, 975710, 1026933, 921246, 2951641, 2951520, 3191707, 3127460, 1378183, 1585015, 1596270]\n",
      "True\n",
      "2135117 [2135162, 2234454]\n",
      "deleted item: [709879, 699394, 944357, 975710, 1026933, 921246, 2951641, 2951520, 3191707, 3127460, 1378183, 1585015, 1596270, 1290517, 2135162]\n",
      "deleted item: [709879, 699394, 944357, 975710, 1026933, 921246, 2951641, 2951520, 3191707, 3127460, 1378183, 1585015, 1596270, 1290517, 2135162, 2234454]\n",
      "True\n",
      "2135162 []\n",
      "2135242 [2147647]\n",
      "deleted item: [709879, 699394, 944357, 975710, 1026933, 921246, 2951641, 2951520, 3191707, 3127460, 1378183, 1585015, 1596270, 1290517, 2135162, 2234454, 2135117, 2147647]\n",
      "True\n",
      "2567179 [2773351]\n",
      "deleted item: [709879, 699394, 944357, 975710, 1026933, 921246, 2951641, 2951520, 3191707, 3127460, 1378183, 1585015, 1596270, 1290517, 2135162, 2234454, 2135117, 2147647, 2135242, 2773351]\n",
      "True\n",
      "3431773 [3546338]\n",
      "deleted item: [709879, 699394, 944357, 975710, 1026933, 921246, 2951641, 2951520, 3191707, 3127460, 1378183, 1585015, 1596270, 1290517, 2135162, 2234454, 2135117, 2147647, 2135242, 2773351, 2567179, 3546338]\n",
      "True\n"
     ]
    }
   ],
   "source": [
    "for i, j in test.items():\n",
    "    items_to_delete = [i for i in j[0] if i not in deleted_items]\n",
    "    print(i, items_to_delete)\n",
    "    for ij in items_to_delete:\n",
    "        deleted_items.append(ij)\n",
    "        print(f'deleted item: {deleted_items}')\n",
    "    if i not in deleted_items:\n",
    "        print('True')\n",
    "        df = df.drop([*items_to_delete])\n",
    "        deleted_items.append(i)\n"
   ]
  }
 ],
 "metadata": {
  "kernelspec": {
   "display_name": "Python 3 (ipykernel)",
   "language": "python",
   "name": "python3"
  },
  "language_info": {
   "codemirror_mode": {
    "name": "ipython",
    "version": 3
   },
   "file_extension": ".py",
   "mimetype": "text/x-python",
   "name": "python",
   "nbconvert_exporter": "python",
   "pygments_lexer": "ipython3",
   "version": "3.9.13"
  },
  "vscode": {
   "interpreter": {
    "hash": "53f3eceb40f4009eb0066205ad6cbfee3ad87f86a08e038ce869917275aafa93"
   }
  }
 },
 "nbformat": 4,
 "nbformat_minor": 5
}
